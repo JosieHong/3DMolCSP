{
 "cells": [
  {
   "cell_type": "code",
   "execution_count": 2,
   "id": "5d9bb13a",
   "metadata": {},
   "outputs": [],
   "source": [
    "from rdkit import Chem\n",
    "# suppress rdkit warning\n",
    "from rdkit import RDLogger\n",
    "RDLogger.DisableLog('rdApp.*')\n",
    "from rdkit.Chem import AllChem\n",
    "from rdkit.Chem.Draw import rdDepictor\n",
    "\n",
    "import py3Dmol"
   ]
  },
  {
   "cell_type": "code",
   "execution_count": 3,
   "id": "881f8fc8",
   "metadata": {},
   "outputs": [],
   "source": [
    "def show(smi, style='stick'):\n",
    "    mol = Chem.MolFromSmiles(smi)\n",
    "    mol = Chem.AddHs(mol)\n",
    "    AllChem.EmbedMolecule(mol)\n",
    "    AllChem.MMFFOptimizeMolecule(mol, maxIters=200)\n",
    "    mblock = Chem.MolToMolBlock(mol)\n",
    "    \n",
    "    view = py3Dmol.view(width=200, height=200)\n",
    "    view.addModel(mblock, 'mol')\n",
    "    view.setStyle({style:{}})\n",
    "    view.zoomTo()\n",
    "    view.show()"
   ]
  },
  {
   "cell_type": "code",
   "execution_count": 4,
   "id": "ba5a1738",
   "metadata": {},
   "outputs": [
    {
     "data": {
      "application/3dmoljs_load.v0": "<div id=\"3dmolviewer_16889557554952102\"  style=\"position: relative; width: 200px; height: 200px;\">\n        <p id=\"3dmolwarning_16889557554952102\" style=\"background-color:#ffcccc;color:black\">You appear to be running in JupyterLab (or JavaScript failed to load for some other reason).  You need to install the 3dmol extension: <br>\n        <tt>jupyter labextension install jupyterlab_3dmol</tt></p>\n        </div>\n<script>\n\nvar loadScriptAsync = function(uri){\n  return new Promise((resolve, reject) => {\n    //this is to ignore the existence of requirejs amd\n    var savedexports, savedmodule;\n    if (typeof exports !== 'undefined') savedexports = exports;\n    else exports = {}\n    if (typeof module !== 'undefined') savedmodule = module;\n    else module = {}\n\n    var tag = document.createElement('script');\n    tag.src = uri;\n    tag.async = true;\n    tag.onload = () => {\n        exports = savedexports;\n        module = savedmodule;\n        resolve();\n    };\n  var firstScriptTag = document.getElementsByTagName('script')[0];\n  firstScriptTag.parentNode.insertBefore(tag, firstScriptTag);\n});\n};\n\nif(typeof $3Dmolpromise === 'undefined') {\n$3Dmolpromise = null;\n  $3Dmolpromise = loadScriptAsync('https://cdnjs.cloudflare.com/ajax/libs/3Dmol/2.0.3/3Dmol-min.js');\n}\n\nvar viewer_16889557554952102 = null;\nvar warn = document.getElementById(\"3dmolwarning_16889557554952102\");\nif(warn) {\n    warn.parentNode.removeChild(warn);\n}\n$3Dmolpromise.then(function() {\nviewer_16889557554952102 = $3Dmol.createViewer(document.getElementById(\"3dmolviewer_16889557554952102\"),{backgroundColor:\"white\"});\nviewer_16889557554952102.zoomTo();\n\tviewer_16889557554952102.addModel(\"\\n     RDKit          3D\\n\\n  8  7  0  0  0  0  0  0  0  0999 V2000\\n   -0.7558    0.0071   -0.0160 C   0  0  0  0  0  0  0  0  0  0  0  0\\n    0.7558   -0.0071    0.0160 C   0  0  0  0  0  0  0  0  0  0  0  0\\n   -1.1627   -0.1018    0.9937 H   0  0  0  0  0  0  0  0  0  0  0  0\\n   -1.1225    0.9487   -0.4356 H   0  0  0  0  0  0  0  0  0  0  0  0\\n   -1.1350   -0.8147   -0.6307 H   0  0  0  0  0  0  0  0  0  0  0  0\\n    1.1350    0.8148    0.6307 H   0  0  0  0  0  0  0  0  0  0  0  0\\n    1.1627    0.1018   -0.9937 H   0  0  0  0  0  0  0  0  0  0  0  0\\n    1.1226   -0.9487    0.4356 H   0  0  0  0  0  0  0  0  0  0  0  0\\n  1  2  1  0\\n  1  3  1  0\\n  1  4  1  0\\n  1  5  1  0\\n  2  6  1  0\\n  2  7  1  0\\n  2  8  1  0\\nM  END\\n\",\"mol\");\n\tviewer_16889557554952102.setStyle({\"stick\": {}});\n\tviewer_16889557554952102.zoomTo();\nviewer_16889557554952102.render();\n});\n</script>",
      "text/html": [
       "<div id=\"3dmolviewer_16889557554952102\"  style=\"position: relative; width: 200px; height: 200px;\">\n",
       "        <p id=\"3dmolwarning_16889557554952102\" style=\"background-color:#ffcccc;color:black\">You appear to be running in JupyterLab (or JavaScript failed to load for some other reason).  You need to install the 3dmol extension: <br>\n",
       "        <tt>jupyter labextension install jupyterlab_3dmol</tt></p>\n",
       "        </div>\n",
       "<script>\n",
       "\n",
       "var loadScriptAsync = function(uri){\n",
       "  return new Promise((resolve, reject) => {\n",
       "    //this is to ignore the existence of requirejs amd\n",
       "    var savedexports, savedmodule;\n",
       "    if (typeof exports !== 'undefined') savedexports = exports;\n",
       "    else exports = {}\n",
       "    if (typeof module !== 'undefined') savedmodule = module;\n",
       "    else module = {}\n",
       "\n",
       "    var tag = document.createElement('script');\n",
       "    tag.src = uri;\n",
       "    tag.async = true;\n",
       "    tag.onload = () => {\n",
       "        exports = savedexports;\n",
       "        module = savedmodule;\n",
       "        resolve();\n",
       "    };\n",
       "  var firstScriptTag = document.getElementsByTagName('script')[0];\n",
       "  firstScriptTag.parentNode.insertBefore(tag, firstScriptTag);\n",
       "});\n",
       "};\n",
       "\n",
       "if(typeof $3Dmolpromise === 'undefined') {\n",
       "$3Dmolpromise = null;\n",
       "  $3Dmolpromise = loadScriptAsync('https://cdnjs.cloudflare.com/ajax/libs/3Dmol/2.0.3/3Dmol-min.js');\n",
       "}\n",
       "\n",
       "var viewer_16889557554952102 = null;\n",
       "var warn = document.getElementById(\"3dmolwarning_16889557554952102\");\n",
       "if(warn) {\n",
       "    warn.parentNode.removeChild(warn);\n",
       "}\n",
       "$3Dmolpromise.then(function() {\n",
       "viewer_16889557554952102 = $3Dmol.createViewer(document.getElementById(\"3dmolviewer_16889557554952102\"),{backgroundColor:\"white\"});\n",
       "viewer_16889557554952102.zoomTo();\n",
       "\tviewer_16889557554952102.addModel(\"\\n     RDKit          3D\\n\\n  8  7  0  0  0  0  0  0  0  0999 V2000\\n   -0.7558    0.0071   -0.0160 C   0  0  0  0  0  0  0  0  0  0  0  0\\n    0.7558   -0.0071    0.0160 C   0  0  0  0  0  0  0  0  0  0  0  0\\n   -1.1627   -0.1018    0.9937 H   0  0  0  0  0  0  0  0  0  0  0  0\\n   -1.1225    0.9487   -0.4356 H   0  0  0  0  0  0  0  0  0  0  0  0\\n   -1.1350   -0.8147   -0.6307 H   0  0  0  0  0  0  0  0  0  0  0  0\\n    1.1350    0.8148    0.6307 H   0  0  0  0  0  0  0  0  0  0  0  0\\n    1.1627    0.1018   -0.9937 H   0  0  0  0  0  0  0  0  0  0  0  0\\n    1.1226   -0.9487    0.4356 H   0  0  0  0  0  0  0  0  0  0  0  0\\n  1  2  1  0\\n  1  3  1  0\\n  1  4  1  0\\n  1  5  1  0\\n  2  6  1  0\\n  2  7  1  0\\n  2  8  1  0\\nM  END\\n\",\"mol\");\n",
       "\tviewer_16889557554952102.setStyle({\"stick\": {}});\n",
       "\tviewer_16889557554952102.zoomTo();\n",
       "viewer_16889557554952102.render();\n",
       "});\n",
       "</script>"
      ]
     },
     "metadata": {},
     "output_type": "display_data"
    }
   ],
   "source": [
    "# example\n",
    "show('CC')  # or 'P'"
   ]
  },
  {
   "cell_type": "code",
   "execution_count": 5,
   "id": "41984975",
   "metadata": {},
   "outputs": [
    {
     "data": {
      "application/3dmoljs_load.v0": "<div id=\"3dmolviewer_16889557557378502\"  style=\"position: relative; width: 200px; height: 200px;\">\n        <p id=\"3dmolwarning_16889557557378502\" style=\"background-color:#ffcccc;color:black\">You appear to be running in JupyterLab (or JavaScript failed to load for some other reason).  You need to install the 3dmol extension: <br>\n        <tt>jupyter labextension install jupyterlab_3dmol</tt></p>\n        </div>\n<script>\n\nvar loadScriptAsync = function(uri){\n  return new Promise((resolve, reject) => {\n    //this is to ignore the existence of requirejs amd\n    var savedexports, savedmodule;\n    if (typeof exports !== 'undefined') savedexports = exports;\n    else exports = {}\n    if (typeof module !== 'undefined') savedmodule = module;\n    else module = {}\n\n    var tag = document.createElement('script');\n    tag.src = uri;\n    tag.async = true;\n    tag.onload = () => {\n        exports = savedexports;\n        module = savedmodule;\n        resolve();\n    };\n  var firstScriptTag = document.getElementsByTagName('script')[0];\n  firstScriptTag.parentNode.insertBefore(tag, firstScriptTag);\n});\n};\n\nif(typeof $3Dmolpromise === 'undefined') {\n$3Dmolpromise = null;\n  $3Dmolpromise = loadScriptAsync('https://cdnjs.cloudflare.com/ajax/libs/3Dmol/2.0.3/3Dmol-min.js');\n}\n\nvar viewer_16889557557378502 = null;\nvar warn = document.getElementById(\"3dmolwarning_16889557557378502\");\nif(warn) {\n    warn.parentNode.removeChild(warn);\n}\n$3Dmolpromise.then(function() {\nviewer_16889557557378502 = $3Dmol.createViewer(document.getElementById(\"3dmolviewer_16889557557378502\"),{backgroundColor:\"white\"});\nviewer_16889557557378502.zoomTo();\n\tviewer_16889557557378502.addModel(\"\\n     RDKit          3D\\n\\n 16 15  0  0  0  0  0  0  0  0999 V2000\\n   -2.0173    1.4873   -0.2363 F   0  0  0  0  0  0  0  0  0  0  0  0\\n   -2.7185    0.4240    0.2366 C   0  0  0  0  0  0  0  0  0  0  0  0\\n   -3.3472    0.8241    1.8476 Cl  0  0  0  0  0  0  0  0  0  0  0  0\\n   -1.9082   -0.8336    0.3146 C   0  0  0  0  0  0  0  0  0  0  0  0\\n   -0.5862   -1.0322    0.1816 C   0  0  0  0  0  0  0  0  0  0  0  0\\n    0.4257   -0.0269   -0.0437 C   0  0  0  0  0  0  0  0  0  0  0  0\\n    1.7255   -0.3304   -0.1915 C   0  0  0  0  0  0  0  0  0  0  0  0\\n    2.8104    0.6753   -0.4074 C   0  0  0  0  0  0  0  0  0  0  0  0\\n    3.7946    0.4963    0.5140 F   0  0  0  0  0  0  0  0  0  0  0  0\\n    3.5017    0.4637   -2.0289 Cl  0  0  0  0  0  0  0  0  0  0  0  0\\n   -3.5716    0.2748   -0.4315 H   0  0  0  0  0  0  0  0  0  0  0  0\\n   -2.5143   -1.7212    0.4936 H   0  0  0  0  0  0  0  0  0  0  0  0\\n   -0.2270   -2.0590    0.2654 H   0  0  0  0  0  0  0  0  0  0  0  0\\n    0.1185    1.0150   -0.0874 H   0  0  0  0  0  0  0  0  0  0  0  0\\n    2.0619   -1.3624   -0.1380 H   0  0  0  0  0  0  0  0  0  0  0  0\\n    2.4522    1.7052   -0.3215 H   0  0  0  0  0  0  0  0  0  0  0  0\\n  1  2  1  0\\n  2  3  1  0\\n  2  4  1  0\\n  4  5  2  3\\n  5  6  1  0\\n  6  7  2  3\\n  7  8  1  0\\n  8  9  1  0\\n  8 10  1  0\\n  2 11  1  0\\n  4 12  1  0\\n  5 13  1  0\\n  6 14  1  0\\n  7 15  1  0\\n  8 16  1  0\\nM  END\\n\",\"mol\");\n\tviewer_16889557557378502.setStyle({\"stick\": {}});\n\tviewer_16889557557378502.zoomTo();\nviewer_16889557557378502.render();\n});\n</script>",
      "text/html": [
       "<div id=\"3dmolviewer_16889557557378502\"  style=\"position: relative; width: 200px; height: 200px;\">\n",
       "        <p id=\"3dmolwarning_16889557557378502\" style=\"background-color:#ffcccc;color:black\">You appear to be running in JupyterLab (or JavaScript failed to load for some other reason).  You need to install the 3dmol extension: <br>\n",
       "        <tt>jupyter labextension install jupyterlab_3dmol</tt></p>\n",
       "        </div>\n",
       "<script>\n",
       "\n",
       "var loadScriptAsync = function(uri){\n",
       "  return new Promise((resolve, reject) => {\n",
       "    //this is to ignore the existence of requirejs amd\n",
       "    var savedexports, savedmodule;\n",
       "    if (typeof exports !== 'undefined') savedexports = exports;\n",
       "    else exports = {}\n",
       "    if (typeof module !== 'undefined') savedmodule = module;\n",
       "    else module = {}\n",
       "\n",
       "    var tag = document.createElement('script');\n",
       "    tag.src = uri;\n",
       "    tag.async = true;\n",
       "    tag.onload = () => {\n",
       "        exports = savedexports;\n",
       "        module = savedmodule;\n",
       "        resolve();\n",
       "    };\n",
       "  var firstScriptTag = document.getElementsByTagName('script')[0];\n",
       "  firstScriptTag.parentNode.insertBefore(tag, firstScriptTag);\n",
       "});\n",
       "};\n",
       "\n",
       "if(typeof $3Dmolpromise === 'undefined') {\n",
       "$3Dmolpromise = null;\n",
       "  $3Dmolpromise = loadScriptAsync('https://cdnjs.cloudflare.com/ajax/libs/3Dmol/2.0.3/3Dmol-min.js');\n",
       "}\n",
       "\n",
       "var viewer_16889557557378502 = null;\n",
       "var warn = document.getElementById(\"3dmolwarning_16889557557378502\");\n",
       "if(warn) {\n",
       "    warn.parentNode.removeChild(warn);\n",
       "}\n",
       "$3Dmolpromise.then(function() {\n",
       "viewer_16889557557378502 = $3Dmol.createViewer(document.getElementById(\"3dmolviewer_16889557557378502\"),{backgroundColor:\"white\"});\n",
       "viewer_16889557557378502.zoomTo();\n",
       "\tviewer_16889557557378502.addModel(\"\\n     RDKit          3D\\n\\n 16 15  0  0  0  0  0  0  0  0999 V2000\\n   -2.0173    1.4873   -0.2363 F   0  0  0  0  0  0  0  0  0  0  0  0\\n   -2.7185    0.4240    0.2366 C   0  0  0  0  0  0  0  0  0  0  0  0\\n   -3.3472    0.8241    1.8476 Cl  0  0  0  0  0  0  0  0  0  0  0  0\\n   -1.9082   -0.8336    0.3146 C   0  0  0  0  0  0  0  0  0  0  0  0\\n   -0.5862   -1.0322    0.1816 C   0  0  0  0  0  0  0  0  0  0  0  0\\n    0.4257   -0.0269   -0.0437 C   0  0  0  0  0  0  0  0  0  0  0  0\\n    1.7255   -0.3304   -0.1915 C   0  0  0  0  0  0  0  0  0  0  0  0\\n    2.8104    0.6753   -0.4074 C   0  0  0  0  0  0  0  0  0  0  0  0\\n    3.7946    0.4963    0.5140 F   0  0  0  0  0  0  0  0  0  0  0  0\\n    3.5017    0.4637   -2.0289 Cl  0  0  0  0  0  0  0  0  0  0  0  0\\n   -3.5716    0.2748   -0.4315 H   0  0  0  0  0  0  0  0  0  0  0  0\\n   -2.5143   -1.7212    0.4936 H   0  0  0  0  0  0  0  0  0  0  0  0\\n   -0.2270   -2.0590    0.2654 H   0  0  0  0  0  0  0  0  0  0  0  0\\n    0.1185    1.0150   -0.0874 H   0  0  0  0  0  0  0  0  0  0  0  0\\n    2.0619   -1.3624   -0.1380 H   0  0  0  0  0  0  0  0  0  0  0  0\\n    2.4522    1.7052   -0.3215 H   0  0  0  0  0  0  0  0  0  0  0  0\\n  1  2  1  0\\n  2  3  1  0\\n  2  4  1  0\\n  4  5  2  3\\n  5  6  1  0\\n  6  7  2  3\\n  7  8  1  0\\n  8  9  1  0\\n  8 10  1  0\\n  2 11  1  0\\n  4 12  1  0\\n  5 13  1  0\\n  6 14  1  0\\n  7 15  1  0\\n  8 16  1  0\\nM  END\\n\",\"mol\");\n",
       "\tviewer_16889557557378502.setStyle({\"stick\": {}});\n",
       "\tviewer_16889557557378502.zoomTo();\n",
       "viewer_16889557557378502.render();\n",
       "});\n",
       "</script>"
      ]
     },
     "metadata": {},
     "output_type": "display_data"
    }
   ],
   "source": [
    "show('FC(Cl)C=CC=CC(F)Cl')"
   ]
  },
  {
   "cell_type": "code",
   "execution_count": 6,
   "id": "1998dd17",
   "metadata": {},
   "outputs": [
    {
     "data": {
      "application/3dmoljs_load.v0": "<div id=\"3dmolviewer_16889557559651647\"  style=\"position: relative; width: 200px; height: 200px;\">\n        <p id=\"3dmolwarning_16889557559651647\" style=\"background-color:#ffcccc;color:black\">You appear to be running in JupyterLab (or JavaScript failed to load for some other reason).  You need to install the 3dmol extension: <br>\n        <tt>jupyter labextension install jupyterlab_3dmol</tt></p>\n        </div>\n<script>\n\nvar loadScriptAsync = function(uri){\n  return new Promise((resolve, reject) => {\n    //this is to ignore the existence of requirejs amd\n    var savedexports, savedmodule;\n    if (typeof exports !== 'undefined') savedexports = exports;\n    else exports = {}\n    if (typeof module !== 'undefined') savedmodule = module;\n    else module = {}\n\n    var tag = document.createElement('script');\n    tag.src = uri;\n    tag.async = true;\n    tag.onload = () => {\n        exports = savedexports;\n        module = savedmodule;\n        resolve();\n    };\n  var firstScriptTag = document.getElementsByTagName('script')[0];\n  firstScriptTag.parentNode.insertBefore(tag, firstScriptTag);\n});\n};\n\nif(typeof $3Dmolpromise === 'undefined') {\n$3Dmolpromise = null;\n  $3Dmolpromise = loadScriptAsync('https://cdnjs.cloudflare.com/ajax/libs/3Dmol/2.0.3/3Dmol-min.js');\n}\n\nvar viewer_16889557559651647 = null;\nvar warn = document.getElementById(\"3dmolwarning_16889557559651647\");\nif(warn) {\n    warn.parentNode.removeChild(warn);\n}\n$3Dmolpromise.then(function() {\nviewer_16889557559651647 = $3Dmol.createViewer(document.getElementById(\"3dmolviewer_16889557559651647\"),{backgroundColor:\"white\"});\nviewer_16889557559651647.zoomTo();\n\tviewer_16889557559651647.addModel(\"\\n     RDKit          3D\\n\\n 16 15  0  0  0  0  0  0  0  0999 V2000\\n   -2.1136    1.4635    1.5488 F   0  0  0  0  0  0  0  0  0  0  0  0\\n   -2.6646    0.3141    1.0721 C   0  0  0  0  0  0  0  0  0  0  0  0\\n   -3.1644   -0.6923    2.4446 Cl  0  0  0  0  0  0  0  0  0  0  0  0\\n   -1.7004   -0.4463    0.2147 C   0  0  0  0  0  0  0  0  0  0  0  0\\n   -0.4344   -0.0687   -0.0277 C   0  0  0  0  0  0  0  0  0  0  0  0\\n    0.4576   -0.8308   -0.8703 C   0  0  0  0  0  0  0  0  0  0  0  0\\n    1.7373   -0.5325   -1.1473 C   0  0  0  0  0  0  0  0  0  0  0  0\\n    2.5698    0.6025   -0.6443 C   0  0  0  0  0  0  0  0  0  0  0  0\\n    3.8031    0.1434   -0.2966 F   0  0  0  0  0  0  0  0  0  0  0  0\\n    2.7581    1.8120   -1.9307 Cl  0  0  0  0  0  0  0  0  0  0  0  0\\n   -3.5563    0.5818    0.4985 H   0  0  0  0  0  0  0  0  0  0  0  0\\n   -2.0929   -1.3571   -0.2304 H   0  0  0  0  0  0  0  0  0  0  0  0\\n   -0.0689    0.8499    0.4263 H   0  0  0  0  0  0  0  0  0  0  0  0\\n    0.0431   -1.7284   -1.3306 H   0  0  0  0  0  0  0  0  0  0  0  0\\n    2.2800   -1.2093   -1.8051 H   0  0  0  0  0  0  0  0  0  0  0  0\\n    2.1465    1.0981    0.2318 H   0  0  0  0  0  0  0  0  0  0  0  0\\n  1  2  1  0\\n  2  3  1  0\\n  2  4  1  0\\n  4  5  2  3\\n  5  6  1  0\\n  6  7  2  3\\n  7  8  1  0\\n  8  9  1  0\\n  8 10  1  0\\n  2 11  1  0\\n  4 12  1  0\\n  5 13  1  0\\n  6 14  1  0\\n  7 15  1  0\\n  8 16  1  0\\nM  END\\n\",\"mol\");\n\tviewer_16889557559651647.setStyle({\"stick\": {}});\n\tviewer_16889557559651647.zoomTo();\nviewer_16889557559651647.render();\n});\n</script>",
      "text/html": [
       "<div id=\"3dmolviewer_16889557559651647\"  style=\"position: relative; width: 200px; height: 200px;\">\n",
       "        <p id=\"3dmolwarning_16889557559651647\" style=\"background-color:#ffcccc;color:black\">You appear to be running in JupyterLab (or JavaScript failed to load for some other reason).  You need to install the 3dmol extension: <br>\n",
       "        <tt>jupyter labextension install jupyterlab_3dmol</tt></p>\n",
       "        </div>\n",
       "<script>\n",
       "\n",
       "var loadScriptAsync = function(uri){\n",
       "  return new Promise((resolve, reject) => {\n",
       "    //this is to ignore the existence of requirejs amd\n",
       "    var savedexports, savedmodule;\n",
       "    if (typeof exports !== 'undefined') savedexports = exports;\n",
       "    else exports = {}\n",
       "    if (typeof module !== 'undefined') savedmodule = module;\n",
       "    else module = {}\n",
       "\n",
       "    var tag = document.createElement('script');\n",
       "    tag.src = uri;\n",
       "    tag.async = true;\n",
       "    tag.onload = () => {\n",
       "        exports = savedexports;\n",
       "        module = savedmodule;\n",
       "        resolve();\n",
       "    };\n",
       "  var firstScriptTag = document.getElementsByTagName('script')[0];\n",
       "  firstScriptTag.parentNode.insertBefore(tag, firstScriptTag);\n",
       "});\n",
       "};\n",
       "\n",
       "if(typeof $3Dmolpromise === 'undefined') {\n",
       "$3Dmolpromise = null;\n",
       "  $3Dmolpromise = loadScriptAsync('https://cdnjs.cloudflare.com/ajax/libs/3Dmol/2.0.3/3Dmol-min.js');\n",
       "}\n",
       "\n",
       "var viewer_16889557559651647 = null;\n",
       "var warn = document.getElementById(\"3dmolwarning_16889557559651647\");\n",
       "if(warn) {\n",
       "    warn.parentNode.removeChild(warn);\n",
       "}\n",
       "$3Dmolpromise.then(function() {\n",
       "viewer_16889557559651647 = $3Dmol.createViewer(document.getElementById(\"3dmolviewer_16889557559651647\"),{backgroundColor:\"white\"});\n",
       "viewer_16889557559651647.zoomTo();\n",
       "\tviewer_16889557559651647.addModel(\"\\n     RDKit          3D\\n\\n 16 15  0  0  0  0  0  0  0  0999 V2000\\n   -2.1136    1.4635    1.5488 F   0  0  0  0  0  0  0  0  0  0  0  0\\n   -2.6646    0.3141    1.0721 C   0  0  0  0  0  0  0  0  0  0  0  0\\n   -3.1644   -0.6923    2.4446 Cl  0  0  0  0  0  0  0  0  0  0  0  0\\n   -1.7004   -0.4463    0.2147 C   0  0  0  0  0  0  0  0  0  0  0  0\\n   -0.4344   -0.0687   -0.0277 C   0  0  0  0  0  0  0  0  0  0  0  0\\n    0.4576   -0.8308   -0.8703 C   0  0  0  0  0  0  0  0  0  0  0  0\\n    1.7373   -0.5325   -1.1473 C   0  0  0  0  0  0  0  0  0  0  0  0\\n    2.5698    0.6025   -0.6443 C   0  0  0  0  0  0  0  0  0  0  0  0\\n    3.8031    0.1434   -0.2966 F   0  0  0  0  0  0  0  0  0  0  0  0\\n    2.7581    1.8120   -1.9307 Cl  0  0  0  0  0  0  0  0  0  0  0  0\\n   -3.5563    0.5818    0.4985 H   0  0  0  0  0  0  0  0  0  0  0  0\\n   -2.0929   -1.3571   -0.2304 H   0  0  0  0  0  0  0  0  0  0  0  0\\n   -0.0689    0.8499    0.4263 H   0  0  0  0  0  0  0  0  0  0  0  0\\n    0.0431   -1.7284   -1.3306 H   0  0  0  0  0  0  0  0  0  0  0  0\\n    2.2800   -1.2093   -1.8051 H   0  0  0  0  0  0  0  0  0  0  0  0\\n    2.1465    1.0981    0.2318 H   0  0  0  0  0  0  0  0  0  0  0  0\\n  1  2  1  0\\n  2  3  1  0\\n  2  4  1  0\\n  4  5  2  3\\n  5  6  1  0\\n  6  7  2  3\\n  7  8  1  0\\n  8  9  1  0\\n  8 10  1  0\\n  2 11  1  0\\n  4 12  1  0\\n  5 13  1  0\\n  6 14  1  0\\n  7 15  1  0\\n  8 16  1  0\\nM  END\\n\",\"mol\");\n",
       "\tviewer_16889557559651647.setStyle({\"stick\": {}});\n",
       "\tviewer_16889557559651647.zoomTo();\n",
       "viewer_16889557559651647.render();\n",
       "});\n",
       "</script>"
      ]
     },
     "metadata": {},
     "output_type": "display_data"
    }
   ],
   "source": [
    "show('FC(Cl)C=CC=CC(F)Cl')"
   ]
  },
  {
   "cell_type": "code",
   "execution_count": 7,
   "id": "066e3ca8",
   "metadata": {},
   "outputs": [
    {
     "data": {
      "application/3dmoljs_load.v0": "<div id=\"3dmolviewer_16889557561930885\"  style=\"position: relative; width: 200px; height: 200px;\">\n        <p id=\"3dmolwarning_16889557561930885\" style=\"background-color:#ffcccc;color:black\">You appear to be running in JupyterLab (or JavaScript failed to load for some other reason).  You need to install the 3dmol extension: <br>\n        <tt>jupyter labextension install jupyterlab_3dmol</tt></p>\n        </div>\n<script>\n\nvar loadScriptAsync = function(uri){\n  return new Promise((resolve, reject) => {\n    //this is to ignore the existence of requirejs amd\n    var savedexports, savedmodule;\n    if (typeof exports !== 'undefined') savedexports = exports;\n    else exports = {}\n    if (typeof module !== 'undefined') savedmodule = module;\n    else module = {}\n\n    var tag = document.createElement('script');\n    tag.src = uri;\n    tag.async = true;\n    tag.onload = () => {\n        exports = savedexports;\n        module = savedmodule;\n        resolve();\n    };\n  var firstScriptTag = document.getElementsByTagName('script')[0];\n  firstScriptTag.parentNode.insertBefore(tag, firstScriptTag);\n});\n};\n\nif(typeof $3Dmolpromise === 'undefined') {\n$3Dmolpromise = null;\n  $3Dmolpromise = loadScriptAsync('https://cdnjs.cloudflare.com/ajax/libs/3Dmol/2.0.3/3Dmol-min.js');\n}\n\nvar viewer_16889557561930885 = null;\nvar warn = document.getElementById(\"3dmolwarning_16889557561930885\");\nif(warn) {\n    warn.parentNode.removeChild(warn);\n}\n$3Dmolpromise.then(function() {\nviewer_16889557561930885 = $3Dmol.createViewer(document.getElementById(\"3dmolviewer_16889557561930885\"),{backgroundColor:\"white\"});\nviewer_16889557561930885.zoomTo();\n\tviewer_16889557561930885.addModel(\"\\n     RDKit          3D\\n\\n 16 15  0  0  0  0  0  0  0  0999 V2000\\n   -3.6267   -1.0731    1.3805 F   0  0  0  0  0  0  0  0  0  0  0  0\\n   -3.1147   -0.4887    0.2646 C   0  0  1  0  0  0  0  0  0  0  0  0\\n   -4.1679    0.8579   -0.2118 Cl  0  0  0  0  0  0  0  0  0  0  0  0\\n   -1.7396    0.0253    0.5449 C   0  0  0  0  0  0  0  0  0  0  0  0\\n   -0.6526   -0.2607   -0.1891 C   0  0  0  0  0  0  0  0  0  0  0  0\\n    0.6601    0.2488    0.1325 C   0  0  0  0  0  0  0  0  0  0  0  0\\n    1.7506   -0.0247   -0.6013 C   0  0  0  0  0  0  0  0  0  0  0  0\\n    3.1259    0.4865   -0.3017 C   0  0  1  0  0  0  0  0  0  0  0  0\\n    3.1376    1.2915    0.7950 F   0  0  0  0  0  0  0  0  0  0  0  0\\n    4.2222   -0.8799   -0.0209 Cl  0  0  0  0  0  0  0  0  0  0  0  0\\n   -3.1278   -1.2309   -0.5389 H   0  0  0  0  0  0  0  0  0  0  0  0\\n   -1.6574    0.6544    1.4278 H   0  0  0  0  0  0  0  0  0  0  0  0\\n   -0.7422   -0.9003   -1.0655 H   0  0  0  0  0  0  0  0  0  0  0  0\\n    0.7544    0.8792    1.0169 H   0  0  0  0  0  0  0  0  0  0  0  0\\n    1.6691   -0.6506   -1.4861 H   0  0  0  0  0  0  0  0  0  0  0  0\\n    3.5089    1.0654   -1.1468 H   0  0  0  0  0  0  0  0  0  0  0  0\\n  1  2  1  0\\n  2  3  1  0\\n  2  4  1  0\\n  4  5  2  0\\n  5  6  1  0\\n  6  7  2  0\\n  7  8  1  0\\n  8  9  1  0\\n  8 10  1  0\\n  2 11  1  6\\n  4 12  1  0\\n  5 13  1  0\\n  6 14  1  0\\n  7 15  1  0\\n  8 16  1  6\\nM  END\\n\",\"mol\");\n\tviewer_16889557561930885.setStyle({\"stick\": {}});\n\tviewer_16889557561930885.zoomTo();\nviewer_16889557561930885.render();\n});\n</script>",
      "text/html": [
       "<div id=\"3dmolviewer_16889557561930885\"  style=\"position: relative; width: 200px; height: 200px;\">\n",
       "        <p id=\"3dmolwarning_16889557561930885\" style=\"background-color:#ffcccc;color:black\">You appear to be running in JupyterLab (or JavaScript failed to load for some other reason).  You need to install the 3dmol extension: <br>\n",
       "        <tt>jupyter labextension install jupyterlab_3dmol</tt></p>\n",
       "        </div>\n",
       "<script>\n",
       "\n",
       "var loadScriptAsync = function(uri){\n",
       "  return new Promise((resolve, reject) => {\n",
       "    //this is to ignore the existence of requirejs amd\n",
       "    var savedexports, savedmodule;\n",
       "    if (typeof exports !== 'undefined') savedexports = exports;\n",
       "    else exports = {}\n",
       "    if (typeof module !== 'undefined') savedmodule = module;\n",
       "    else module = {}\n",
       "\n",
       "    var tag = document.createElement('script');\n",
       "    tag.src = uri;\n",
       "    tag.async = true;\n",
       "    tag.onload = () => {\n",
       "        exports = savedexports;\n",
       "        module = savedmodule;\n",
       "        resolve();\n",
       "    };\n",
       "  var firstScriptTag = document.getElementsByTagName('script')[0];\n",
       "  firstScriptTag.parentNode.insertBefore(tag, firstScriptTag);\n",
       "});\n",
       "};\n",
       "\n",
       "if(typeof $3Dmolpromise === 'undefined') {\n",
       "$3Dmolpromise = null;\n",
       "  $3Dmolpromise = loadScriptAsync('https://cdnjs.cloudflare.com/ajax/libs/3Dmol/2.0.3/3Dmol-min.js');\n",
       "}\n",
       "\n",
       "var viewer_16889557561930885 = null;\n",
       "var warn = document.getElementById(\"3dmolwarning_16889557561930885\");\n",
       "if(warn) {\n",
       "    warn.parentNode.removeChild(warn);\n",
       "}\n",
       "$3Dmolpromise.then(function() {\n",
       "viewer_16889557561930885 = $3Dmol.createViewer(document.getElementById(\"3dmolviewer_16889557561930885\"),{backgroundColor:\"white\"});\n",
       "viewer_16889557561930885.zoomTo();\n",
       "\tviewer_16889557561930885.addModel(\"\\n     RDKit          3D\\n\\n 16 15  0  0  0  0  0  0  0  0999 V2000\\n   -3.6267   -1.0731    1.3805 F   0  0  0  0  0  0  0  0  0  0  0  0\\n   -3.1147   -0.4887    0.2646 C   0  0  1  0  0  0  0  0  0  0  0  0\\n   -4.1679    0.8579   -0.2118 Cl  0  0  0  0  0  0  0  0  0  0  0  0\\n   -1.7396    0.0253    0.5449 C   0  0  0  0  0  0  0  0  0  0  0  0\\n   -0.6526   -0.2607   -0.1891 C   0  0  0  0  0  0  0  0  0  0  0  0\\n    0.6601    0.2488    0.1325 C   0  0  0  0  0  0  0  0  0  0  0  0\\n    1.7506   -0.0247   -0.6013 C   0  0  0  0  0  0  0  0  0  0  0  0\\n    3.1259    0.4865   -0.3017 C   0  0  1  0  0  0  0  0  0  0  0  0\\n    3.1376    1.2915    0.7950 F   0  0  0  0  0  0  0  0  0  0  0  0\\n    4.2222   -0.8799   -0.0209 Cl  0  0  0  0  0  0  0  0  0  0  0  0\\n   -3.1278   -1.2309   -0.5389 H   0  0  0  0  0  0  0  0  0  0  0  0\\n   -1.6574    0.6544    1.4278 H   0  0  0  0  0  0  0  0  0  0  0  0\\n   -0.7422   -0.9003   -1.0655 H   0  0  0  0  0  0  0  0  0  0  0  0\\n    0.7544    0.8792    1.0169 H   0  0  0  0  0  0  0  0  0  0  0  0\\n    1.6691   -0.6506   -1.4861 H   0  0  0  0  0  0  0  0  0  0  0  0\\n    3.5089    1.0654   -1.1468 H   0  0  0  0  0  0  0  0  0  0  0  0\\n  1  2  1  0\\n  2  3  1  0\\n  2  4  1  0\\n  4  5  2  0\\n  5  6  1  0\\n  6  7  2  0\\n  7  8  1  0\\n  8  9  1  0\\n  8 10  1  0\\n  2 11  1  6\\n  4 12  1  0\\n  5 13  1  0\\n  6 14  1  0\\n  7 15  1  0\\n  8 16  1  6\\nM  END\\n\",\"mol\");\n",
       "\tviewer_16889557561930885.setStyle({\"stick\": {}});\n",
       "\tviewer_16889557561930885.zoomTo();\n",
       "viewer_16889557561930885.render();\n",
       "});\n",
       "</script>"
      ]
     },
     "metadata": {},
     "output_type": "display_data"
    }
   ],
   "source": [
    "show('F[C@@H](Cl)/C=C/C=C/[C@@H](F)Cl')"
   ]
  },
  {
   "cell_type": "code",
   "execution_count": 8,
   "id": "dd5e8ad3",
   "metadata": {},
   "outputs": [
    {
     "data": {
      "application/3dmoljs_load.v0": "<div id=\"3dmolviewer_168895575640961\"  style=\"position: relative; width: 200px; height: 200px;\">\n        <p id=\"3dmolwarning_168895575640961\" style=\"background-color:#ffcccc;color:black\">You appear to be running in JupyterLab (or JavaScript failed to load for some other reason).  You need to install the 3dmol extension: <br>\n        <tt>jupyter labextension install jupyterlab_3dmol</tt></p>\n        </div>\n<script>\n\nvar loadScriptAsync = function(uri){\n  return new Promise((resolve, reject) => {\n    //this is to ignore the existence of requirejs amd\n    var savedexports, savedmodule;\n    if (typeof exports !== 'undefined') savedexports = exports;\n    else exports = {}\n    if (typeof module !== 'undefined') savedmodule = module;\n    else module = {}\n\n    var tag = document.createElement('script');\n    tag.src = uri;\n    tag.async = true;\n    tag.onload = () => {\n        exports = savedexports;\n        module = savedmodule;\n        resolve();\n    };\n  var firstScriptTag = document.getElementsByTagName('script')[0];\n  firstScriptTag.parentNode.insertBefore(tag, firstScriptTag);\n});\n};\n\nif(typeof $3Dmolpromise === 'undefined') {\n$3Dmolpromise = null;\n  $3Dmolpromise = loadScriptAsync('https://cdnjs.cloudflare.com/ajax/libs/3Dmol/2.0.3/3Dmol-min.js');\n}\n\nvar viewer_168895575640961 = null;\nvar warn = document.getElementById(\"3dmolwarning_168895575640961\");\nif(warn) {\n    warn.parentNode.removeChild(warn);\n}\n$3Dmolpromise.then(function() {\nviewer_168895575640961 = $3Dmol.createViewer(document.getElementById(\"3dmolviewer_168895575640961\"),{backgroundColor:\"white\"});\nviewer_168895575640961.zoomTo();\n\tviewer_168895575640961.addModel(\"\\n     RDKit          3D\\n\\n 16 15  0  0  0  0  0  0  0  0999 V2000\\n    2.3464    1.4563    0.5351 F   0  0  0  0  0  0  0  0  0  0  0  0\\n    2.7712    0.3847   -0.1846 C   0  0  1  0  0  0  0  0  0  0  0  0\\n    3.7727   -0.6472    0.8549 Cl  0  0  0  0  0  0  0  0  0  0  0  0\\n    1.6503   -0.4216   -0.7636 C   0  0  0  0  0  0  0  0  0  0  0  0\\n    0.3351   -0.4154   -0.4870 C   0  0  0  0  0  0  0  0  0  0  0  0\\n   -0.3288    0.3667    0.5285 C   0  0  0  0  0  0  0  0  0  0  0  0\\n   -1.6530    0.4430    0.7454 C   0  0  0  0  0  0  0  0  0  0  0  0\\n   -2.7986   -0.1711    0.0022 C   0  0  1  0  0  0  0  0  0  0  0  0\\n   -2.4490   -0.6568   -1.2179 F   0  0  0  0  0  0  0  0  0  0  0  0\\n   -3.4988   -1.4855    0.9666 Cl  0  0  0  0  0  0  0  0  0  0  0  0\\n    3.4045    0.7686   -0.9895 H   0  0  0  0  0  0  0  0  0  0  0  0\\n    1.9744   -1.1011   -1.5511 H   0  0  0  0  0  0  0  0  0  0  0  0\\n   -0.2867   -1.0947   -1.0684 H   0  0  0  0  0  0  0  0  0  0  0  0\\n    0.3081    0.9282    1.2106 H   0  0  0  0  0  0  0  0  0  0  0  0\\n   -1.9700    1.0668    1.5803 H   0  0  0  0  0  0  0  0  0  0  0  0\\n   -3.5776    0.5791   -0.1615 H   0  0  0  0  0  0  0  0  0  0  0  0\\n  1  2  1  0\\n  2  3  1  0\\n  2  4  1  0\\n  4  5  2  0\\n  5  6  1  0\\n  6  7  2  0\\n  7  8  1  0\\n  8  9  1  0\\n  8 10  1  0\\n  2 11  1  6\\n  4 12  1  0\\n  5 13  1  0\\n  6 14  1  0\\n  7 15  1  0\\n  8 16  1  6\\nM  END\\n\",\"mol\");\n\tviewer_168895575640961.setStyle({\"stick\": {}});\n\tviewer_168895575640961.zoomTo();\nviewer_168895575640961.render();\n});\n</script>",
      "text/html": [
       "<div id=\"3dmolviewer_168895575640961\"  style=\"position: relative; width: 200px; height: 200px;\">\n",
       "        <p id=\"3dmolwarning_168895575640961\" style=\"background-color:#ffcccc;color:black\">You appear to be running in JupyterLab (or JavaScript failed to load for some other reason).  You need to install the 3dmol extension: <br>\n",
       "        <tt>jupyter labextension install jupyterlab_3dmol</tt></p>\n",
       "        </div>\n",
       "<script>\n",
       "\n",
       "var loadScriptAsync = function(uri){\n",
       "  return new Promise((resolve, reject) => {\n",
       "    //this is to ignore the existence of requirejs amd\n",
       "    var savedexports, savedmodule;\n",
       "    if (typeof exports !== 'undefined') savedexports = exports;\n",
       "    else exports = {}\n",
       "    if (typeof module !== 'undefined') savedmodule = module;\n",
       "    else module = {}\n",
       "\n",
       "    var tag = document.createElement('script');\n",
       "    tag.src = uri;\n",
       "    tag.async = true;\n",
       "    tag.onload = () => {\n",
       "        exports = savedexports;\n",
       "        module = savedmodule;\n",
       "        resolve();\n",
       "    };\n",
       "  var firstScriptTag = document.getElementsByTagName('script')[0];\n",
       "  firstScriptTag.parentNode.insertBefore(tag, firstScriptTag);\n",
       "});\n",
       "};\n",
       "\n",
       "if(typeof $3Dmolpromise === 'undefined') {\n",
       "$3Dmolpromise = null;\n",
       "  $3Dmolpromise = loadScriptAsync('https://cdnjs.cloudflare.com/ajax/libs/3Dmol/2.0.3/3Dmol-min.js');\n",
       "}\n",
       "\n",
       "var viewer_168895575640961 = null;\n",
       "var warn = document.getElementById(\"3dmolwarning_168895575640961\");\n",
       "if(warn) {\n",
       "    warn.parentNode.removeChild(warn);\n",
       "}\n",
       "$3Dmolpromise.then(function() {\n",
       "viewer_168895575640961 = $3Dmol.createViewer(document.getElementById(\"3dmolviewer_168895575640961\"),{backgroundColor:\"white\"});\n",
       "viewer_168895575640961.zoomTo();\n",
       "\tviewer_168895575640961.addModel(\"\\n     RDKit          3D\\n\\n 16 15  0  0  0  0  0  0  0  0999 V2000\\n    2.3464    1.4563    0.5351 F   0  0  0  0  0  0  0  0  0  0  0  0\\n    2.7712    0.3847   -0.1846 C   0  0  1  0  0  0  0  0  0  0  0  0\\n    3.7727   -0.6472    0.8549 Cl  0  0  0  0  0  0  0  0  0  0  0  0\\n    1.6503   -0.4216   -0.7636 C   0  0  0  0  0  0  0  0  0  0  0  0\\n    0.3351   -0.4154   -0.4870 C   0  0  0  0  0  0  0  0  0  0  0  0\\n   -0.3288    0.3667    0.5285 C   0  0  0  0  0  0  0  0  0  0  0  0\\n   -1.6530    0.4430    0.7454 C   0  0  0  0  0  0  0  0  0  0  0  0\\n   -2.7986   -0.1711    0.0022 C   0  0  1  0  0  0  0  0  0  0  0  0\\n   -2.4490   -0.6568   -1.2179 F   0  0  0  0  0  0  0  0  0  0  0  0\\n   -3.4988   -1.4855    0.9666 Cl  0  0  0  0  0  0  0  0  0  0  0  0\\n    3.4045    0.7686   -0.9895 H   0  0  0  0  0  0  0  0  0  0  0  0\\n    1.9744   -1.1011   -1.5511 H   0  0  0  0  0  0  0  0  0  0  0  0\\n   -0.2867   -1.0947   -1.0684 H   0  0  0  0  0  0  0  0  0  0  0  0\\n    0.3081    0.9282    1.2106 H   0  0  0  0  0  0  0  0  0  0  0  0\\n   -1.9700    1.0668    1.5803 H   0  0  0  0  0  0  0  0  0  0  0  0\\n   -3.5776    0.5791   -0.1615 H   0  0  0  0  0  0  0  0  0  0  0  0\\n  1  2  1  0\\n  2  3  1  0\\n  2  4  1  0\\n  4  5  2  0\\n  5  6  1  0\\n  6  7  2  0\\n  7  8  1  0\\n  8  9  1  0\\n  8 10  1  0\\n  2 11  1  6\\n  4 12  1  0\\n  5 13  1  0\\n  6 14  1  0\\n  7 15  1  0\\n  8 16  1  6\\nM  END\\n\",\"mol\");\n",
       "\tviewer_168895575640961.setStyle({\"stick\": {}});\n",
       "\tviewer_168895575640961.zoomTo();\n",
       "viewer_168895575640961.render();\n",
       "});\n",
       "</script>"
      ]
     },
     "metadata": {},
     "output_type": "display_data"
    }
   ],
   "source": [
    "show('F[C@@H](Cl)/C=C\\C=C/[C@@H](F)Cl')"
   ]
  },
  {
   "cell_type": "code",
   "execution_count": 16,
   "id": "1237cdbc",
   "metadata": {},
   "outputs": [
    {
     "data": {
      "application/3dmoljs_load.v0": "<div id=\"3dmolviewer_16889560033039765\"  style=\"position: relative; width: 200px; height: 200px;\">\n        <p id=\"3dmolwarning_16889560033039765\" style=\"background-color:#ffcccc;color:black\">You appear to be running in JupyterLab (or JavaScript failed to load for some other reason).  You need to install the 3dmol extension: <br>\n        <tt>jupyter labextension install jupyterlab_3dmol</tt></p>\n        </div>\n<script>\n\nvar loadScriptAsync = function(uri){\n  return new Promise((resolve, reject) => {\n    //this is to ignore the existence of requirejs amd\n    var savedexports, savedmodule;\n    if (typeof exports !== 'undefined') savedexports = exports;\n    else exports = {}\n    if (typeof module !== 'undefined') savedmodule = module;\n    else module = {}\n\n    var tag = document.createElement('script');\n    tag.src = uri;\n    tag.async = true;\n    tag.onload = () => {\n        exports = savedexports;\n        module = savedmodule;\n        resolve();\n    };\n  var firstScriptTag = document.getElementsByTagName('script')[0];\n  firstScriptTag.parentNode.insertBefore(tag, firstScriptTag);\n});\n};\n\nif(typeof $3Dmolpromise === 'undefined') {\n$3Dmolpromise = null;\n  $3Dmolpromise = loadScriptAsync('https://cdnjs.cloudflare.com/ajax/libs/3Dmol/2.0.3/3Dmol-min.js');\n}\n\nvar viewer_16889560033039765 = null;\nvar warn = document.getElementById(\"3dmolwarning_16889560033039765\");\nif(warn) {\n    warn.parentNode.removeChild(warn);\n}\n$3Dmolpromise.then(function() {\nviewer_16889560033039765 = $3Dmol.createViewer(document.getElementById(\"3dmolviewer_16889560033039765\"),{backgroundColor:\"white\"});\nviewer_16889560033039765.zoomTo();\n\tviewer_16889560033039765.addModel(\"\\n     RDKit          3D\\n\\n 18 18  0  0  0  0  0  0  0  0999 V2000\\n   -2.9147    1.1074   -1.3739 C   0  0  0  0  0  0  0  0  0  0  0  0\\n   -2.3084    0.5204   -0.5185 C   0  0  0  0  0  0  0  0  0  0  0  0\\n   -1.5712   -0.1976    0.5345 C   0  0  2  0  0  0  0  0  0  0  0  0\\n   -1.8343    0.4161    1.7954 O   0  0  0  0  0  0  0  0  0  0  0  0\\n   -0.0810   -0.2235    0.2655 C   0  0  0  0  0  0  0  0  0  0  0  0\\n    0.4780   -1.2681   -0.4904 C   0  0  0  0  0  0  0  0  0  0  0  0\\n    1.8465   -1.2954   -0.7678 C   0  0  0  0  0  0  0  0  0  0  0  0\\n    2.6740   -0.2770   -0.2998 C   0  0  0  0  0  0  0  0  0  0  0  0\\n    2.1347    0.7709    0.4430 C   0  0  0  0  0  0  0  0  0  0  0  0\\n    0.7666    0.7996    0.7207 C   0  0  0  0  0  0  0  0  0  0  0  0\\n   -3.4421    1.6338   -2.1358 H   0  0  0  0  0  0  0  0  0  0  0  0\\n   -1.9384   -1.2278    0.6108 H   0  0  0  0  0  0  0  0  0  0  0  0\\n   -2.7978    0.5251    1.8463 H   0  0  0  0  0  0  0  0  0  0  0  0\\n   -0.1529   -2.0686   -0.8708 H   0  0  0  0  0  0  0  0  0  0  0  0\\n    2.2664   -2.1106   -1.3513 H   0  0  0  0  0  0  0  0  0  0  0  0\\n    3.7388   -0.2981   -0.5156 H   0  0  0  0  0  0  0  0  0  0  0  0\\n    2.7773    1.5679    0.8073 H   0  0  0  0  0  0  0  0  0  0  0  0\\n    0.3584    1.6254    1.3004 H   0  0  0  0  0  0  0  0  0  0  0  0\\n  1  2  3  0\\n  2  3  1  0\\n  3  4  1  0\\n  3  5  1  0\\n  5  6  2  0\\n  6  7  1  0\\n  7  8  2  0\\n  8  9  1  0\\n  9 10  2  0\\n 10  5  1  0\\n  1 11  1  0\\n  3 12  1  1\\n  4 13  1  0\\n  6 14  1  0\\n  7 15  1  0\\n  8 16  1  0\\n  9 17  1  0\\n 10 18  1  0\\nM  END\\n\",\"mol\");\n\tviewer_16889560033039765.setStyle({\"stick\": {}});\n\tviewer_16889560033039765.zoomTo();\nviewer_16889560033039765.render();\n});\n</script>",
      "text/html": [
       "<div id=\"3dmolviewer_16889560033039765\"  style=\"position: relative; width: 200px; height: 200px;\">\n",
       "        <p id=\"3dmolwarning_16889560033039765\" style=\"background-color:#ffcccc;color:black\">You appear to be running in JupyterLab (or JavaScript failed to load for some other reason).  You need to install the 3dmol extension: <br>\n",
       "        <tt>jupyter labextension install jupyterlab_3dmol</tt></p>\n",
       "        </div>\n",
       "<script>\n",
       "\n",
       "var loadScriptAsync = function(uri){\n",
       "  return new Promise((resolve, reject) => {\n",
       "    //this is to ignore the existence of requirejs amd\n",
       "    var savedexports, savedmodule;\n",
       "    if (typeof exports !== 'undefined') savedexports = exports;\n",
       "    else exports = {}\n",
       "    if (typeof module !== 'undefined') savedmodule = module;\n",
       "    else module = {}\n",
       "\n",
       "    var tag = document.createElement('script');\n",
       "    tag.src = uri;\n",
       "    tag.async = true;\n",
       "    tag.onload = () => {\n",
       "        exports = savedexports;\n",
       "        module = savedmodule;\n",
       "        resolve();\n",
       "    };\n",
       "  var firstScriptTag = document.getElementsByTagName('script')[0];\n",
       "  firstScriptTag.parentNode.insertBefore(tag, firstScriptTag);\n",
       "});\n",
       "};\n",
       "\n",
       "if(typeof $3Dmolpromise === 'undefined') {\n",
       "$3Dmolpromise = null;\n",
       "  $3Dmolpromise = loadScriptAsync('https://cdnjs.cloudflare.com/ajax/libs/3Dmol/2.0.3/3Dmol-min.js');\n",
       "}\n",
       "\n",
       "var viewer_16889560033039765 = null;\n",
       "var warn = document.getElementById(\"3dmolwarning_16889560033039765\");\n",
       "if(warn) {\n",
       "    warn.parentNode.removeChild(warn);\n",
       "}\n",
       "$3Dmolpromise.then(function() {\n",
       "viewer_16889560033039765 = $3Dmol.createViewer(document.getElementById(\"3dmolviewer_16889560033039765\"),{backgroundColor:\"white\"});\n",
       "viewer_16889560033039765.zoomTo();\n",
       "\tviewer_16889560033039765.addModel(\"\\n     RDKit          3D\\n\\n 18 18  0  0  0  0  0  0  0  0999 V2000\\n   -2.9147    1.1074   -1.3739 C   0  0  0  0  0  0  0  0  0  0  0  0\\n   -2.3084    0.5204   -0.5185 C   0  0  0  0  0  0  0  0  0  0  0  0\\n   -1.5712   -0.1976    0.5345 C   0  0  2  0  0  0  0  0  0  0  0  0\\n   -1.8343    0.4161    1.7954 O   0  0  0  0  0  0  0  0  0  0  0  0\\n   -0.0810   -0.2235    0.2655 C   0  0  0  0  0  0  0  0  0  0  0  0\\n    0.4780   -1.2681   -0.4904 C   0  0  0  0  0  0  0  0  0  0  0  0\\n    1.8465   -1.2954   -0.7678 C   0  0  0  0  0  0  0  0  0  0  0  0\\n    2.6740   -0.2770   -0.2998 C   0  0  0  0  0  0  0  0  0  0  0  0\\n    2.1347    0.7709    0.4430 C   0  0  0  0  0  0  0  0  0  0  0  0\\n    0.7666    0.7996    0.7207 C   0  0  0  0  0  0  0  0  0  0  0  0\\n   -3.4421    1.6338   -2.1358 H   0  0  0  0  0  0  0  0  0  0  0  0\\n   -1.9384   -1.2278    0.6108 H   0  0  0  0  0  0  0  0  0  0  0  0\\n   -2.7978    0.5251    1.8463 H   0  0  0  0  0  0  0  0  0  0  0  0\\n   -0.1529   -2.0686   -0.8708 H   0  0  0  0  0  0  0  0  0  0  0  0\\n    2.2664   -2.1106   -1.3513 H   0  0  0  0  0  0  0  0  0  0  0  0\\n    3.7388   -0.2981   -0.5156 H   0  0  0  0  0  0  0  0  0  0  0  0\\n    2.7773    1.5679    0.8073 H   0  0  0  0  0  0  0  0  0  0  0  0\\n    0.3584    1.6254    1.3004 H   0  0  0  0  0  0  0  0  0  0  0  0\\n  1  2  3  0\\n  2  3  1  0\\n  3  4  1  0\\n  3  5  1  0\\n  5  6  2  0\\n  6  7  1  0\\n  7  8  2  0\\n  8  9  1  0\\n  9 10  2  0\\n 10  5  1  0\\n  1 11  1  0\\n  3 12  1  1\\n  4 13  1  0\\n  6 14  1  0\\n  7 15  1  0\\n  8 16  1  0\\n  9 17  1  0\\n 10 18  1  0\\nM  END\\n\",\"mol\");\n",
       "\tviewer_16889560033039765.setStyle({\"stick\": {}});\n",
       "\tviewer_16889560033039765.zoomTo();\n",
       "viewer_16889560033039765.render();\n",
       "});\n",
       "</script>"
      ]
     },
     "metadata": {},
     "output_type": "display_data"
    }
   ],
   "source": [
    "show('C#C[C@H](O)c1ccccc1')"
   ]
  },
  {
   "cell_type": "code",
   "execution_count": 38,
   "id": "ebba95d1",
   "metadata": {},
   "outputs": [],
   "source": [
    "from rdkit import Chem\n",
    "from rdkit.Chem.EnumerateStereoisomers import EnumerateStereoisomers, StereoEnumerationOptions\n",
    "from rdkit.Chem.Draw import IPythonConsole\n",
    "from rdkit.Chem import Draw\n",
    "IPythonConsole.ipython_useSVG=False\n",
    "IPythonConsole.molSize = 300,300"
   ]
  },
  {
   "cell_type": "code",
   "execution_count": 48,
   "id": "9c754104",
   "metadata": {},
   "outputs": [
    {
     "name": "stdout",
     "output_type": "stream",
     "text": [
      "2 isomers are found!\n",
      "\n",
      "C#C[C@@H](O)c1ccccc1\n",
      "C#C[C@H](O)c1ccccc1\n"
     ]
    }
   ],
   "source": [
    "m = Chem.MolFromSmiles('C#CC(C1=CC=CC=C1)O')\n",
    "isomers = tuple(EnumerateStereoisomers(m))\n",
    "print('{} isomers are found!\\n'.format(len(isomers)))\n",
    "\n",
    "for smi in sorted(Chem.MolToSmiles(x, isomericSmiles=True) for x in isomers):\n",
    "    print(smi)"
   ]
  },
  {
   "cell_type": "markdown",
   "id": "d4afb6cf",
   "metadata": {},
   "source": [
    "(R)-1-Phenyl-2-propyn-1-ol"
   ]
  },
  {
   "cell_type": "code",
   "execution_count": 49,
   "id": "65fecac4",
   "metadata": {},
   "outputs": [
    {
     "data": {
      "image/png": "[encoded data removed]",
      "text/plain": [
       "<rdkit.Chem.rdchem.Mol at 0x7fccd760dee0>"
      ]
     },
     "metadata": {},
     "output_type": "display_data"
    }
   ],
   "source": [
    "mol = Chem.MolFromSmiles('C#C[C@@H](O)c1ccccc1')\n",
    "display(mol)"
   ]
  },
  {
   "cell_type": "markdown",
   "id": "65e9dd44",
   "metadata": {},
   "source": [
    "(S)-1-Phenyl-2-propyn-1-ol"
   ]
  },
  {
   "cell_type": "code",
   "execution_count": 46,
   "id": "16417841",
   "metadata": {},
   "outputs": [
    {
     "data": {
      "image/png": "[encoded data removed]",
      "text/plain": [
       "<rdkit.Chem.rdchem.Mol at 0x7fccd7679a80>"
      ]
     },
     "metadata": {},
     "output_type": "display_data"
    }
   ],
   "source": [
    "mol = Chem.MolFromSmiles('C#C[C@H](O)c1ccccc1')\n",
    "display(mol)"
   ]
  },
  {
   "cell_type": "code",
   "execution_count": 35,
   "id": "d051280d",
   "metadata": {},
   "outputs": [
    {
     "data": {
      "image/png": "[encoded data removed]",
      "text/plain": [
       "<rdkit.Chem.rdchem.Mol at 0x7fccd7670030>"
      ]
     },
     "metadata": {},
     "output_type": "display_data"
    }
   ],
   "source": [
    "mol = Chem.MolFromSmiles('C#C[C@H](O)c1ccccc1')\n",
    "mol = Chem.AddHs(mol)\n",
    "AllChem.EmbedMolecule(mol)\n",
    "AllChem.MMFFOptimizeMolecule(mol, maxIters=300)\n",
    "\n",
    "display(mol)"
   ]
  },
  {
   "cell_type": "code",
   "execution_count": null,
   "id": "67730738",
   "metadata": {},
   "outputs": [],
   "source": []
  }
 ],
 "metadata": {
  "kernelspec": {
   "display_name": "molnet",
   "language": "python",
   "name": "molnet"
  },
  "language_info": {
   "codemirror_mode": {
    "name": "ipython",
    "version": 3
   },
   "file_extension": ".py",
   "mimetype": "text/x-python",
   "name": "python",
   "nbconvert_exporter": "python",
   "pygments_lexer": "ipython3",
   "version": "3.7.16"
  }
 },
 "nbformat": 4,
 "nbformat_minor": 5
}
