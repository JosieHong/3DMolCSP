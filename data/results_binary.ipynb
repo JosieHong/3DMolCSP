{
 "cells": [
  {
   "cell_type": "code",
   "execution_count": 2,
   "id": "4de21202",
   "metadata": {},
   "outputs": [],
   "source": [
    "import pandas as pd\n",
    "import numpy as np\n",
    "\n",
    "from sklearn import metrics\n",
    "from sklearn import preprocessing\n",
    "import matplotlib.pyplot as plt\n",
    "import seaborn as sns"
   ]
  },
  {
   "cell_type": "code",
   "execution_count": 3,
   "id": "5b69a3b5",
   "metadata": {},
   "outputs": [],
   "source": [
    "def group_f1_b(df): \n",
    "    label = np.array(df.Class_b.tolist(), dtype=int)\n",
    "    pred = np.array(df.Pred_b.tolist(), dtype=float)\n",
    "    pred = np.where(pred > 0.5, 1, 0)\n",
    "    score = metrics.f1_score(label, pred, average='micro')\n",
    "    return score\n",
    "\n",
    "def group_kappa_b(df): \n",
    "    label = np.array(df.Class_b.tolist(), dtype=int)\n",
    "    pred = np.array(df.Pred_b.tolist(), dtype=float)\n",
    "    pred = np.where(pred > 0.5, 1, 0)\n",
    "    score = metrics.cohen_kappa_score(label, pred)\n",
    "    return score\n",
    "\n",
    "def group_acc_b(df): \n",
    "    label = np.array(df.Class_b.tolist(), dtype=int)\n",
    "    pred = np.array(df.Pred_b.tolist(), dtype=float)\n",
    "    pred = np.where(pred > 0.5, 1, 0)\n",
    "    score = metrics.accuracy_score(label, pred)\n",
    "    return score\n",
    "\n",
    "def group_auc_b(df): \n",
    "    label = np.array(df.Class_b.tolist(), dtype=int)\n",
    "    pred = np.array(df.Pred_b.tolist(), dtype=float)\n",
    "    score = metrics.roc_auc_score(label, pred)\n",
    "    return score"
   ]
  },
  {
   "cell_type": "code",
   "execution_count": 4,
   "id": "ed335c03",
   "metadata": {},
   "outputs": [],
   "source": [
    "from scipy.special import softmax\n",
    "\n",
    "def binary_cls(cls):\n",
    "    if cls == 0 or cls == 1:\n",
    "        return 0\n",
    "    elif cls == 2 or cls == 3:\n",
    "        return 1\n",
    "    else:\n",
    "        return None\n",
    "    \n",
    "def binary_pred(pred):\n",
    "    pred = np.array(pred.split(','), dtype=float)\n",
    "    pred_b = np.array([pred[0]+pred[1], pred[2]+pred[3]])\n",
    "    pred_b = softmax(pred_b)\n",
    "    return pred_b[1] # the probability to greater label"
   ]
  },
  {
   "cell_type": "markdown",
   "id": "b7269c6d",
   "metadata": {},
   "source": [
    "## 1. Independent training"
   ]
  },
  {
   "cell_type": "code",
   "execution_count": 17,
   "id": "8571daa7",
   "metadata": {},
   "outputs": [],
   "source": [
    "dfs = []\n",
    "for mb in range(18): \n",
    "    for i in range(5):\n",
    "        dfs.append(pd.read_csv('../results/molnet_chirality_cls_etkdg_csp{}-5fold_{}.csv'.format(str(mb), str(i)), \n",
    "                               sep='\\t', index_col=0))\n",
    "    df = pd.concat(dfs, ignore_index=True)"
   ]
  },
  {
   "cell_type": "markdown",
   "id": "b0512106",
   "metadata": {},
   "source": [
    "Convert quadra classification into binary classification: "
   ]
  },
  {
   "cell_type": "code",
   "execution_count": 18,
   "id": "aeeb511e",
   "metadata": {},
   "outputs": [],
   "source": [
    "df['Class_b'] = df['Class'].apply(binary_cls)\n",
    "df['Pred_b'] = df['Pred'].apply(binary_pred)"
   ]
  },
  {
   "cell_type": "code",
   "execution_count": 8,
   "id": "e0552998",
   "metadata": {},
   "outputs": [],
   "source": [
    "auc = df.groupby('MB').apply(group_auc_b)\n",
    "acc = df.groupby('MB').apply(group_acc_b)\n",
    "kappa = df.groupby('MB').apply(group_kappa_b)\n",
    "f1 = df.groupby('MB').apply(group_f1_b)"
   ]
  },
  {
   "cell_type": "code",
   "execution_count": 9,
   "id": "d13734b8",
   "metadata": {},
   "outputs": [
    {
     "name": "stdout",
     "output_type": "stream",
     "text": [
      "AUC: \n",
      "0.9057808857808858\n",
      "0.9033212329793456\n",
      "0.8952841427940758\n",
      "0.8891244590010527\n",
      "0.9085682606820935\n",
      "0.8904499178981937\n",
      "0.8124318440678137\n",
      "0.9491153856386517\n",
      "0.7722950509082925\n",
      "0.7927883862283661\n",
      "0.8420768086239215\n",
      "0.7496803696794311\n",
      "0.9239179025198657\n",
      "0.7925037490950462\n",
      "0.8691141570741012\n",
      "0.8216904625928041\n",
      "0.8747088973076201\n",
      "0.7923774039403078 \n",
      "\n",
      "ACC: \n",
      "0.8956896551724138\n",
      "0.8615384615384616\n",
      "0.8739864864864865\n",
      "0.8186813186813187\n",
      "0.8808988764044944\n",
      "0.8827868852459017\n",
      "0.8618343195266273\n",
      "0.9010309278350516\n",
      "0.8664465538588526\n",
      "0.8818359375\n",
      "0.8766233766233766\n",
      "0.8482758620689655\n",
      "0.9161676646706587\n",
      "0.847926267281106\n",
      "0.86\n",
      "0.93\n",
      "0.8660869565217392\n",
      "0.8237410071942446 \n",
      "\n",
      "KAPPA: \n",
      "0.7546582765250831\n",
      "0.7230127018944135\n",
      "0.7190295822089393\n",
      "0.6324771261987634\n",
      "0.7208244336654708\n",
      "0.694487251330905\n",
      "0.6606887108155124\n",
      "0.8018628551366821\n",
      "0.626491209751056\n",
      "0.6424498464805966\n",
      "0.6825561379230536\n",
      "0.5873568716821373\n",
      "0.7988176882104412\n",
      "0.5744582231001263\n",
      "0.6863880215277598\n",
      "0.6737019293020847\n",
      "0.6952900723234433\n",
      "0.5265259475737496 \n",
      "\n",
      "F1: \n",
      "0.8956896551724138\n",
      "0.8615384615384615\n",
      "0.8739864864864865\n",
      "0.8186813186813187\n",
      "0.8808988764044944\n",
      "0.8827868852459017\n",
      "0.8618343195266273\n",
      "0.9010309278350516\n",
      "0.8664465538588526\n",
      "0.8818359375\n",
      "0.8766233766233766\n",
      "0.8482758620689655\n",
      "0.9161676646706587\n",
      "0.847926267281106\n",
      "0.8599999999999999\n",
      "0.93\n",
      "0.8660869565217393\n",
      "0.8237410071942446 \n",
      "\n"
     ]
    }
   ],
   "source": [
    "print('AUC:', '\\n'+'\\n'.join(auc.astype(str).tolist()), '\\n')\n",
    "print('ACC:', '\\n'+'\\n'.join(acc.astype(str).tolist()), '\\n')\n",
    "print('KAPPA:', '\\n'+'\\n'.join(kappa.astype(str).tolist()), '\\n')\n",
    "print('F1:', '\\n'+'\\n'.join(f1.astype(str).tolist()), '\\n')"
   ]
  },
  {
   "cell_type": "code",
   "execution_count": null,
   "id": "c9c9373a",
   "metadata": {},
   "outputs": [],
   "source": []
  },
  {
   "cell_type": "markdown",
   "id": "6d8f1cc6",
   "metadata": {},
   "source": [
    "## 2. Transfer learning"
   ]
  },
  {
   "cell_type": "code",
   "execution_count": 5,
   "id": "22954e73",
   "metadata": {},
   "outputs": [],
   "source": [
    "dfs = []\n",
    "for mb in range(18): \n",
    "    for i in range(5):\n",
    "        dfs.append(pd.read_csv('../results/molnet_chirality_cls_etkdg_csp{}-5fold_tl_{}.csv'.format(str(mb), str(i)), \n",
    "                               sep='\\t', index_col=0))\n",
    "    df = pd.concat(dfs, ignore_index=True)"
   ]
  },
  {
   "cell_type": "code",
   "execution_count": 6,
   "id": "75efe181",
   "metadata": {},
   "outputs": [],
   "source": [
    "df['Class_b'] = df['Class'].apply(binary_cls)\n",
    "df['Pred_b'] = df['Pred'].apply(binary_pred)"
   ]
  },
  {
   "cell_type": "code",
   "execution_count": 7,
   "id": "1125c75e",
   "metadata": {},
   "outputs": [],
   "source": [
    "auc = df.groupby('MB').apply(group_auc_b)\n",
    "acc = df.groupby('MB').apply(group_acc_b)\n",
    "kappa = df.groupby('MB').apply(group_kappa_b)\n",
    "f1 = df.groupby('MB').apply(group_f1_b)"
   ]
  },
  {
   "cell_type": "code",
   "execution_count": 8,
   "id": "da836298",
   "metadata": {},
   "outputs": [
    {
     "name": "stdout",
     "output_type": "stream",
     "text": [
      "AUC: \n",
      "0.9210753570130602\n",
      "0.9056131448592486\n",
      "0.8902443140231847\n",
      "0.9222745675018635\n",
      "0.9052515278290473\n",
      "0.8986084018676626\n",
      "0.8570461679887467\n",
      "0.958475004655865\n",
      "0.8035248213538786\n",
      "0.8075753438708568\n",
      "0.8378784453018445\n",
      "0.7999471278990895\n",
      "0.9239899080240069\n",
      "0.8017578712901089\n",
      "0.911137516237768\n",
      "0.8398149568933673\n",
      "0.8735790494991003\n",
      "0.7831831038942306 \n",
      "\n",
      "ACC: \n",
      "0.9120689655172414\n",
      "0.8648351648351649\n",
      "0.8881756756756757\n",
      "0.8571428571428571\n",
      "0.897003745318352\n",
      "0.8860655737704918\n",
      "0.8826923076923077\n",
      "0.9206185567010309\n",
      "0.8775897647544366\n",
      "0.8916015625\n",
      "0.8844155844155844\n",
      "0.8651542649727768\n",
      "0.9119760479041916\n",
      "0.8682027649769585\n",
      "0.8856\n",
      "0.9408333333333333\n",
      "0.8639130434782609\n",
      "0.8273381294964028 \n",
      "\n",
      "KAPPA: \n",
      "0.7951814319989198\n",
      "0.7295527581124508\n",
      "0.7482346411207845\n",
      "0.7123012495318511\n",
      "0.7576247922851898\n",
      "0.7079972724830735\n",
      "0.718306395420327\n",
      "0.8408997715423818\n",
      "0.6617757317894766\n",
      "0.6739669193912581\n",
      "0.6954538047906142\n",
      "0.6443832468694796\n",
      "0.7910129347405986\n",
      "0.6356538177036246\n",
      "0.7482543286171803\n",
      "0.7394782225810002\n",
      "0.6914215270240844\n",
      "0.5367708932156932 \n",
      "\n",
      "F1: \n",
      "0.9120689655172414\n",
      "0.8648351648351649\n",
      "0.8881756756756757\n",
      "0.8571428571428571\n",
      "0.897003745318352\n",
      "0.8860655737704918\n",
      "0.8826923076923077\n",
      "0.9206185567010308\n",
      "0.8775897647544366\n",
      "0.8916015625\n",
      "0.8844155844155844\n",
      "0.8651542649727768\n",
      "0.9119760479041916\n",
      "0.8682027649769585\n",
      "0.8856\n",
      "0.9408333333333333\n",
      "0.8639130434782609\n",
      "0.8273381294964028 \n",
      "\n"
     ]
    }
   ],
   "source": [
    "print('AUC:', '\\n'+'\\n'.join(auc.astype(str).tolist()), '\\n')\n",
    "print('ACC:', '\\n'+'\\n'.join(acc.astype(str).tolist()), '\\n')\n",
    "print('KAPPA:', '\\n'+'\\n'.join(kappa.astype(str).tolist()), '\\n')\n",
    "print('F1:', '\\n'+'\\n'.join(f1.astype(str).tolist()), '\\n')"
   ]
  },
  {
   "cell_type": "code",
   "execution_count": null,
   "id": "8c0245e8",
   "metadata": {},
   "outputs": [],
   "source": []
  }
 ],
 "metadata": {
  "kernelspec": {
   "display_name": "molnet",
   "language": "python",
   "name": "molnet"
  },
  "language_info": {
   "codemirror_mode": {
    "name": "ipython",
    "version": 3
   },
   "file_extension": ".py",
   "mimetype": "text/x-python",
   "name": "python",
   "nbconvert_exporter": "python",
   "pygments_lexer": "ipython3",
   "version": "3.7.13"
  }
 },
 "nbformat": 4,
 "nbformat_minor": 5
}
