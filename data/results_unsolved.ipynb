{
 "cells": [
  {
   "cell_type": "code",
   "execution_count": 1,
   "id": "04727248",
   "metadata": {},
   "outputs": [],
   "source": [
    "import pandas as pd\n",
    "import numpy as np\n",
    "\n",
    "from sklearn import metrics\n",
    "from sklearn import preprocessing\n",
    "import matplotlib.pyplot as plt\n",
    "import seaborn as sns\n",
    "sns.set_style(\"whitegrid\")\n",
    "\n",
    "from rdkit import Chem\n",
    "# suppress rdkit warning\n",
    "from rdkit import RDLogger\n",
    "RDLogger.DisableLog('rdApp.*')"
   ]
  },
  {
   "cell_type": "code",
   "execution_count": 2,
   "id": "1116c0b6",
   "metadata": {},
   "outputs": [],
   "source": [
    "def group_f1_b(df): \n",
    "    label = np.array(df.Class_b.tolist(), dtype=int)\n",
    "    pred = np.array(df.Pred_b.tolist(), dtype=float)\n",
    "    pred = np.where(pred > 0.5, 1, 0)\n",
    "    score = metrics.f1_score(label, pred, average='micro')\n",
    "    return score\n",
    "\n",
    "def group_kappa_b(df): \n",
    "    label = np.array(df.Class_b.tolist(), dtype=int)\n",
    "    pred = np.array(df.Pred_b.tolist(), dtype=float)\n",
    "    pred = np.where(pred > 0.5, 1, 0)\n",
    "    score = metrics.cohen_kappa_score(label, pred)\n",
    "    return score\n",
    "\n",
    "def group_acc_b(df): \n",
    "    label = np.array(df.Class_b.tolist(), dtype=int)\n",
    "    pred = np.array(df.Pred_b.tolist(), dtype=float)\n",
    "    pred = np.where(pred > 0.5, 1, 0)\n",
    "    score = metrics.accuracy_score(label, pred)\n",
    "    return score\n",
    "\n",
    "def group_auc_b(df): \n",
    "    label = np.array(df.Class_b.tolist(), dtype=int)\n",
    "    pred = np.array(df.Pred_b.tolist(), dtype=float)\n",
    "    score = metrics.roc_auc_score(label, pred)\n",
    "    return score"
   ]
  },
  {
   "cell_type": "code",
   "execution_count": 3,
   "id": "af4f6265",
   "metadata": {},
   "outputs": [],
   "source": [
    "from scipy.special import softmax\n",
    "\n",
    "def binary_cls(cls):\n",
    "    if cls == 0 or cls == 1:\n",
    "        return 0\n",
    "    elif cls == 2 or cls == 3:\n",
    "        return 1\n",
    "    else:\n",
    "        return None\n",
    "    \n",
    "def binary_pred(pred):\n",
    "    pred = np.array(pred.split(','), dtype=float)\n",
    "    pred_b = np.array([pred[0]+pred[1], pred[2]+pred[3]])\n",
    "    pred_b = softmax(pred_b)\n",
    "    return pred_b[1] # the probability to greater label"
   ]
  },
  {
   "cell_type": "markdown",
   "id": "ec90322c",
   "metadata": {},
   "source": [
    "## 0. Extract SMILES for inference"
   ]
  },
  {
   "cell_type": "code",
   "execution_count": 4,
   "id": "a20b7806",
   "metadata": {},
   "outputs": [],
   "source": [
    "# suppl = Chem.SDMolSupplier(\"./Chirality/chirbase_clean.sdf\")\n",
    "# mols = [x for x in suppl if x is not None]\n",
    "\n",
    "# df_dict = {'SMILES': []}\n",
    "# for mol in mols: \n",
    "#     smiles = Chem.MolToSmiles(mol)\n",
    "#     df_dict['SMILES'].append(smiles)\n",
    "\n",
    "# df = pd.DataFrame.from_dict(df_dict).drop_duplicates(['SMILES']).reset_index(drop=True)\n",
    "\n",
    "# df.to_csv('./Chirality/chirbase_all_mol.csv', header=False, index=False)"
   ]
  },
  {
   "cell_type": "code",
   "execution_count": 5,
   "id": "ca43c481",
   "metadata": {},
   "outputs": [],
   "source": [
    "# df"
   ]
  },
  {
   "cell_type": "code",
   "execution_count": 6,
   "id": "51a0066f",
   "metadata": {},
   "outputs": [],
   "source": [
    "# df = pd.read_csv('./Chirality/chirbase_all_mol.csv', header=None, names=['SMILES'])"
   ]
  },
  {
   "cell_type": "code",
   "execution_count": 7,
   "id": "83c82f74",
   "metadata": {},
   "outputs": [],
   "source": [
    "# df"
   ]
  },
  {
   "cell_type": "markdown",
   "id": "cfec6a2f",
   "metadata": {},
   "source": [
    "## 1. Load the dataset"
   ]
  },
  {
   "cell_type": "code",
   "execution_count": 8,
   "id": "7eaf602e",
   "metadata": {},
   "outputs": [],
   "source": [
    "suppl = Chem.SDMolSupplier(\"./Chirality/chirbase_clean.sdf\")\n",
    "mols = [x for x in suppl if x is not None]"
   ]
  },
  {
   "cell_type": "code",
   "execution_count": 9,
   "id": "d8a785e6",
   "metadata": {},
   "outputs": [],
   "source": [
    "def convert2cls(chir, csp_category): \n",
    "    if csp_category == '1': \n",
    "        # For polysaccharide CSPs:\n",
    "        if chir < 1.15:\n",
    "            y = 0\n",
    "        elif chir < 1.2:\n",
    "            y = 1\n",
    "        elif chir < 2.1:\n",
    "            y = 2\n",
    "        else:\n",
    "            y = 3\n",
    "    elif csp_category == '2': \n",
    "        # For Pirkle CSPs:\n",
    "        if chir < 1.05: \n",
    "            y = 0\n",
    "        elif chir < 1.15:\n",
    "            y = 1\n",
    "        elif chir < 2: \n",
    "            y = 2\n",
    "        else:\n",
    "            y = 3\n",
    "    else:\n",
    "        raise Exception(\"The category for CSP should be 1 or 2, rather than {}.\".format(csp_category))\n",
    "    return y"
   ]
  },
  {
   "cell_type": "code",
   "execution_count": 10,
   "id": "3ddce305",
   "metadata": {},
   "outputs": [],
   "source": [
    "df_dict = {'SMILES': [], 'MB': [], 'K2/K1': [], 'Y': []}\n",
    "\n",
    "for mol in mols: \n",
    "    if mol.HasProp('encode_mobile_phase'):\n",
    "        mb = mol.GetProp('encode_mobile_phase')\n",
    "    else:\n",
    "        mb = 'unknown'\n",
    "    smiles = Chem.MolToSmiles(mol)\n",
    "    chir = round(float(mol.GetProp('k2/k1')), 4)\n",
    "    y = convert2cls(chir, mol.GetProp('mobile_phase_category'))\n",
    "    \n",
    "    df_dict['SMILES'].append(smiles)\n",
    "    df_dict['K2/K1'].append(chir)\n",
    "    df_dict['MB'].append(mb)\n",
    "    df_dict['Y'].append(y)\n",
    "\n",
    "df_label = pd.DataFrame.from_dict(df_dict)"
   ]
  },
  {
   "cell_type": "code",
   "execution_count": 11,
   "id": "906fa934",
   "metadata": {},
   "outputs": [
    {
     "data": {
      "text/html": [
       "<div>\n",
       "<style scoped>\n",
       "    .dataframe tbody tr th:only-of-type {\n",
       "        vertical-align: middle;\n",
       "    }\n",
       "\n",
       "    .dataframe tbody tr th {\n",
       "        vertical-align: top;\n",
       "    }\n",
       "\n",
       "    .dataframe thead th {\n",
       "        text-align: right;\n",
       "    }\n",
       "</style>\n",
       "<table border=\"1\" class=\"dataframe\">\n",
       "  <thead>\n",
       "    <tr style=\"text-align: right;\">\n",
       "      <th></th>\n",
       "      <th>SMILES</th>\n",
       "      <th>MB</th>\n",
       "      <th>K2/K1</th>\n",
       "      <th>Y</th>\n",
       "    </tr>\n",
       "  </thead>\n",
       "  <tbody>\n",
       "    <tr>\n",
       "      <th>0</th>\n",
       "      <td>CCC(=O)O[C@@H](C)c1ccccc1</td>\n",
       "      <td>15</td>\n",
       "      <td>1.0100</td>\n",
       "      <td>0</td>\n",
       "    </tr>\n",
       "    <tr>\n",
       "      <th>1</th>\n",
       "      <td>CC(=O)O[C@@H](C)c1ccccc1</td>\n",
       "      <td>15</td>\n",
       "      <td>1.0300</td>\n",
       "      <td>0</td>\n",
       "    </tr>\n",
       "    <tr>\n",
       "      <th>2</th>\n",
       "      <td>O=C(O)[C@@H](Cl)c1ccccc1</td>\n",
       "      <td>15</td>\n",
       "      <td>1.0300</td>\n",
       "      <td>0</td>\n",
       "    </tr>\n",
       "    <tr>\n",
       "      <th>3</th>\n",
       "      <td>CCC[C@@H](C(N)=O)c1ccc(O)c(O)c1</td>\n",
       "      <td>15</td>\n",
       "      <td>1.3100</td>\n",
       "      <td>2</td>\n",
       "    </tr>\n",
       "    <tr>\n",
       "      <th>4</th>\n",
       "      <td>COc1ccccc1[C@H](C)O</td>\n",
       "      <td>15</td>\n",
       "      <td>1.0400</td>\n",
       "      <td>0</td>\n",
       "    </tr>\n",
       "    <tr>\n",
       "      <th>...</th>\n",
       "      <td>...</td>\n",
       "      <td>...</td>\n",
       "      <td>...</td>\n",
       "      <td>...</td>\n",
       "    </tr>\n",
       "    <tr>\n",
       "      <th>76790</th>\n",
       "      <td>CCOc1ccccc1OCCN[C@@H](C)Cc1ccc(OC)c(S(N)(=O)=O)c1</td>\n",
       "      <td>8</td>\n",
       "      <td>1.1843</td>\n",
       "      <td>2</td>\n",
       "    </tr>\n",
       "    <tr>\n",
       "      <th>76791</th>\n",
       "      <td>CCOc1ccccc1OCCN[C@@H](C)Cc1ccc(OC)c(S(N)(=O)=O)c1</td>\n",
       "      <td>11</td>\n",
       "      <td>1.8069</td>\n",
       "      <td>2</td>\n",
       "    </tr>\n",
       "    <tr>\n",
       "      <th>76792</th>\n",
       "      <td>CCC[S@@](=O)c1ccc2[nH]c(NC(=O)OC)nc2c1</td>\n",
       "      <td>16</td>\n",
       "      <td>2.1600</td>\n",
       "      <td>3</td>\n",
       "    </tr>\n",
       "    <tr>\n",
       "      <th>76793</th>\n",
       "      <td>NC(=S)N1N=C(c2ccc(-c3ccccc3)cc2)C[C@@H]1c1ccccc1</td>\n",
       "      <td>6</td>\n",
       "      <td>5.0000</td>\n",
       "      <td>3</td>\n",
       "    </tr>\n",
       "    <tr>\n",
       "      <th>76794</th>\n",
       "      <td>CNC(=S)N1N=C(c2ccc(-c3ccccc3)cc2)C[C@@H]1c1ccccc1</td>\n",
       "      <td>6</td>\n",
       "      <td>3.0000</td>\n",
       "      <td>3</td>\n",
       "    </tr>\n",
       "  </tbody>\n",
       "</table>\n",
       "<p>76795 rows × 4 columns</p>\n",
       "</div>"
      ],
      "text/plain": [
       "                                                  SMILES  MB   K2/K1  Y\n",
       "0                              CCC(=O)O[C@@H](C)c1ccccc1  15  1.0100  0\n",
       "1                               CC(=O)O[C@@H](C)c1ccccc1  15  1.0300  0\n",
       "2                               O=C(O)[C@@H](Cl)c1ccccc1  15  1.0300  0\n",
       "3                        CCC[C@@H](C(N)=O)c1ccc(O)c(O)c1  15  1.3100  2\n",
       "4                                    COc1ccccc1[C@H](C)O  15  1.0400  0\n",
       "...                                                  ...  ..     ... ..\n",
       "76790  CCOc1ccccc1OCCN[C@@H](C)Cc1ccc(OC)c(S(N)(=O)=O)c1   8  1.1843  2\n",
       "76791  CCOc1ccccc1OCCN[C@@H](C)Cc1ccc(OC)c(S(N)(=O)=O)c1  11  1.8069  2\n",
       "76792             CCC[S@@](=O)c1ccc2[nH]c(NC(=O)OC)nc2c1  16  2.1600  3\n",
       "76793   NC(=S)N1N=C(c2ccc(-c3ccccc3)cc2)C[C@@H]1c1ccccc1   6  5.0000  3\n",
       "76794  CNC(=S)N1N=C(c2ccc(-c3ccccc3)cc2)C[C@@H]1c1ccccc1   6  3.0000  3\n",
       "\n",
       "[76795 rows x 4 columns]"
      ]
     },
     "execution_count": 11,
     "metadata": {},
     "output_type": "execute_result"
    }
   ],
   "source": [
    "df_label"
   ]
  },
  {
   "cell_type": "markdown",
   "id": "4312e64a",
   "metadata": {},
   "source": [
    "Duplicates the compounds in each CSP (keep the larges k2/k1 in each CSP)"
   ]
  },
  {
   "cell_type": "code",
   "execution_count": 12,
   "id": "af4f4400",
   "metadata": {},
   "outputs": [],
   "source": [
    "df_label = df_label.sort_values(['SMILES', 'MB', 'K2/K1'], ascending=False).drop_duplicates(['SMILES', 'MB']).sort_index()"
   ]
  },
  {
   "cell_type": "markdown",
   "id": "7dfdc6e6",
   "metadata": {},
   "source": [
    "Keep the compounds that the largest k2/k1 is in \\{Class 0, Class 1\\}"
   ]
  },
  {
   "cell_type": "code",
   "execution_count": 13,
   "id": "091813cc",
   "metadata": {},
   "outputs": [],
   "source": [
    "potentially_unsolved_smiles = df_label.sort_values(['SMILES', 'K2/K1'], \n",
    "                                                   ascending=False).drop_duplicates(['SMILES']).sort_index()\n",
    "\n",
    "potentially_unsolved_smiles = potentially_unsolved_smiles[(potentially_unsolved_smiles['Y'] == 0) | \n",
    "                                                          (potentially_unsolved_smiles['Y'] == 1)]\n",
    "\n",
    "potentially_unsolved_smiles = list(set(potentially_unsolved_smiles['SMILES'].tolist()))"
   ]
  },
  {
   "cell_type": "markdown",
   "id": "12720189",
   "metadata": {},
   "source": [
    "Keep the compounds have more than 5 unsolved CSPs"
   ]
  },
  {
   "cell_type": "code",
   "execution_count": 14,
   "id": "76a29ddc",
   "metadata": {},
   "outputs": [],
   "source": [
    "# df_unsolve = df_label[df_label.SMILES.isin(potentially_unsolved_smiles)]\n",
    "\n",
    "# df_unsolve_cnt = df_unsolve.groupby(['SMILES']).size().to_frame(name='Count').reset_index()\n",
    "\n",
    "# df_unsolve = df_unsolve.merge(df_unsolve_cnt, on='SMILES', how='left')\n",
    "\n",
    "# df_unsolve = df_unsolve[df_unsolve['Count'] >= 3]"
   ]
  },
  {
   "cell_type": "code",
   "execution_count": 15,
   "id": "f152a5ec",
   "metadata": {},
   "outputs": [],
   "source": [
    "# df_unsolve"
   ]
  },
  {
   "cell_type": "code",
   "execution_count": 16,
   "id": "4484cc83",
   "metadata": {},
   "outputs": [],
   "source": [
    "# sns.countplot(x=df_unsolve['MB'])"
   ]
  },
  {
   "cell_type": "code",
   "execution_count": 17,
   "id": "b740c57b",
   "metadata": {},
   "outputs": [],
   "source": [
    "# potentially_unsolved_smiles = list(set(df_unsolve['SMILES'].tolist()))"
   ]
  },
  {
   "cell_type": "markdown",
   "id": "871f634e",
   "metadata": {},
   "source": [
    "## 2. Load the prediction results"
   ]
  },
  {
   "cell_type": "code",
   "execution_count": 18,
   "id": "721699e5",
   "metadata": {},
   "outputs": [],
   "source": [
    "dfs = []\n",
    "for mb in range(18): \n",
    "    dfs.append(pd.read_csv('../results_all/molnet_chirality_cls_etkdg_csp{}.csv'.format(str(mb)), \n",
    "                            sep='\\t', index_col=0))\n",
    "        \n",
    "df_pred = pd.concat(dfs, ignore_index=True)"
   ]
  },
  {
   "cell_type": "code",
   "execution_count": 19,
   "id": "2073b80e",
   "metadata": {},
   "outputs": [],
   "source": [
    "df_pred['Pred_b'] = df_pred['Pred'].apply(binary_pred)"
   ]
  },
  {
   "cell_type": "markdown",
   "id": "68d9364a",
   "metadata": {},
   "source": [
    "Duplecated the SMILES and MB (keep largest probability)"
   ]
  },
  {
   "cell_type": "code",
   "execution_count": 20,
   "id": "4c78a81b",
   "metadata": {},
   "outputs": [],
   "source": [
    "df_pred = df_pred.sort_values(['SMILES', 'MB', 'Pred_b'], ascending=False).drop_duplicates(['SMILES', 'MB']).sort_index()"
   ]
  },
  {
   "cell_type": "code",
   "execution_count": 21,
   "id": "326604a8",
   "metadata": {},
   "outputs": [
    {
     "data": {
      "text/html": [
       "<div>\n",
       "<style scoped>\n",
       "    .dataframe tbody tr th:only-of-type {\n",
       "        vertical-align: middle;\n",
       "    }\n",
       "\n",
       "    .dataframe tbody tr th {\n",
       "        vertical-align: top;\n",
       "    }\n",
       "\n",
       "    .dataframe thead th {\n",
       "        text-align: right;\n",
       "    }\n",
       "</style>\n",
       "<table border=\"1\" class=\"dataframe\">\n",
       "  <thead>\n",
       "    <tr style=\"text-align: right;\">\n",
       "      <th></th>\n",
       "      <th>SMILES</th>\n",
       "      <th>MB</th>\n",
       "      <th>Pred</th>\n",
       "      <th>Pred_b</th>\n",
       "    </tr>\n",
       "  </thead>\n",
       "  <tbody>\n",
       "    <tr>\n",
       "      <th>0</th>\n",
       "      <td>CCC(=O)O[C@@H](C)c1ccccc1</td>\n",
       "      <td>0</td>\n",
       "      <td>0.3889167606830597,0.5137520432472229,0.030987...</td>\n",
       "      <td>0.308885</td>\n",
       "    </tr>\n",
       "    <tr>\n",
       "      <th>1</th>\n",
       "      <td>CC(=O)O[C@@H](C)c1ccccc1</td>\n",
       "      <td>0</td>\n",
       "      <td>0.16129951179027557,0.7493444085121155,0.03686...</td>\n",
       "      <td>0.305490</td>\n",
       "    </tr>\n",
       "    <tr>\n",
       "      <th>2</th>\n",
       "      <td>O=C(O)[C@@H](Cl)c1ccccc1</td>\n",
       "      <td>0</td>\n",
       "      <td>0.15051311254501343,0.3496148884296417,0.45872...</td>\n",
       "      <td>0.499936</td>\n",
       "    </tr>\n",
       "    <tr>\n",
       "      <th>3</th>\n",
       "      <td>CCC[C@@H](C(N)=O)c1ccc(O)c(O)c1</td>\n",
       "      <td>0</td>\n",
       "      <td>0.6129103302955627,0.2749169170856476,0.102698...</td>\n",
       "      <td>0.315257</td>\n",
       "    </tr>\n",
       "    <tr>\n",
       "      <th>4</th>\n",
       "      <td>COc1ccccc1[C@H](C)O</td>\n",
       "      <td>0</td>\n",
       "      <td>0.1642042100429535,0.5242459177970886,0.079424...</td>\n",
       "      <td>0.406875</td>\n",
       "    </tr>\n",
       "    <tr>\n",
       "      <th>...</th>\n",
       "      <td>...</td>\n",
       "      <td>...</td>\n",
       "      <td>...</td>\n",
       "      <td>...</td>\n",
       "    </tr>\n",
       "    <tr>\n",
       "      <th>641587</th>\n",
       "      <td>CC(C)[C@H](CO)NC(=O)COc1ccc2c(=O)c3ccccc3oc2c1</td>\n",
       "      <td>17</td>\n",
       "      <td>0.1206110492348671,0.00039688986726105213,0.87...</td>\n",
       "      <td>0.680916</td>\n",
       "    </tr>\n",
       "    <tr>\n",
       "      <th>641588</th>\n",
       "      <td>C[C@H](CO)NC(=O)COc1ccc2c(=O)c3ccccc3oc2c1</td>\n",
       "      <td>17</td>\n",
       "      <td>0.05070577934384346,0.0003198385238647461,0.94...</td>\n",
       "      <td>0.710528</td>\n",
       "    </tr>\n",
       "    <tr>\n",
       "      <th>641589</th>\n",
       "      <td>C[C@@H](O)CNC(=O)COc1ccc2c(=O)c3ccccc3oc2c1</td>\n",
       "      <td>17</td>\n",
       "      <td>0.2399488240480423,0.008412951603531837,0.7515...</td>\n",
       "      <td>0.623229</td>\n",
       "    </tr>\n",
       "    <tr>\n",
       "      <th>641590</th>\n",
       "      <td>NC(=S)N1N=C(c2ccc(-c3ccccc3)cc2)C[C@@H]1c1ccccc1</td>\n",
       "      <td>17</td>\n",
       "      <td>0.10954707860946655,0.004006172996014357,0.495...</td>\n",
       "      <td>0.684146</td>\n",
       "    </tr>\n",
       "    <tr>\n",
       "      <th>641591</th>\n",
       "      <td>CNC(=S)N1N=C(c2ccc(-c3ccccc3)cc2)C[C@@H]1c1ccccc1</td>\n",
       "      <td>17</td>\n",
       "      <td>0.09155917167663574,0.0883483737707138,0.17298...</td>\n",
       "      <td>0.654795</td>\n",
       "    </tr>\n",
       "  </tbody>\n",
       "</table>\n",
       "<p>641592 rows × 4 columns</p>\n",
       "</div>"
      ],
      "text/plain": [
       "                                                   SMILES  MB  \\\n",
       "0                               CCC(=O)O[C@@H](C)c1ccccc1   0   \n",
       "1                                CC(=O)O[C@@H](C)c1ccccc1   0   \n",
       "2                                O=C(O)[C@@H](Cl)c1ccccc1   0   \n",
       "3                         CCC[C@@H](C(N)=O)c1ccc(O)c(O)c1   0   \n",
       "4                                     COc1ccccc1[C@H](C)O   0   \n",
       "...                                                   ...  ..   \n",
       "641587     CC(C)[C@H](CO)NC(=O)COc1ccc2c(=O)c3ccccc3oc2c1  17   \n",
       "641588         C[C@H](CO)NC(=O)COc1ccc2c(=O)c3ccccc3oc2c1  17   \n",
       "641589        C[C@@H](O)CNC(=O)COc1ccc2c(=O)c3ccccc3oc2c1  17   \n",
       "641590   NC(=S)N1N=C(c2ccc(-c3ccccc3)cc2)C[C@@H]1c1ccccc1  17   \n",
       "641591  CNC(=S)N1N=C(c2ccc(-c3ccccc3)cc2)C[C@@H]1c1ccccc1  17   \n",
       "\n",
       "                                                     Pred    Pred_b  \n",
       "0       0.3889167606830597,0.5137520432472229,0.030987...  0.308885  \n",
       "1       0.16129951179027557,0.7493444085121155,0.03686...  0.305490  \n",
       "2       0.15051311254501343,0.3496148884296417,0.45872...  0.499936  \n",
       "3       0.6129103302955627,0.2749169170856476,0.102698...  0.315257  \n",
       "4       0.1642042100429535,0.5242459177970886,0.079424...  0.406875  \n",
       "...                                                   ...       ...  \n",
       "641587  0.1206110492348671,0.00039688986726105213,0.87...  0.680916  \n",
       "641588  0.05070577934384346,0.0003198385238647461,0.94...  0.710528  \n",
       "641589  0.2399488240480423,0.008412951603531837,0.7515...  0.623229  \n",
       "641590  0.10954707860946655,0.004006172996014357,0.495...  0.684146  \n",
       "641591  0.09155917167663574,0.0883483737707138,0.17298...  0.654795  \n",
       "\n",
       "[641592 rows x 4 columns]"
      ]
     },
     "execution_count": 21,
     "metadata": {},
     "output_type": "execute_result"
    }
   ],
   "source": [
    "df_pred"
   ]
  },
  {
   "cell_type": "markdown",
   "id": "da4c1bc9",
   "metadata": {},
   "source": [
    "## 3. Plot the predicted solvable CSP count"
   ]
  },
  {
   "cell_type": "markdown",
   "id": "a194714d",
   "metadata": {},
   "source": [
    "Enantioselective CSPs count in labels"
   ]
  },
  {
   "cell_type": "code",
   "execution_count": 22,
   "id": "6f87a1b7",
   "metadata": {},
   "outputs": [],
   "source": [
    "df_label_solve = df_label[(df_label['Y'] == 2) | (df_label['Y'] == 3)]\n",
    "df_label_solve_cnt = df_label_solve.groupby(['SMILES']).size().to_frame(name='Count').reset_index()\n",
    "\n",
    "smiles_list = list(set(df_label['SMILES'].tolist()))\n",
    "solve_smiles_list = list(set(df_label_solve['SMILES'].tolist()))\n",
    "unsolve_smiles_list = [s for s in smiles_list if s not in solve_smiles_list]\n",
    "df_label_unsolve_cnt = pd.DataFrame.from_dict({'SMILES': unsolve_smiles_list, 'Count': [0]*len(unsolve_smiles_list)})\n",
    "\n",
    "df_label_cnt = pd.concat([df_label_solve_cnt, df_label_unsolve_cnt])"
   ]
  },
  {
   "cell_type": "code",
   "execution_count": 23,
   "id": "bcf76d25",
   "metadata": {},
   "outputs": [
    {
     "data": {
      "text/html": [
       "<div>\n",
       "<style scoped>\n",
       "    .dataframe tbody tr th:only-of-type {\n",
       "        vertical-align: middle;\n",
       "    }\n",
       "\n",
       "    .dataframe tbody tr th {\n",
       "        vertical-align: top;\n",
       "    }\n",
       "\n",
       "    .dataframe thead th {\n",
       "        text-align: right;\n",
       "    }\n",
       "</style>\n",
       "<table border=\"1\" class=\"dataframe\">\n",
       "  <thead>\n",
       "    <tr style=\"text-align: right;\">\n",
       "      <th></th>\n",
       "      <th>SMILES</th>\n",
       "      <th>Count</th>\n",
       "    </tr>\n",
       "  </thead>\n",
       "  <tbody>\n",
       "    <tr>\n",
       "      <th>0</th>\n",
       "      <td>B[PH](C)(CCO)c1ccccc1</td>\n",
       "      <td>1</td>\n",
       "    </tr>\n",
       "    <tr>\n",
       "      <th>1</th>\n",
       "      <td>B[PH](C)(c1ccccc1)c1cccc(OC)c1</td>\n",
       "      <td>1</td>\n",
       "    </tr>\n",
       "    <tr>\n",
       "      <th>2</th>\n",
       "      <td>B[PH](C)(c1ccccc1)c1ccccc1C(=O)OC(C)(C)C</td>\n",
       "      <td>1</td>\n",
       "    </tr>\n",
       "    <tr>\n",
       "      <th>3</th>\n",
       "      <td>B[PH](C)(c1ccccc1)c1ccccc1C(=O)Oc1c(C(C)C)cccc...</td>\n",
       "      <td>1</td>\n",
       "    </tr>\n",
       "    <tr>\n",
       "      <th>4</th>\n",
       "      <td>B[PH](C)(c1ccccc1)c1ccccc1C(=O)Oc1c(C)cccc1C</td>\n",
       "      <td>1</td>\n",
       "    </tr>\n",
       "    <tr>\n",
       "      <th>...</th>\n",
       "      <td>...</td>\n",
       "      <td>...</td>\n",
       "    </tr>\n",
       "    <tr>\n",
       "      <th>7990</th>\n",
       "      <td>Cc1ccc(S(=O)(=O)N[C@H]2COc3ccccc3C2=O)cc1</td>\n",
       "      <td>0</td>\n",
       "    </tr>\n",
       "    <tr>\n",
       "      <th>7991</th>\n",
       "      <td>COc1ccc(CO[C@H](C(=O)c2ccccc2)c2ccccc2)cc1</td>\n",
       "      <td>0</td>\n",
       "    </tr>\n",
       "    <tr>\n",
       "      <th>7992</th>\n",
       "      <td>O=C(Cc1ccc([N+](=O)[O-])cc1)[C@H](CO)Cc1ccccc1</td>\n",
       "      <td>0</td>\n",
       "    </tr>\n",
       "    <tr>\n",
       "      <th>7993</th>\n",
       "      <td>CC#CCN1C(=O)OC[C@@H]1CO</td>\n",
       "      <td>0</td>\n",
       "    </tr>\n",
       "    <tr>\n",
       "      <th>7994</th>\n",
       "      <td>CCC(=O)O[C@@H](C#N)c1ccc2ccccc2c1</td>\n",
       "      <td>0</td>\n",
       "    </tr>\n",
       "  </tbody>\n",
       "</table>\n",
       "<p>35644 rows × 2 columns</p>\n",
       "</div>"
      ],
      "text/plain": [
       "                                                 SMILES  Count\n",
       "0                                 B[PH](C)(CCO)c1ccccc1      1\n",
       "1                        B[PH](C)(c1ccccc1)c1cccc(OC)c1      1\n",
       "2              B[PH](C)(c1ccccc1)c1ccccc1C(=O)OC(C)(C)C      1\n",
       "3     B[PH](C)(c1ccccc1)c1ccccc1C(=O)Oc1c(C(C)C)cccc...      1\n",
       "4          B[PH](C)(c1ccccc1)c1ccccc1C(=O)Oc1c(C)cccc1C      1\n",
       "...                                                 ...    ...\n",
       "7990          Cc1ccc(S(=O)(=O)N[C@H]2COc3ccccc3C2=O)cc1      0\n",
       "7991         COc1ccc(CO[C@H](C(=O)c2ccccc2)c2ccccc2)cc1      0\n",
       "7992     O=C(Cc1ccc([N+](=O)[O-])cc1)[C@H](CO)Cc1ccccc1      0\n",
       "7993                            CC#CCN1C(=O)OC[C@@H]1CO      0\n",
       "7994                  CCC(=O)O[C@@H](C#N)c1ccc2ccccc2c1      0\n",
       "\n",
       "[35644 rows x 2 columns]"
      ]
     },
     "execution_count": 23,
     "metadata": {},
     "output_type": "execute_result"
    }
   ],
   "source": [
    "df_label_cnt"
   ]
  },
  {
   "cell_type": "code",
   "execution_count": 67,
   "id": "1053fcd8",
   "metadata": {},
   "outputs": [
    {
     "data": {
      "image/png": "[encoded data removed]",
      "text/plain": [
       "<Figure size 360x432 with 1 Axes>"
      ]
     },
     "metadata": {},
     "output_type": "display_data"
    }
   ],
   "source": [
    "fig, ax = plt.subplots(figsize=(5, 6))\n",
    "\n",
    "sns.countplot(data=df_label_cnt, x=\"Count\", ax=ax, palette=['tab:red']+['tab:blue']*15)\n",
    "# ax.set_yscale('log')\n",
    "for label in ax.containers:\n",
    "    ax.bar_label(label)\n",
    "    \n",
    "ax.set(xlabel='Labeled enantioselective chiral column count', ylabel='Compound count')\n",
    "\n",
    "plt.savefig('./label_cnt.eps', dpi=600, bbox_inches='tight', format='eps')\n",
    "plt.savefig('./label_cnt.png', dpi=600, bbox_inches='tight')\n",
    "plt.show()"
   ]
  },
  {
   "cell_type": "markdown",
   "id": "3c46df2d",
   "metadata": {},
   "source": [
    "Enantioselective CSPs count in predictions (exclude the labeled CSPs for each compounds)"
   ]
  },
  {
   "cell_type": "code",
   "execution_count": 32,
   "id": "f0dd56a4",
   "metadata": {},
   "outputs": [],
   "source": [
    "df_label['MB'] = df_label['MB'].astype(int)\n",
    "df_pred['MB'] = df_pred['MB'].astype(int)\n",
    "\n",
    "df_pred_unlabeled = df_pred.merge(df_label, on=['SMILES', 'MB'], how='left')\n",
    "df_pred_unlabeled = df_pred_unlabeled[df_pred_unlabeled['Y'].isna()]\n",
    "\n",
    "df_pred_solve = df_pred_unlabeled[df_pred_unlabeled['Pred_b'] > 0.5]\n",
    "df_pred_solve_cnt = df_pred_solve.groupby(['SMILES']).size().to_frame(name='Count').reset_index()\n",
    "\n",
    "smiles_list = list(set(df_pred['SMILES'].tolist()))\n",
    "solve_smiles_list = list(set(df_pred_solve['SMILES'].tolist()))\n",
    "unsolve_smiles_list = [s for s in smiles_list if s not in solve_smiles_list]\n",
    "df_pred_unsolve_cnt = pd.DataFrame.from_dict({'SMILES': unsolve_smiles_list, 'Count': [0]*len(unsolve_smiles_list)})\n",
    "\n",
    "df_pred_cnt_label = pd.concat([df_pred_solve_cnt, df_pred_unsolve_cnt])\n",
    "\n",
    "df_pred_cnt_label['Label'] = df_pred_cnt_label['SMILES'].apply(lambda x: 'potentially unsolved' \\\n",
    "                                                                if x in potentially_unsolved_smiles \\\n",
    "                                                                else 'solved')"
   ]
  },
  {
   "cell_type": "code",
   "execution_count": 63,
   "id": "ead3719c",
   "metadata": {},
   "outputs": [
    {
     "name": "stderr",
     "output_type": "stream",
     "text": [
      "The PostScript backend does not support transparency; partially transparent artists will be rendered opaque.\n"
     ]
    },
    {
     "data": {
      "image/png": "[encoded data removed]",
      "text/plain": [
       "<Figure size 648x432 with 1 Axes>"
      ]
     },
     "metadata": {},
     "output_type": "display_data"
    }
   ],
   "source": [
    "fig, ax = plt.subplots(figsize=(9, 6))\n",
    "\n",
    "sns.countplot(data=df_pred_cnt_label, x=\"Count\", hue='Label', ax=ax,\n",
    "             hue_order=['potentially unsolved', 'solved'],\n",
    "             palette=['tab:red', 'tab:blue'])\n",
    "# ax.set_yscale('log')\n",
    "plt.legend(loc='upper right')\n",
    "for label in ax.containers:\n",
    "    ax.bar_label(label)\n",
    "\n",
    "ax.set(xlabel='Predicted enantioselective chiral column count (unlabeled CSPs)', ylabel='Compound count')\n",
    "\n",
    "plt.savefig('./pred_cnt_unlabel.eps', dpi=600, bbox_inches='tight', format='eps')\n",
    "plt.savefig('./pred_cnt_unlabel.png', dpi=600, bbox_inches='tight')\n",
    "plt.show()"
   ]
  },
  {
   "cell_type": "code",
   "execution_count": 33,
   "id": "21a8ffb9",
   "metadata": {},
   "outputs": [],
   "source": [
    "df_label['MB'] = df_label['MB'].astype(int)\n",
    "df_pred['MB'] = df_pred['MB'].astype(int)\n",
    "\n",
    "df_pred_labeled = df_pred.merge(df_label, on=['SMILES', 'MB'], how='left')\n",
    "df_pred_labeled = df_pred_labeled[~df_pred_labeled['Y'].isna()]\n",
    "\n",
    "df_pred_solve = df_pred_labeled[df_pred_labeled['Pred_b'] > 0.5]\n",
    "df_pred_solve_cnt = df_pred_solve.groupby(['SMILES']).size().to_frame(name='Count').reset_index()\n",
    "\n",
    "smiles_list = list(set(df_pred['SMILES'].tolist()))\n",
    "solve_smiles_list = list(set(df_pred_solve['SMILES'].tolist()))\n",
    "unsolve_smiles_list = [s for s in smiles_list if s not in solve_smiles_list]\n",
    "df_pred_unsolve_cnt = pd.DataFrame.from_dict({'SMILES': unsolve_smiles_list, 'Count': [0]*len(unsolve_smiles_list)})\n",
    "\n",
    "df_pred_cnt_unlabeled = pd.concat([df_pred_solve_cnt, df_pred_unsolve_cnt])\n",
    "\n",
    "df_pred_cnt_unlabeled['Label'] = df_pred_cnt_unlabeled['SMILES'].apply(lambda x: 'potentially unsolved' \\\n",
    "                                                                        if x in potentially_unsolved_smiles \\\n",
    "                                                                        else 'solved')"
   ]
  },
  {
   "cell_type": "markdown",
   "id": "f2e1dc49",
   "metadata": {},
   "source": [
    "Enantioselective CSPs count in predictions (the labeled CSPs for each compounds)"
   ]
  },
  {
   "cell_type": "code",
   "execution_count": 64,
   "id": "5adaa4f1",
   "metadata": {},
   "outputs": [
    {
     "name": "stderr",
     "output_type": "stream",
     "text": [
      "The PostScript backend does not support transparency; partially transparent artists will be rendered opaque.\n"
     ]
    },
    {
     "data": {
      "image/png": "[encoded data removed]",
      "text/plain": [
       "<Figure size 648x432 with 1 Axes>"
      ]
     },
     "metadata": {},
     "output_type": "display_data"
    }
   ],
   "source": [
    "fig, ax = plt.subplots(figsize=(9, 6))\n",
    "\n",
    "sns.countplot(data=df_pred_cnt_unlabeled, x=\"Count\", hue='Label', ax=ax, \n",
    "              hue_order=['potentially unsolved', 'solved'],\n",
    "             palette=['tab:red', 'tab:blue'])\n",
    "# ax.set_yscale('log')\n",
    "plt.legend(loc='upper right')\n",
    "for label in ax.containers:\n",
    "    ax.bar_label(label)\n",
    "\n",
    "ax.set(xlabel='Predicted enantioselective chiral column count (labeled CSPs)', ylabel='Compound count')\n",
    "\n",
    "plt.savefig('./pred_cnt_label.eps', dpi=600, bbox_inches='tight', format='eps')\n",
    "plt.savefig('./pred_cnt_label.png', dpi=600, bbox_inches='tight')\n",
    "plt.show()"
   ]
  },
  {
   "cell_type": "code",
   "execution_count": 60,
   "id": "159ac66b",
   "metadata": {},
   "outputs": [],
   "source": [
    "# fig, axs = plt.subplots(1, 3, figsize=(20, 6), gridspec_kw={'width_ratios': [1, 2, 2]}, sharey=True)\n",
    "# fig.subplots_adjust(hspace=0.02, wspace=0.02)\n",
    "\n",
    "\n",
    "\n",
    "# sns.countplot(data=df_label_cnt, x=\"Count\", ax=axs[0], palette=['tab:red']+['tab:blue']*15)\n",
    "# axs[0].set_yscale('log')\n",
    "# for label in axs[0].containers:\n",
    "#     axs[0].bar_label(label)\n",
    "# axs[0].set(xlabel='Labeled enantioselective chiral column count', ylabel='Compound count')\n",
    "\n",
    "\n",
    "\n",
    "# sns.countplot(data=df_pred_cnt_unlabeled, x=\"Count\", hue='Label', ax=axs[1], \n",
    "#               hue_order=['potentially unsolved', 'solved'],\n",
    "#              palette=['tab:red', 'tab:blue'])\n",
    "# axs[1].legend(loc='upper right')\n",
    "# axs[1].yaxis.label.set_visible(False)\n",
    "# for label in axs[1].containers:\n",
    "#     axs[1].bar_label(label)\n",
    "# axs[1].set(xlabel='Predicted enantioselective chiral column count (labeled CSPs)', ylabel='Compound count')\n",
    "\n",
    "\n",
    "\n",
    "# sns.countplot(data=df_pred_cnt_label, x=\"Count\", hue='Label', ax=axs[2],\n",
    "#              hue_order=['potentially unsolved', 'solved'],\n",
    "#              palette=['tab:red', 'tab:blue'])\n",
    "# axs[2].legend(loc='upper right')\n",
    "# axs[2].yaxis.label.set_visible(False)\n",
    "# for label in axs[2].containers:\n",
    "#     axs[2].bar_label(label)\n",
    "# axs[2].set(xlabel='Predicted enantioselective chiral column count (unlabeled CSPs)', ylabel='Compound count')\n",
    "\n",
    "\n",
    "\n",
    "# # plt.savefig('./unsolved_compound.eps', dpi=600, bbox_inches='tight', format='eps')\n",
    "# # plt.savefig('./unsolved_compound.png', dpi=600, bbox_inches='tight')\n",
    "# plt.show()"
   ]
  },
  {
   "cell_type": "code",
   "execution_count": null,
   "id": "f54363e4",
   "metadata": {},
   "outputs": [],
   "source": []
  }
 ],
 "metadata": {
  "kernelspec": {
   "display_name": "molnet",
   "language": "python",
   "name": "molnet"
  },
  "language_info": {
   "codemirror_mode": {
    "name": "ipython",
    "version": 3
   },
   "file_extension": ".py",
   "mimetype": "text/x-python",
   "name": "python",
   "nbconvert_exporter": "python",
   "pygments_lexer": "ipython3",
   "version": "3.7.13"
  }
 },
 "nbformat": 4,
 "nbformat_minor": 5
}
