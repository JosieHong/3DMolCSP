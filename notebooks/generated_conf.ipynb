{
 "cells": [
  {
   "cell_type": "code",
   "execution_count": 1,
   "id": "5d9bb13a",
   "metadata": {},
   "outputs": [],
   "source": [
    "from rdkit import Chem\n",
    "# suppress rdkit warning\n",
    "from rdkit import RDLogger\n",
    "RDLogger.DisableLog('rdApp.*')\n",
    "from rdkit.Chem import AllChem\n",
    "from rdkit.Chem.Draw import rdDepictor\n",
    "\n",
    "import py3Dmol"
   ]
  },
  {
   "cell_type": "code",
   "execution_count": 2,
   "id": "881f8fc8",
   "metadata": {},
   "outputs": [],
   "source": [
    "def show(smi, style='stick'):\n",
    "    mol = Chem.MolFromSmiles(smi)\n",
    "    mol = Chem.AddHs(mol)\n",
    "    AllChem.EmbedMolecule(mol)\n",
    "    AllChem.MMFFOptimizeMolecule(mol, maxIters=200)\n",
    "    mblock = Chem.MolToMolBlock(mol)\n",
    "    \n",
    "    view = py3Dmol.view(width=200, height=200)\n",
    "    view.addModel(mblock, 'mol')\n",
    "    view.setStyle({style:{}})\n",
    "    view.zoomTo()\n",
    "    view.show()"
   ]
  },
  {
   "cell_type": "code",
   "execution_count": 3,
   "id": "ba5a1738",
   "metadata": {},
   "outputs": [
    {
     "data": {
      "application/3dmoljs_load.v0": "<div id=\"3dmolviewer_16910025777067711\"  style=\"position: relative; width: 200px; height: 200px;\">\n        <p id=\"3dmolwarning_16910025777067711\" style=\"background-color:#ffcccc;color:black\">You appear to be running in JupyterLab (or JavaScript failed to load for some other reason).  You need to install the 3dmol extension: <br>\n        <tt>jupyter labextension install jupyterlab_3dmol</tt></p>\n        </div>\n<script>\n\nvar loadScriptAsync = function(uri){\n  return new Promise((resolve, reject) => {\n    //this is to ignore the existence of requirejs amd\n    var savedexports, savedmodule;\n    if (typeof exports !== 'undefined') savedexports = exports;\n    else exports = {}\n    if (typeof module !== 'undefined') savedmodule = module;\n    else module = {}\n\n    var tag = document.createElement('script');\n    tag.src = uri;\n    tag.async = true;\n    tag.onload = () => {\n        exports = savedexports;\n        module = savedmodule;\n        resolve();\n    };\n  var firstScriptTag = document.getElementsByTagName('script')[0];\n  firstScriptTag.parentNode.insertBefore(tag, firstScriptTag);\n});\n};\n\nif(typeof $3Dmolpromise === 'undefined') {\n$3Dmolpromise = null;\n  $3Dmolpromise = loadScriptAsync('https://cdnjs.cloudflare.com/ajax/libs/3Dmol/2.0.3/3Dmol-min.js');\n}\n\nvar viewer_16910025777067711 = null;\nvar warn = document.getElementById(\"3dmolwarning_16910025777067711\");\nif(warn) {\n    warn.parentNode.removeChild(warn);\n}\n$3Dmolpromise.then(function() {\nviewer_16910025777067711 = $3Dmol.createViewer(document.getElementById(\"3dmolviewer_16910025777067711\"),{backgroundColor:\"white\"});\nviewer_16910025777067711.zoomTo();\n\tviewer_16910025777067711.addModel(\"\\n     RDKit          3D\\n\\n  8  7  0  0  0  0  0  0  0  0999 V2000\\n   -0.7558    0.0071   -0.0160 C   0  0  0  0  0  0  0  0  0  0  0  0\\n    0.7558   -0.0071    0.0160 C   0  0  0  0  0  0  0  0  0  0  0  0\\n   -1.1627   -0.1018    0.9937 H   0  0  0  0  0  0  0  0  0  0  0  0\\n   -1.1225    0.9487   -0.4356 H   0  0  0  0  0  0  0  0  0  0  0  0\\n   -1.1350   -0.8147   -0.6307 H   0  0  0  0  0  0  0  0  0  0  0  0\\n    1.1350    0.8148    0.6307 H   0  0  0  0  0  0  0  0  0  0  0  0\\n    1.1627    0.1018   -0.9937 H   0  0  0  0  0  0  0  0  0  0  0  0\\n    1.1226   -0.9487    0.4356 H   0  0  0  0  0  0  0  0  0  0  0  0\\n  1  2  1  0\\n  1  3  1  0\\n  1  4  1  0\\n  1  5  1  0\\n  2  6  1  0\\n  2  7  1  0\\n  2  8  1  0\\nM  END\\n\",\"mol\");\n\tviewer_16910025777067711.setStyle({\"stick\": {}});\n\tviewer_16910025777067711.zoomTo();\nviewer_16910025777067711.render();\n});\n</script>",
      "text/html": [
       "<div id=\"3dmolviewer_16910025777067711\"  style=\"position: relative; width: 200px; height: 200px;\">\n",
       "        <p id=\"3dmolwarning_16910025777067711\" style=\"background-color:#ffcccc;color:black\">You appear to be running in JupyterLab (or JavaScript failed to load for some other reason).  You need to install the 3dmol extension: <br>\n",
       "        <tt>jupyter labextension install jupyterlab_3dmol</tt></p>\n",
       "        </div>\n",
       "<script>\n",
       "\n",
       "var loadScriptAsync = function(uri){\n",
       "  return new Promise((resolve, reject) => {\n",
       "    //this is to ignore the existence of requirejs amd\n",
       "    var savedexports, savedmodule;\n",
       "    if (typeof exports !== 'undefined') savedexports = exports;\n",
       "    else exports = {}\n",
       "    if (typeof module !== 'undefined') savedmodule = module;\n",
       "    else module = {}\n",
       "\n",
       "    var tag = document.createElement('script');\n",
       "    tag.src = uri;\n",
       "    tag.async = true;\n",
       "    tag.onload = () => {\n",
       "        exports = savedexports;\n",
       "        module = savedmodule;\n",
       "        resolve();\n",
       "    };\n",
       "  var firstScriptTag = document.getElementsByTagName('script')[0];\n",
       "  firstScriptTag.parentNode.insertBefore(tag, firstScriptTag);\n",
       "});\n",
       "};\n",
       "\n",
       "if(typeof $3Dmolpromise === 'undefined') {\n",
       "$3Dmolpromise = null;\n",
       "  $3Dmolpromise = loadScriptAsync('https://cdnjs.cloudflare.com/ajax/libs/3Dmol/2.0.3/3Dmol-min.js');\n",
       "}\n",
       "\n",
       "var viewer_16910025777067711 = null;\n",
       "var warn = document.getElementById(\"3dmolwarning_16910025777067711\");\n",
       "if(warn) {\n",
       "    warn.parentNode.removeChild(warn);\n",
       "}\n",
       "$3Dmolpromise.then(function() {\n",
       "viewer_16910025777067711 = $3Dmol.createViewer(document.getElementById(\"3dmolviewer_16910025777067711\"),{backgroundColor:\"white\"});\n",
       "viewer_16910025777067711.zoomTo();\n",
       "\tviewer_16910025777067711.addModel(\"\\n     RDKit          3D\\n\\n  8  7  0  0  0  0  0  0  0  0999 V2000\\n   -0.7558    0.0071   -0.0160 C   0  0  0  0  0  0  0  0  0  0  0  0\\n    0.7558   -0.0071    0.0160 C   0  0  0  0  0  0  0  0  0  0  0  0\\n   -1.1627   -0.1018    0.9937 H   0  0  0  0  0  0  0  0  0  0  0  0\\n   -1.1225    0.9487   -0.4356 H   0  0  0  0  0  0  0  0  0  0  0  0\\n   -1.1350   -0.8147   -0.6307 H   0  0  0  0  0  0  0  0  0  0  0  0\\n    1.1350    0.8148    0.6307 H   0  0  0  0  0  0  0  0  0  0  0  0\\n    1.1627    0.1018   -0.9937 H   0  0  0  0  0  0  0  0  0  0  0  0\\n    1.1226   -0.9487    0.4356 H   0  0  0  0  0  0  0  0  0  0  0  0\\n  1  2  1  0\\n  1  3  1  0\\n  1  4  1  0\\n  1  5  1  0\\n  2  6  1  0\\n  2  7  1  0\\n  2  8  1  0\\nM  END\\n\",\"mol\");\n",
       "\tviewer_16910025777067711.setStyle({\"stick\": {}});\n",
       "\tviewer_16910025777067711.zoomTo();\n",
       "viewer_16910025777067711.render();\n",
       "});\n",
       "</script>"
      ]
     },
     "metadata": {},
     "output_type": "display_data"
    }
   ],
   "source": [
    "# example\n",
    "show('CC')  # or 'P'"
   ]
  },
  {
   "cell_type": "code",
   "execution_count": 4,
   "id": "41984975",
   "metadata": {},
   "outputs": [
    {
     "data": {
      "application/3dmoljs_load.v0": "<div id=\"3dmolviewer_16910025780108736\"  style=\"position: relative; width: 200px; height: 200px;\">\n        <p id=\"3dmolwarning_16910025780108736\" style=\"background-color:#ffcccc;color:black\">You appear to be running in JupyterLab (or JavaScript failed to load for some other reason).  You need to install the 3dmol extension: <br>\n        <tt>jupyter labextension install jupyterlab_3dmol</tt></p>\n        </div>\n<script>\n\nvar loadScriptAsync = function(uri){\n  return new Promise((resolve, reject) => {\n    //this is to ignore the existence of requirejs amd\n    var savedexports, savedmodule;\n    if (typeof exports !== 'undefined') savedexports = exports;\n    else exports = {}\n    if (typeof module !== 'undefined') savedmodule = module;\n    else module = {}\n\n    var tag = document.createElement('script');\n    tag.src = uri;\n    tag.async = true;\n    tag.onload = () => {\n        exports = savedexports;\n        module = savedmodule;\n        resolve();\n    };\n  var firstScriptTag = document.getElementsByTagName('script')[0];\n  firstScriptTag.parentNode.insertBefore(tag, firstScriptTag);\n});\n};\n\nif(typeof $3Dmolpromise === 'undefined') {\n$3Dmolpromise = null;\n  $3Dmolpromise = loadScriptAsync('https://cdnjs.cloudflare.com/ajax/libs/3Dmol/2.0.3/3Dmol-min.js');\n}\n\nvar viewer_16910025780108736 = null;\nvar warn = document.getElementById(\"3dmolwarning_16910025780108736\");\nif(warn) {\n    warn.parentNode.removeChild(warn);\n}\n$3Dmolpromise.then(function() {\nviewer_16910025780108736 = $3Dmol.createViewer(document.getElementById(\"3dmolviewer_16910025780108736\"),{backgroundColor:\"white\"});\nviewer_16910025780108736.zoomTo();\n\tviewer_16910025780108736.addModel(\"\\n     RDKit          3D\\n\\n 16 15  0  0  0  0  0  0  0  0999 V2000\\n   -2.0173    1.4873   -0.2363 F   0  0  0  0  0  0  0  0  0  0  0  0\\n   -2.7185    0.4240    0.2366 C   0  0  0  0  0  0  0  0  0  0  0  0\\n   -3.3472    0.8241    1.8476 Cl  0  0  0  0  0  0  0  0  0  0  0  0\\n   -1.9082   -0.8336    0.3146 C   0  0  0  0  0  0  0  0  0  0  0  0\\n   -0.5862   -1.0322    0.1816 C   0  0  0  0  0  0  0  0  0  0  0  0\\n    0.4257   -0.0269   -0.0437 C   0  0  0  0  0  0  0  0  0  0  0  0\\n    1.7255   -0.3304   -0.1915 C   0  0  0  0  0  0  0  0  0  0  0  0\\n    2.8104    0.6753   -0.4074 C   0  0  0  0  0  0  0  0  0  0  0  0\\n    3.7946    0.4963    0.5140 F   0  0  0  0  0  0  0  0  0  0  0  0\\n    3.5017    0.4637   -2.0289 Cl  0  0  0  0  0  0  0  0  0  0  0  0\\n   -3.5716    0.2748   -0.4315 H   0  0  0  0  0  0  0  0  0  0  0  0\\n   -2.5143   -1.7212    0.4936 H   0  0  0  0  0  0  0  0  0  0  0  0\\n   -0.2270   -2.0590    0.2654 H   0  0  0  0  0  0  0  0  0  0  0  0\\n    0.1185    1.0150   -0.0874 H   0  0  0  0  0  0  0  0  0  0  0  0\\n    2.0619   -1.3624   -0.1380 H   0  0  0  0  0  0  0  0  0  0  0  0\\n    2.4522    1.7052   -0.3215 H   0  0  0  0  0  0  0  0  0  0  0  0\\n  1  2  1  0\\n  2  3  1  0\\n  2  4  1  0\\n  4  5  2  3\\n  5  6  1  0\\n  6  7  2  3\\n  7  8  1  0\\n  8  9  1  0\\n  8 10  1  0\\n  2 11  1  0\\n  4 12  1  0\\n  5 13  1  0\\n  6 14  1  0\\n  7 15  1  0\\n  8 16  1  0\\nM  END\\n\",\"mol\");\n\tviewer_16910025780108736.setStyle({\"stick\": {}});\n\tviewer_16910025780108736.zoomTo();\nviewer_16910025780108736.render();\n});\n</script>",
      "text/html": [
       "<div id=\"3dmolviewer_16910025780108736\"  style=\"position: relative; width: 200px; height: 200px;\">\n",
       "        <p id=\"3dmolwarning_16910025780108736\" style=\"background-color:#ffcccc;color:black\">You appear to be running in JupyterLab (or JavaScript failed to load for some other reason).  You need to install the 3dmol extension: <br>\n",
       "        <tt>jupyter labextension install jupyterlab_3dmol</tt></p>\n",
       "        </div>\n",
       "<script>\n",
       "\n",
       "var loadScriptAsync = function(uri){\n",
       "  return new Promise((resolve, reject) => {\n",
       "    //this is to ignore the existence of requirejs amd\n",
       "    var savedexports, savedmodule;\n",
       "    if (typeof exports !== 'undefined') savedexports = exports;\n",
       "    else exports = {}\n",
       "    if (typeof module !== 'undefined') savedmodule = module;\n",
       "    else module = {}\n",
       "\n",
       "    var tag = document.createElement('script');\n",
       "    tag.src = uri;\n",
       "    tag.async = true;\n",
       "    tag.onload = () => {\n",
       "        exports = savedexports;\n",
       "        module = savedmodule;\n",
       "        resolve();\n",
       "    };\n",
       "  var firstScriptTag = document.getElementsByTagName('script')[0];\n",
       "  firstScriptTag.parentNode.insertBefore(tag, firstScriptTag);\n",
       "});\n",
       "};\n",
       "\n",
       "if(typeof $3Dmolpromise === 'undefined') {\n",
       "$3Dmolpromise = null;\n",
       "  $3Dmolpromise = loadScriptAsync('https://cdnjs.cloudflare.com/ajax/libs/3Dmol/2.0.3/3Dmol-min.js');\n",
       "}\n",
       "\n",
       "var viewer_16910025780108736 = null;\n",
       "var warn = document.getElementById(\"3dmolwarning_16910025780108736\");\n",
       "if(warn) {\n",
       "    warn.parentNode.removeChild(warn);\n",
       "}\n",
       "$3Dmolpromise.then(function() {\n",
       "viewer_16910025780108736 = $3Dmol.createViewer(document.getElementById(\"3dmolviewer_16910025780108736\"),{backgroundColor:\"white\"});\n",
       "viewer_16910025780108736.zoomTo();\n",
       "\tviewer_16910025780108736.addModel(\"\\n     RDKit          3D\\n\\n 16 15  0  0  0  0  0  0  0  0999 V2000\\n   -2.0173    1.4873   -0.2363 F   0  0  0  0  0  0  0  0  0  0  0  0\\n   -2.7185    0.4240    0.2366 C   0  0  0  0  0  0  0  0  0  0  0  0\\n   -3.3472    0.8241    1.8476 Cl  0  0  0  0  0  0  0  0  0  0  0  0\\n   -1.9082   -0.8336    0.3146 C   0  0  0  0  0  0  0  0  0  0  0  0\\n   -0.5862   -1.0322    0.1816 C   0  0  0  0  0  0  0  0  0  0  0  0\\n    0.4257   -0.0269   -0.0437 C   0  0  0  0  0  0  0  0  0  0  0  0\\n    1.7255   -0.3304   -0.1915 C   0  0  0  0  0  0  0  0  0  0  0  0\\n    2.8104    0.6753   -0.4074 C   0  0  0  0  0  0  0  0  0  0  0  0\\n    3.7946    0.4963    0.5140 F   0  0  0  0  0  0  0  0  0  0  0  0\\n    3.5017    0.4637   -2.0289 Cl  0  0  0  0  0  0  0  0  0  0  0  0\\n   -3.5716    0.2748   -0.4315 H   0  0  0  0  0  0  0  0  0  0  0  0\\n   -2.5143   -1.7212    0.4936 H   0  0  0  0  0  0  0  0  0  0  0  0\\n   -0.2270   -2.0590    0.2654 H   0  0  0  0  0  0  0  0  0  0  0  0\\n    0.1185    1.0150   -0.0874 H   0  0  0  0  0  0  0  0  0  0  0  0\\n    2.0619   -1.3624   -0.1380 H   0  0  0  0  0  0  0  0  0  0  0  0\\n    2.4522    1.7052   -0.3215 H   0  0  0  0  0  0  0  0  0  0  0  0\\n  1  2  1  0\\n  2  3  1  0\\n  2  4  1  0\\n  4  5  2  3\\n  5  6  1  0\\n  6  7  2  3\\n  7  8  1  0\\n  8  9  1  0\\n  8 10  1  0\\n  2 11  1  0\\n  4 12  1  0\\n  5 13  1  0\\n  6 14  1  0\\n  7 15  1  0\\n  8 16  1  0\\nM  END\\n\",\"mol\");\n",
       "\tviewer_16910025780108736.setStyle({\"stick\": {}});\n",
       "\tviewer_16910025780108736.zoomTo();\n",
       "viewer_16910025780108736.render();\n",
       "});\n",
       "</script>"
      ]
     },
     "metadata": {},
     "output_type": "display_data"
    }
   ],
   "source": [
    "show('FC(Cl)C=CC=CC(F)Cl')"
   ]
  },
  {
   "cell_type": "code",
   "execution_count": 5,
   "id": "1998dd17",
   "metadata": {},
   "outputs": [
    {
     "data": {
      "application/3dmoljs_load.v0": "<div id=\"3dmolviewer_1691002578626884\"  style=\"position: relative; width: 200px; height: 200px;\">\n        <p id=\"3dmolwarning_1691002578626884\" style=\"background-color:#ffcccc;color:black\">You appear to be running in JupyterLab (or JavaScript failed to load for some other reason).  You need to install the 3dmol extension: <br>\n        <tt>jupyter labextension install jupyterlab_3dmol</tt></p>\n        </div>\n<script>\n\nvar loadScriptAsync = function(uri){\n  return new Promise((resolve, reject) => {\n    //this is to ignore the existence of requirejs amd\n    var savedexports, savedmodule;\n    if (typeof exports !== 'undefined') savedexports = exports;\n    else exports = {}\n    if (typeof module !== 'undefined') savedmodule = module;\n    else module = {}\n\n    var tag = document.createElement('script');\n    tag.src = uri;\n    tag.async = true;\n    tag.onload = () => {\n        exports = savedexports;\n        module = savedmodule;\n        resolve();\n    };\n  var firstScriptTag = document.getElementsByTagName('script')[0];\n  firstScriptTag.parentNode.insertBefore(tag, firstScriptTag);\n});\n};\n\nif(typeof $3Dmolpromise === 'undefined') {\n$3Dmolpromise = null;\n  $3Dmolpromise = loadScriptAsync('https://cdnjs.cloudflare.com/ajax/libs/3Dmol/2.0.3/3Dmol-min.js');\n}\n\nvar viewer_1691002578626884 = null;\nvar warn = document.getElementById(\"3dmolwarning_1691002578626884\");\nif(warn) {\n    warn.parentNode.removeChild(warn);\n}\n$3Dmolpromise.then(function() {\nviewer_1691002578626884 = $3Dmol.createViewer(document.getElementById(\"3dmolviewer_1691002578626884\"),{backgroundColor:\"white\"});\nviewer_1691002578626884.zoomTo();\n\tviewer_1691002578626884.addModel(\"\\n     RDKit          3D\\n\\n 16 15  0  0  0  0  0  0  0  0999 V2000\\n   -2.1136    1.4635    1.5488 F   0  0  0  0  0  0  0  0  0  0  0  0\\n   -2.6646    0.3141    1.0721 C   0  0  0  0  0  0  0  0  0  0  0  0\\n   -3.1644   -0.6923    2.4446 Cl  0  0  0  0  0  0  0  0  0  0  0  0\\n   -1.7004   -0.4463    0.2147 C   0  0  0  0  0  0  0  0  0  0  0  0\\n   -0.4344   -0.0687   -0.0277 C   0  0  0  0  0  0  0  0  0  0  0  0\\n    0.4576   -0.8308   -0.8703 C   0  0  0  0  0  0  0  0  0  0  0  0\\n    1.7373   -0.5325   -1.1473 C   0  0  0  0  0  0  0  0  0  0  0  0\\n    2.5698    0.6025   -0.6443 C   0  0  0  0  0  0  0  0  0  0  0  0\\n    3.8031    0.1434   -0.2966 F   0  0  0  0  0  0  0  0  0  0  0  0\\n    2.7581    1.8120   -1.9307 Cl  0  0  0  0  0  0  0  0  0  0  0  0\\n   -3.5563    0.5818    0.4985 H   0  0  0  0  0  0  0  0  0  0  0  0\\n   -2.0929   -1.3571   -0.2304 H   0  0  0  0  0  0  0  0  0  0  0  0\\n   -0.0689    0.8499    0.4263 H   0  0  0  0  0  0  0  0  0  0  0  0\\n    0.0431   -1.7284   -1.3306 H   0  0  0  0  0  0  0  0  0  0  0  0\\n    2.2800   -1.2093   -1.8051 H   0  0  0  0  0  0  0  0  0  0  0  0\\n    2.1465    1.0981    0.2318 H   0  0  0  0  0  0  0  0  0  0  0  0\\n  1  2  1  0\\n  2  3  1  0\\n  2  4  1  0\\n  4  5  2  3\\n  5  6  1  0\\n  6  7  2  3\\n  7  8  1  0\\n  8  9  1  0\\n  8 10  1  0\\n  2 11  1  0\\n  4 12  1  0\\n  5 13  1  0\\n  6 14  1  0\\n  7 15  1  0\\n  8 16  1  0\\nM  END\\n\",\"mol\");\n\tviewer_1691002578626884.setStyle({\"stick\": {}});\n\tviewer_1691002578626884.zoomTo();\nviewer_1691002578626884.render();\n});\n</script>",
      "text/html": [
       "<div id=\"3dmolviewer_1691002578626884\"  style=\"position: relative; width: 200px; height: 200px;\">\n",
       "        <p id=\"3dmolwarning_1691002578626884\" style=\"background-color:#ffcccc;color:black\">You appear to be running in JupyterLab (or JavaScript failed to load for some other reason).  You need to install the 3dmol extension: <br>\n",
       "        <tt>jupyter labextension install jupyterlab_3dmol</tt></p>\n",
       "        </div>\n",
       "<script>\n",
       "\n",
       "var loadScriptAsync = function(uri){\n",
       "  return new Promise((resolve, reject) => {\n",
       "    //this is to ignore the existence of requirejs amd\n",
       "    var savedexports, savedmodule;\n",
       "    if (typeof exports !== 'undefined') savedexports = exports;\n",
       "    else exports = {}\n",
       "    if (typeof module !== 'undefined') savedmodule = module;\n",
       "    else module = {}\n",
       "\n",
       "    var tag = document.createElement('script');\n",
       "    tag.src = uri;\n",
       "    tag.async = true;\n",
       "    tag.onload = () => {\n",
       "        exports = savedexports;\n",
       "        module = savedmodule;\n",
       "        resolve();\n",
       "    };\n",
       "  var firstScriptTag = document.getElementsByTagName('script')[0];\n",
       "  firstScriptTag.parentNode.insertBefore(tag, firstScriptTag);\n",
       "});\n",
       "};\n",
       "\n",
       "if(typeof $3Dmolpromise === 'undefined') {\n",
       "$3Dmolpromise = null;\n",
       "  $3Dmolpromise = loadScriptAsync('https://cdnjs.cloudflare.com/ajax/libs/3Dmol/2.0.3/3Dmol-min.js');\n",
       "}\n",
       "\n",
       "var viewer_1691002578626884 = null;\n",
       "var warn = document.getElementById(\"3dmolwarning_1691002578626884\");\n",
       "if(warn) {\n",
       "    warn.parentNode.removeChild(warn);\n",
       "}\n",
       "$3Dmolpromise.then(function() {\n",
       "viewer_1691002578626884 = $3Dmol.createViewer(document.getElementById(\"3dmolviewer_1691002578626884\"),{backgroundColor:\"white\"});\n",
       "viewer_1691002578626884.zoomTo();\n",
       "\tviewer_1691002578626884.addModel(\"\\n     RDKit          3D\\n\\n 16 15  0  0  0  0  0  0  0  0999 V2000\\n   -2.1136    1.4635    1.5488 F   0  0  0  0  0  0  0  0  0  0  0  0\\n   -2.6646    0.3141    1.0721 C   0  0  0  0  0  0  0  0  0  0  0  0\\n   -3.1644   -0.6923    2.4446 Cl  0  0  0  0  0  0  0  0  0  0  0  0\\n   -1.7004   -0.4463    0.2147 C   0  0  0  0  0  0  0  0  0  0  0  0\\n   -0.4344   -0.0687   -0.0277 C   0  0  0  0  0  0  0  0  0  0  0  0\\n    0.4576   -0.8308   -0.8703 C   0  0  0  0  0  0  0  0  0  0  0  0\\n    1.7373   -0.5325   -1.1473 C   0  0  0  0  0  0  0  0  0  0  0  0\\n    2.5698    0.6025   -0.6443 C   0  0  0  0  0  0  0  0  0  0  0  0\\n    3.8031    0.1434   -0.2966 F   0  0  0  0  0  0  0  0  0  0  0  0\\n    2.7581    1.8120   -1.9307 Cl  0  0  0  0  0  0  0  0  0  0  0  0\\n   -3.5563    0.5818    0.4985 H   0  0  0  0  0  0  0  0  0  0  0  0\\n   -2.0929   -1.3571   -0.2304 H   0  0  0  0  0  0  0  0  0  0  0  0\\n   -0.0689    0.8499    0.4263 H   0  0  0  0  0  0  0  0  0  0  0  0\\n    0.0431   -1.7284   -1.3306 H   0  0  0  0  0  0  0  0  0  0  0  0\\n    2.2800   -1.2093   -1.8051 H   0  0  0  0  0  0  0  0  0  0  0  0\\n    2.1465    1.0981    0.2318 H   0  0  0  0  0  0  0  0  0  0  0  0\\n  1  2  1  0\\n  2  3  1  0\\n  2  4  1  0\\n  4  5  2  3\\n  5  6  1  0\\n  6  7  2  3\\n  7  8  1  0\\n  8  9  1  0\\n  8 10  1  0\\n  2 11  1  0\\n  4 12  1  0\\n  5 13  1  0\\n  6 14  1  0\\n  7 15  1  0\\n  8 16  1  0\\nM  END\\n\",\"mol\");\n",
       "\tviewer_1691002578626884.setStyle({\"stick\": {}});\n",
       "\tviewer_1691002578626884.zoomTo();\n",
       "viewer_1691002578626884.render();\n",
       "});\n",
       "</script>"
      ]
     },
     "metadata": {},
     "output_type": "display_data"
    }
   ],
   "source": [
    "show('FC(Cl)C=CC=CC(F)Cl')"
   ]
  },
  {
   "cell_type": "code",
   "execution_count": 6,
   "id": "066e3ca8",
   "metadata": {},
   "outputs": [
    {
     "data": {
      "application/3dmoljs_load.v0": "<div id=\"3dmolviewer_16910025796645823\"  style=\"position: relative; width: 200px; height: 200px;\">\n        <p id=\"3dmolwarning_16910025796645823\" style=\"background-color:#ffcccc;color:black\">You appear to be running in JupyterLab (or JavaScript failed to load for some other reason).  You need to install the 3dmol extension: <br>\n        <tt>jupyter labextension install jupyterlab_3dmol</tt></p>\n        </div>\n<script>\n\nvar loadScriptAsync = function(uri){\n  return new Promise((resolve, reject) => {\n    //this is to ignore the existence of requirejs amd\n    var savedexports, savedmodule;\n    if (typeof exports !== 'undefined') savedexports = exports;\n    else exports = {}\n    if (typeof module !== 'undefined') savedmodule = module;\n    else module = {}\n\n    var tag = document.createElement('script');\n    tag.src = uri;\n    tag.async = true;\n    tag.onload = () => {\n        exports = savedexports;\n        module = savedmodule;\n        resolve();\n    };\n  var firstScriptTag = document.getElementsByTagName('script')[0];\n  firstScriptTag.parentNode.insertBefore(tag, firstScriptTag);\n});\n};\n\nif(typeof $3Dmolpromise === 'undefined') {\n$3Dmolpromise = null;\n  $3Dmolpromise = loadScriptAsync('https://cdnjs.cloudflare.com/ajax/libs/3Dmol/2.0.3/3Dmol-min.js');\n}\n\nvar viewer_16910025796645823 = null;\nvar warn = document.getElementById(\"3dmolwarning_16910025796645823\");\nif(warn) {\n    warn.parentNode.removeChild(warn);\n}\n$3Dmolpromise.then(function() {\nviewer_16910025796645823 = $3Dmol.createViewer(document.getElementById(\"3dmolviewer_16910025796645823\"),{backgroundColor:\"white\"});\nviewer_16910025796645823.zoomTo();\n\tviewer_16910025796645823.addModel(\"\\n     RDKit          3D\\n\\n 16 15  0  0  0  0  0  0  0  0999 V2000\\n   -3.6267   -1.0731    1.3805 F   0  0  0  0  0  0  0  0  0  0  0  0\\n   -3.1147   -0.4887    0.2646 C   0  0  1  0  0  0  0  0  0  0  0  0\\n   -4.1679    0.8579   -0.2118 Cl  0  0  0  0  0  0  0  0  0  0  0  0\\n   -1.7396    0.0253    0.5449 C   0  0  0  0  0  0  0  0  0  0  0  0\\n   -0.6526   -0.2607   -0.1891 C   0  0  0  0  0  0  0  0  0  0  0  0\\n    0.6601    0.2488    0.1325 C   0  0  0  0  0  0  0  0  0  0  0  0\\n    1.7506   -0.0247   -0.6013 C   0  0  0  0  0  0  0  0  0  0  0  0\\n    3.1259    0.4865   -0.3017 C   0  0  1  0  0  0  0  0  0  0  0  0\\n    3.1376    1.2915    0.7950 F   0  0  0  0  0  0  0  0  0  0  0  0\\n    4.2222   -0.8799   -0.0209 Cl  0  0  0  0  0  0  0  0  0  0  0  0\\n   -3.1278   -1.2309   -0.5389 H   0  0  0  0  0  0  0  0  0  0  0  0\\n   -1.6574    0.6544    1.4278 H   0  0  0  0  0  0  0  0  0  0  0  0\\n   -0.7422   -0.9003   -1.0655 H   0  0  0  0  0  0  0  0  0  0  0  0\\n    0.7544    0.8792    1.0169 H   0  0  0  0  0  0  0  0  0  0  0  0\\n    1.6691   -0.6506   -1.4861 H   0  0  0  0  0  0  0  0  0  0  0  0\\n    3.5089    1.0654   -1.1468 H   0  0  0  0  0  0  0  0  0  0  0  0\\n  1  2  1  0\\n  2  3  1  0\\n  2  4  1  0\\n  4  5  2  0\\n  5  6  1  0\\n  6  7  2  0\\n  7  8  1  0\\n  8  9  1  0\\n  8 10  1  0\\n  2 11  1  6\\n  4 12  1  0\\n  5 13  1  0\\n  6 14  1  0\\n  7 15  1  0\\n  8 16  1  6\\nM  END\\n\",\"mol\");\n\tviewer_16910025796645823.setStyle({\"stick\": {}});\n\tviewer_16910025796645823.zoomTo();\nviewer_16910025796645823.render();\n});\n</script>",
      "text/html": [
       "<div id=\"3dmolviewer_16910025796645823\"  style=\"position: relative; width: 200px; height: 200px;\">\n",
       "        <p id=\"3dmolwarning_16910025796645823\" style=\"background-color:#ffcccc;color:black\">You appear to be running in JupyterLab (or JavaScript failed to load for some other reason).  You need to install the 3dmol extension: <br>\n",
       "        <tt>jupyter labextension install jupyterlab_3dmol</tt></p>\n",
       "        </div>\n",
       "<script>\n",
       "\n",
       "var loadScriptAsync = function(uri){\n",
       "  return new Promise((resolve, reject) => {\n",
       "    //this is to ignore the existence of requirejs amd\n",
       "    var savedexports, savedmodule;\n",
       "    if (typeof exports !== 'undefined') savedexports = exports;\n",
       "    else exports = {}\n",
       "    if (typeof module !== 'undefined') savedmodule = module;\n",
       "    else module = {}\n",
       "\n",
       "    var tag = document.createElement('script');\n",
       "    tag.src = uri;\n",
       "    tag.async = true;\n",
       "    tag.onload = () => {\n",
       "        exports = savedexports;\n",
       "        module = savedmodule;\n",
       "        resolve();\n",
       "    };\n",
       "  var firstScriptTag = document.getElementsByTagName('script')[0];\n",
       "  firstScriptTag.parentNode.insertBefore(tag, firstScriptTag);\n",
       "});\n",
       "};\n",
       "\n",
       "if(typeof $3Dmolpromise === 'undefined') {\n",
       "$3Dmolpromise = null;\n",
       "  $3Dmolpromise = loadScriptAsync('https://cdnjs.cloudflare.com/ajax/libs/3Dmol/2.0.3/3Dmol-min.js');\n",
       "}\n",
       "\n",
       "var viewer_16910025796645823 = null;\n",
       "var warn = document.getElementById(\"3dmolwarning_16910025796645823\");\n",
       "if(warn) {\n",
       "    warn.parentNode.removeChild(warn);\n",
       "}\n",
       "$3Dmolpromise.then(function() {\n",
       "viewer_16910025796645823 = $3Dmol.createViewer(document.getElementById(\"3dmolviewer_16910025796645823\"),{backgroundColor:\"white\"});\n",
       "viewer_16910025796645823.zoomTo();\n",
       "\tviewer_16910025796645823.addModel(\"\\n     RDKit          3D\\n\\n 16 15  0  0  0  0  0  0  0  0999 V2000\\n   -3.6267   -1.0731    1.3805 F   0  0  0  0  0  0  0  0  0  0  0  0\\n   -3.1147   -0.4887    0.2646 C   0  0  1  0  0  0  0  0  0  0  0  0\\n   -4.1679    0.8579   -0.2118 Cl  0  0  0  0  0  0  0  0  0  0  0  0\\n   -1.7396    0.0253    0.5449 C   0  0  0  0  0  0  0  0  0  0  0  0\\n   -0.6526   -0.2607   -0.1891 C   0  0  0  0  0  0  0  0  0  0  0  0\\n    0.6601    0.2488    0.1325 C   0  0  0  0  0  0  0  0  0  0  0  0\\n    1.7506   -0.0247   -0.6013 C   0  0  0  0  0  0  0  0  0  0  0  0\\n    3.1259    0.4865   -0.3017 C   0  0  1  0  0  0  0  0  0  0  0  0\\n    3.1376    1.2915    0.7950 F   0  0  0  0  0  0  0  0  0  0  0  0\\n    4.2222   -0.8799   -0.0209 Cl  0  0  0  0  0  0  0  0  0  0  0  0\\n   -3.1278   -1.2309   -0.5389 H   0  0  0  0  0  0  0  0  0  0  0  0\\n   -1.6574    0.6544    1.4278 H   0  0  0  0  0  0  0  0  0  0  0  0\\n   -0.7422   -0.9003   -1.0655 H   0  0  0  0  0  0  0  0  0  0  0  0\\n    0.7544    0.8792    1.0169 H   0  0  0  0  0  0  0  0  0  0  0  0\\n    1.6691   -0.6506   -1.4861 H   0  0  0  0  0  0  0  0  0  0  0  0\\n    3.5089    1.0654   -1.1468 H   0  0  0  0  0  0  0  0  0  0  0  0\\n  1  2  1  0\\n  2  3  1  0\\n  2  4  1  0\\n  4  5  2  0\\n  5  6  1  0\\n  6  7  2  0\\n  7  8  1  0\\n  8  9  1  0\\n  8 10  1  0\\n  2 11  1  6\\n  4 12  1  0\\n  5 13  1  0\\n  6 14  1  0\\n  7 15  1  0\\n  8 16  1  6\\nM  END\\n\",\"mol\");\n",
       "\tviewer_16910025796645823.setStyle({\"stick\": {}});\n",
       "\tviewer_16910025796645823.zoomTo();\n",
       "viewer_16910025796645823.render();\n",
       "});\n",
       "</script>"
      ]
     },
     "metadata": {},
     "output_type": "display_data"
    }
   ],
   "source": [
    "show('F[C@@H](Cl)/C=C/C=C/[C@@H](F)Cl')"
   ]
  },
  {
   "cell_type": "code",
   "execution_count": 7,
   "id": "dd5e8ad3",
   "metadata": {},
   "outputs": [
    {
     "data": {
      "application/3dmoljs_load.v0": "<div id=\"3dmolviewer_1691002579984268\"  style=\"position: relative; width: 200px; height: 200px;\">\n        <p id=\"3dmolwarning_1691002579984268\" style=\"background-color:#ffcccc;color:black\">You appear to be running in JupyterLab (or JavaScript failed to load for some other reason).  You need to install the 3dmol extension: <br>\n        <tt>jupyter labextension install jupyterlab_3dmol</tt></p>\n        </div>\n<script>\n\nvar loadScriptAsync = function(uri){\n  return new Promise((resolve, reject) => {\n    //this is to ignore the existence of requirejs amd\n    var savedexports, savedmodule;\n    if (typeof exports !== 'undefined') savedexports = exports;\n    else exports = {}\n    if (typeof module !== 'undefined') savedmodule = module;\n    else module = {}\n\n    var tag = document.createElement('script');\n    tag.src = uri;\n    tag.async = true;\n    tag.onload = () => {\n        exports = savedexports;\n        module = savedmodule;\n        resolve();\n    };\n  var firstScriptTag = document.getElementsByTagName('script')[0];\n  firstScriptTag.parentNode.insertBefore(tag, firstScriptTag);\n});\n};\n\nif(typeof $3Dmolpromise === 'undefined') {\n$3Dmolpromise = null;\n  $3Dmolpromise = loadScriptAsync('https://cdnjs.cloudflare.com/ajax/libs/3Dmol/2.0.3/3Dmol-min.js');\n}\n\nvar viewer_1691002579984268 = null;\nvar warn = document.getElementById(\"3dmolwarning_1691002579984268\");\nif(warn) {\n    warn.parentNode.removeChild(warn);\n}\n$3Dmolpromise.then(function() {\nviewer_1691002579984268 = $3Dmol.createViewer(document.getElementById(\"3dmolviewer_1691002579984268\"),{backgroundColor:\"white\"});\nviewer_1691002579984268.zoomTo();\n\tviewer_1691002579984268.addModel(\"\\n     RDKit          3D\\n\\n 16 15  0  0  0  0  0  0  0  0999 V2000\\n    2.3464    1.4563    0.5351 F   0  0  0  0  0  0  0  0  0  0  0  0\\n    2.7712    0.3847   -0.1846 C   0  0  1  0  0  0  0  0  0  0  0  0\\n    3.7727   -0.6472    0.8549 Cl  0  0  0  0  0  0  0  0  0  0  0  0\\n    1.6503   -0.4216   -0.7636 C   0  0  0  0  0  0  0  0  0  0  0  0\\n    0.3351   -0.4154   -0.4870 C   0  0  0  0  0  0  0  0  0  0  0  0\\n   -0.3288    0.3667    0.5285 C   0  0  0  0  0  0  0  0  0  0  0  0\\n   -1.6530    0.4430    0.7454 C   0  0  0  0  0  0  0  0  0  0  0  0\\n   -2.7986   -0.1711    0.0022 C   0  0  1  0  0  0  0  0  0  0  0  0\\n   -2.4490   -0.6568   -1.2179 F   0  0  0  0  0  0  0  0  0  0  0  0\\n   -3.4988   -1.4855    0.9666 Cl  0  0  0  0  0  0  0  0  0  0  0  0\\n    3.4045    0.7686   -0.9895 H   0  0  0  0  0  0  0  0  0  0  0  0\\n    1.9744   -1.1011   -1.5511 H   0  0  0  0  0  0  0  0  0  0  0  0\\n   -0.2867   -1.0947   -1.0684 H   0  0  0  0  0  0  0  0  0  0  0  0\\n    0.3081    0.9282    1.2106 H   0  0  0  0  0  0  0  0  0  0  0  0\\n   -1.9700    1.0668    1.5803 H   0  0  0  0  0  0  0  0  0  0  0  0\\n   -3.5776    0.5791   -0.1615 H   0  0  0  0  0  0  0  0  0  0  0  0\\n  1  2  1  0\\n  2  3  1  0\\n  2  4  1  0\\n  4  5  2  0\\n  5  6  1  0\\n  6  7  2  0\\n  7  8  1  0\\n  8  9  1  0\\n  8 10  1  0\\n  2 11  1  6\\n  4 12  1  0\\n  5 13  1  0\\n  6 14  1  0\\n  7 15  1  0\\n  8 16  1  6\\nM  END\\n\",\"mol\");\n\tviewer_1691002579984268.setStyle({\"stick\": {}});\n\tviewer_1691002579984268.zoomTo();\nviewer_1691002579984268.render();\n});\n</script>",
      "text/html": [
       "<div id=\"3dmolviewer_1691002579984268\"  style=\"position: relative; width: 200px; height: 200px;\">\n",
       "        <p id=\"3dmolwarning_1691002579984268\" style=\"background-color:#ffcccc;color:black\">You appear to be running in JupyterLab (or JavaScript failed to load for some other reason).  You need to install the 3dmol extension: <br>\n",
       "        <tt>jupyter labextension install jupyterlab_3dmol</tt></p>\n",
       "        </div>\n",
       "<script>\n",
       "\n",
       "var loadScriptAsync = function(uri){\n",
       "  return new Promise((resolve, reject) => {\n",
       "    //this is to ignore the existence of requirejs amd\n",
       "    var savedexports, savedmodule;\n",
       "    if (typeof exports !== 'undefined') savedexports = exports;\n",
       "    else exports = {}\n",
       "    if (typeof module !== 'undefined') savedmodule = module;\n",
       "    else module = {}\n",
       "\n",
       "    var tag = document.createElement('script');\n",
       "    tag.src = uri;\n",
       "    tag.async = true;\n",
       "    tag.onload = () => {\n",
       "        exports = savedexports;\n",
       "        module = savedmodule;\n",
       "        resolve();\n",
       "    };\n",
       "  var firstScriptTag = document.getElementsByTagName('script')[0];\n",
       "  firstScriptTag.parentNode.insertBefore(tag, firstScriptTag);\n",
       "});\n",
       "};\n",
       "\n",
       "if(typeof $3Dmolpromise === 'undefined') {\n",
       "$3Dmolpromise = null;\n",
       "  $3Dmolpromise = loadScriptAsync('https://cdnjs.cloudflare.com/ajax/libs/3Dmol/2.0.3/3Dmol-min.js');\n",
       "}\n",
       "\n",
       "var viewer_1691002579984268 = null;\n",
       "var warn = document.getElementById(\"3dmolwarning_1691002579984268\");\n",
       "if(warn) {\n",
       "    warn.parentNode.removeChild(warn);\n",
       "}\n",
       "$3Dmolpromise.then(function() {\n",
       "viewer_1691002579984268 = $3Dmol.createViewer(document.getElementById(\"3dmolviewer_1691002579984268\"),{backgroundColor:\"white\"});\n",
       "viewer_1691002579984268.zoomTo();\n",
       "\tviewer_1691002579984268.addModel(\"\\n     RDKit          3D\\n\\n 16 15  0  0  0  0  0  0  0  0999 V2000\\n    2.3464    1.4563    0.5351 F   0  0  0  0  0  0  0  0  0  0  0  0\\n    2.7712    0.3847   -0.1846 C   0  0  1  0  0  0  0  0  0  0  0  0\\n    3.7727   -0.6472    0.8549 Cl  0  0  0  0  0  0  0  0  0  0  0  0\\n    1.6503   -0.4216   -0.7636 C   0  0  0  0  0  0  0  0  0  0  0  0\\n    0.3351   -0.4154   -0.4870 C   0  0  0  0  0  0  0  0  0  0  0  0\\n   -0.3288    0.3667    0.5285 C   0  0  0  0  0  0  0  0  0  0  0  0\\n   -1.6530    0.4430    0.7454 C   0  0  0  0  0  0  0  0  0  0  0  0\\n   -2.7986   -0.1711    0.0022 C   0  0  1  0  0  0  0  0  0  0  0  0\\n   -2.4490   -0.6568   -1.2179 F   0  0  0  0  0  0  0  0  0  0  0  0\\n   -3.4988   -1.4855    0.9666 Cl  0  0  0  0  0  0  0  0  0  0  0  0\\n    3.4045    0.7686   -0.9895 H   0  0  0  0  0  0  0  0  0  0  0  0\\n    1.9744   -1.1011   -1.5511 H   0  0  0  0  0  0  0  0  0  0  0  0\\n   -0.2867   -1.0947   -1.0684 H   0  0  0  0  0  0  0  0  0  0  0  0\\n    0.3081    0.9282    1.2106 H   0  0  0  0  0  0  0  0  0  0  0  0\\n   -1.9700    1.0668    1.5803 H   0  0  0  0  0  0  0  0  0  0  0  0\\n   -3.5776    0.5791   -0.1615 H   0  0  0  0  0  0  0  0  0  0  0  0\\n  1  2  1  0\\n  2  3  1  0\\n  2  4  1  0\\n  4  5  2  0\\n  5  6  1  0\\n  6  7  2  0\\n  7  8  1  0\\n  8  9  1  0\\n  8 10  1  0\\n  2 11  1  6\\n  4 12  1  0\\n  5 13  1  0\\n  6 14  1  0\\n  7 15  1  0\\n  8 16  1  6\\nM  END\\n\",\"mol\");\n",
       "\tviewer_1691002579984268.setStyle({\"stick\": {}});\n",
       "\tviewer_1691002579984268.zoomTo();\n",
       "viewer_1691002579984268.render();\n",
       "});\n",
       "</script>"
      ]
     },
     "metadata": {},
     "output_type": "display_data"
    }
   ],
   "source": [
    "show('F[C@@H](Cl)/C=C\\C=C/[C@@H](F)Cl')"
   ]
  },
  {
   "cell_type": "code",
   "execution_count": 8,
   "id": "1237cdbc",
   "metadata": {},
   "outputs": [
    {
     "data": {
      "application/3dmoljs_load.v0": "<div id=\"3dmolviewer_16910025807369964\"  style=\"position: relative; width: 200px; height: 200px;\">\n        <p id=\"3dmolwarning_16910025807369964\" style=\"background-color:#ffcccc;color:black\">You appear to be running in JupyterLab (or JavaScript failed to load for some other reason).  You need to install the 3dmol extension: <br>\n        <tt>jupyter labextension install jupyterlab_3dmol</tt></p>\n        </div>\n<script>\n\nvar loadScriptAsync = function(uri){\n  return new Promise((resolve, reject) => {\n    //this is to ignore the existence of requirejs amd\n    var savedexports, savedmodule;\n    if (typeof exports !== 'undefined') savedexports = exports;\n    else exports = {}\n    if (typeof module !== 'undefined') savedmodule = module;\n    else module = {}\n\n    var tag = document.createElement('script');\n    tag.src = uri;\n    tag.async = true;\n    tag.onload = () => {\n        exports = savedexports;\n        module = savedmodule;\n        resolve();\n    };\n  var firstScriptTag = document.getElementsByTagName('script')[0];\n  firstScriptTag.parentNode.insertBefore(tag, firstScriptTag);\n});\n};\n\nif(typeof $3Dmolpromise === 'undefined') {\n$3Dmolpromise = null;\n  $3Dmolpromise = loadScriptAsync('https://cdnjs.cloudflare.com/ajax/libs/3Dmol/2.0.3/3Dmol-min.js');\n}\n\nvar viewer_16910025807369964 = null;\nvar warn = document.getElementById(\"3dmolwarning_16910025807369964\");\nif(warn) {\n    warn.parentNode.removeChild(warn);\n}\n$3Dmolpromise.then(function() {\nviewer_16910025807369964 = $3Dmol.createViewer(document.getElementById(\"3dmolviewer_16910025807369964\"),{backgroundColor:\"white\"});\nviewer_16910025807369964.zoomTo();\n\tviewer_16910025807369964.addModel(\"\\n     RDKit          3D\\n\\n 18 18  0  0  0  0  0  0  0  0999 V2000\\n    3.1772    1.4282   -0.6800 C   0  0  0  0  0  0  0  0  0  0  0  0\\n    2.4695    0.5817   -0.2036 C   0  0  0  0  0  0  0  0  0  0  0  0\\n    1.6169   -0.4712    0.3784 C   0  0  2  0  0  0  0  0  0  0  0  0\\n    1.9732   -1.7025   -0.2502 O   0  0  0  0  0  0  0  0  0  0  0  0\\n    0.1210   -0.2268    0.2330 C   0  0  0  0  0  0  0  0  0  0  0  0\\n   -0.4218    1.0703    0.2281 C   0  0  0  0  0  0  0  0  0  0  0  0\\n   -1.8014    1.2733    0.1323 C   0  0  0  0  0  0  0  0  0  0  0  0\\n   -2.6652    0.1842    0.0576 C   0  0  0  0  0  0  0  0  0  0  0  0\\n   -2.1521   -1.1091    0.0879 C   0  0  0  0  0  0  0  0  0  0  0  0\\n   -0.7734   -1.3124    0.1832 C   0  0  0  0  0  0  0  0  0  0  0  0\\n    3.8092    2.1747   -1.1031 H   0  0  0  0  0  0  0  0  0  0  0  0\\n    1.8386   -0.5754    1.4466 H   0  0  0  0  0  0  0  0  0  0  0  0\\n    1.7456   -1.5899   -1.1891 H   0  0  0  0  0  0  0  0  0  0  0  0\\n    0.2232    1.9436    0.3019 H   0  0  0  0  0  0  0  0  0  0  0  0\\n   -2.2008    2.2843    0.1218 H   0  0  0  0  0  0  0  0  0  0  0  0\\n   -3.7378    0.3432   -0.0144 H   0  0  0  0  0  0  0  0  0  0  0  0\\n   -2.8241   -1.9624    0.0443 H   0  0  0  0  0  0  0  0  0  0  0  0\\n   -0.3975   -2.3338    0.2253 H   0  0  0  0  0  0  0  0  0  0  0  0\\n  1  2  3  0\\n  2  3  1  0\\n  3  4  1  0\\n  3  5  1  0\\n  5  6  2  0\\n  6  7  1  0\\n  7  8  2  0\\n  8  9  1  0\\n  9 10  2  0\\n 10  5  1  0\\n  1 11  1  0\\n  3 12  1  1\\n  4 13  1  0\\n  6 14  1  0\\n  7 15  1  0\\n  8 16  1  0\\n  9 17  1  0\\n 10 18  1  0\\nM  END\\n\",\"mol\");\n\tviewer_16910025807369964.setStyle({\"stick\": {}});\n\tviewer_16910025807369964.zoomTo();\nviewer_16910025807369964.render();\n});\n</script>",
      "text/html": [
       "<div id=\"3dmolviewer_16910025807369964\"  style=\"position: relative; width: 200px; height: 200px;\">\n",
       "        <p id=\"3dmolwarning_16910025807369964\" style=\"background-color:#ffcccc;color:black\">You appear to be running in JupyterLab (or JavaScript failed to load for some other reason).  You need to install the 3dmol extension: <br>\n",
       "        <tt>jupyter labextension install jupyterlab_3dmol</tt></p>\n",
       "        </div>\n",
       "<script>\n",
       "\n",
       "var loadScriptAsync = function(uri){\n",
       "  return new Promise((resolve, reject) => {\n",
       "    //this is to ignore the existence of requirejs amd\n",
       "    var savedexports, savedmodule;\n",
       "    if (typeof exports !== 'undefined') savedexports = exports;\n",
       "    else exports = {}\n",
       "    if (typeof module !== 'undefined') savedmodule = module;\n",
       "    else module = {}\n",
       "\n",
       "    var tag = document.createElement('script');\n",
       "    tag.src = uri;\n",
       "    tag.async = true;\n",
       "    tag.onload = () => {\n",
       "        exports = savedexports;\n",
       "        module = savedmodule;\n",
       "        resolve();\n",
       "    };\n",
       "  var firstScriptTag = document.getElementsByTagName('script')[0];\n",
       "  firstScriptTag.parentNode.insertBefore(tag, firstScriptTag);\n",
       "});\n",
       "};\n",
       "\n",
       "if(typeof $3Dmolpromise === 'undefined') {\n",
       "$3Dmolpromise = null;\n",
       "  $3Dmolpromise = loadScriptAsync('https://cdnjs.cloudflare.com/ajax/libs/3Dmol/2.0.3/3Dmol-min.js');\n",
       "}\n",
       "\n",
       "var viewer_16910025807369964 = null;\n",
       "var warn = document.getElementById(\"3dmolwarning_16910025807369964\");\n",
       "if(warn) {\n",
       "    warn.parentNode.removeChild(warn);\n",
       "}\n",
       "$3Dmolpromise.then(function() {\n",
       "viewer_16910025807369964 = $3Dmol.createViewer(document.getElementById(\"3dmolviewer_16910025807369964\"),{backgroundColor:\"white\"});\n",
       "viewer_16910025807369964.zoomTo();\n",
       "\tviewer_16910025807369964.addModel(\"\\n     RDKit          3D\\n\\n 18 18  0  0  0  0  0  0  0  0999 V2000\\n    3.1772    1.4282   -0.6800 C   0  0  0  0  0  0  0  0  0  0  0  0\\n    2.4695    0.5817   -0.2036 C   0  0  0  0  0  0  0  0  0  0  0  0\\n    1.6169   -0.4712    0.3784 C   0  0  2  0  0  0  0  0  0  0  0  0\\n    1.9732   -1.7025   -0.2502 O   0  0  0  0  0  0  0  0  0  0  0  0\\n    0.1210   -0.2268    0.2330 C   0  0  0  0  0  0  0  0  0  0  0  0\\n   -0.4218    1.0703    0.2281 C   0  0  0  0  0  0  0  0  0  0  0  0\\n   -1.8014    1.2733    0.1323 C   0  0  0  0  0  0  0  0  0  0  0  0\\n   -2.6652    0.1842    0.0576 C   0  0  0  0  0  0  0  0  0  0  0  0\\n   -2.1521   -1.1091    0.0879 C   0  0  0  0  0  0  0  0  0  0  0  0\\n   -0.7734   -1.3124    0.1832 C   0  0  0  0  0  0  0  0  0  0  0  0\\n    3.8092    2.1747   -1.1031 H   0  0  0  0  0  0  0  0  0  0  0  0\\n    1.8386   -0.5754    1.4466 H   0  0  0  0  0  0  0  0  0  0  0  0\\n    1.7456   -1.5899   -1.1891 H   0  0  0  0  0  0  0  0  0  0  0  0\\n    0.2232    1.9436    0.3019 H   0  0  0  0  0  0  0  0  0  0  0  0\\n   -2.2008    2.2843    0.1218 H   0  0  0  0  0  0  0  0  0  0  0  0\\n   -3.7378    0.3432   -0.0144 H   0  0  0  0  0  0  0  0  0  0  0  0\\n   -2.8241   -1.9624    0.0443 H   0  0  0  0  0  0  0  0  0  0  0  0\\n   -0.3975   -2.3338    0.2253 H   0  0  0  0  0  0  0  0  0  0  0  0\\n  1  2  3  0\\n  2  3  1  0\\n  3  4  1  0\\n  3  5  1  0\\n  5  6  2  0\\n  6  7  1  0\\n  7  8  2  0\\n  8  9  1  0\\n  9 10  2  0\\n 10  5  1  0\\n  1 11  1  0\\n  3 12  1  1\\n  4 13  1  0\\n  6 14  1  0\\n  7 15  1  0\\n  8 16  1  0\\n  9 17  1  0\\n 10 18  1  0\\nM  END\\n\",\"mol\");\n",
       "\tviewer_16910025807369964.setStyle({\"stick\": {}});\n",
       "\tviewer_16910025807369964.zoomTo();\n",
       "viewer_16910025807369964.render();\n",
       "});\n",
       "</script>"
      ]
     },
     "metadata": {},
     "output_type": "display_data"
    }
   ],
   "source": [
    "show('C#C[C@H](O)c1ccccc1')"
   ]
  },
  {
   "cell_type": "code",
   "execution_count": 12,
   "id": "800506e5",
   "metadata": {},
   "outputs": [
    {
     "data": {
      "application/3dmoljs_load.v0": "<div id=\"3dmolviewer_16910026117647915\"  style=\"position: relative; width: 200px; height: 200px;\">\n        <p id=\"3dmolwarning_16910026117647915\" style=\"background-color:#ffcccc;color:black\">You appear to be running in JupyterLab (or JavaScript failed to load for some other reason).  You need to install the 3dmol extension: <br>\n        <tt>jupyter labextension install jupyterlab_3dmol</tt></p>\n        </div>\n<script>\n\nvar loadScriptAsync = function(uri){\n  return new Promise((resolve, reject) => {\n    //this is to ignore the existence of requirejs amd\n    var savedexports, savedmodule;\n    if (typeof exports !== 'undefined') savedexports = exports;\n    else exports = {}\n    if (typeof module !== 'undefined') savedmodule = module;\n    else module = {}\n\n    var tag = document.createElement('script');\n    tag.src = uri;\n    tag.async = true;\n    tag.onload = () => {\n        exports = savedexports;\n        module = savedmodule;\n        resolve();\n    };\n  var firstScriptTag = document.getElementsByTagName('script')[0];\n  firstScriptTag.parentNode.insertBefore(tag, firstScriptTag);\n});\n};\n\nif(typeof $3Dmolpromise === 'undefined') {\n$3Dmolpromise = null;\n  $3Dmolpromise = loadScriptAsync('https://cdnjs.cloudflare.com/ajax/libs/3Dmol/2.0.3/3Dmol-min.js');\n}\n\nvar viewer_16910026117647915 = null;\nvar warn = document.getElementById(\"3dmolwarning_16910026117647915\");\nif(warn) {\n    warn.parentNode.removeChild(warn);\n}\n$3Dmolpromise.then(function() {\nviewer_16910026117647915 = $3Dmol.createViewer(document.getElementById(\"3dmolviewer_16910026117647915\"),{backgroundColor:\"white\"});\nviewer_16910026117647915.zoomTo();\n\tviewer_16910026117647915.addModel(\"\\n     RDKit          3D\\n\\n 18 18  0  0  0  0  0  0  0  0999 V2000\\n   -2.7875    1.9070   -0.4498 C   0  0  0  0  0  0  0  0  0  0  0  0\\n   -2.2430    0.9138   -0.0487 C   0  0  0  0  0  0  0  0  0  0  0  0\\n   -1.5823   -0.3069    0.4421 C   0  0  1  0  0  0  0  0  0  0  0  0\\n   -2.1530   -1.4436   -0.2043 O   0  0  0  0  0  0  0  0  0  0  0  0\\n   -0.0855   -0.2716    0.2143 C   0  0  0  0  0  0  0  0  0  0  0  0\\n    0.7608    0.2795    1.1918 C   0  0  0  0  0  0  0  0  0  0  0  0\\n    2.1411    0.3414    0.9882 C   0  0  0  0  0  0  0  0  0  0  0  0\\n    2.6942   -0.1400   -0.1965 C   0  0  0  0  0  0  0  0  0  0  0  0\\n    1.8688   -0.6809   -1.1796 C   0  0  0  0  0  0  0  0  0  0  0  0\\n    0.4886   -0.7430   -0.9776 C   0  0  0  0  0  0  0  0  0  0  0  0\\n   -3.2608    2.7901   -0.8129 H   0  0  0  0  0  0  0  0  0  0  0  0\\n   -1.7776   -0.4317    1.5137 H   0  0  0  0  0  0  0  0  0  0  0  0\\n   -3.1158   -1.3360   -0.1384 H   0  0  0  0  0  0  0  0  0  0  0  0\\n    0.3470    0.6672    2.1201 H   0  0  0  0  0  0  0  0  0  0  0  0\\n    2.7845    0.7676    1.7534 H   0  0  0  0  0  0  0  0  0  0  0  0\\n    3.7682   -0.0918   -0.3549 H   0  0  0  0  0  0  0  0  0  0  0  0\\n    2.2971   -1.0549   -2.1057 H   0  0  0  0  0  0  0  0  0  0  0  0\\n   -0.1447   -1.1662   -1.7552 H   0  0  0  0  0  0  0  0  0  0  0  0\\n  1  2  3  0\\n  2  3  1  0\\n  3  4  1  0\\n  3  5  1  0\\n  5  6  2  0\\n  6  7  1  0\\n  7  8  2  0\\n  8  9  1  0\\n  9 10  2  0\\n 10  5  1  0\\n  1 11  1  0\\n  3 12  1  1\\n  4 13  1  0\\n  6 14  1  0\\n  7 15  1  0\\n  8 16  1  0\\n  9 17  1  0\\n 10 18  1  0\\nM  END\\n\",\"mol\");\n\tviewer_16910026117647915.setStyle({\"stick\": {}});\n\tviewer_16910026117647915.zoomTo();\nviewer_16910026117647915.render();\n});\n</script>",
      "text/html": [
       "<div id=\"3dmolviewer_16910026117647915\"  style=\"position: relative; width: 200px; height: 200px;\">\n",
       "        <p id=\"3dmolwarning_16910026117647915\" style=\"background-color:#ffcccc;color:black\">You appear to be running in JupyterLab (or JavaScript failed to load for some other reason).  You need to install the 3dmol extension: <br>\n",
       "        <tt>jupyter labextension install jupyterlab_3dmol</tt></p>\n",
       "        </div>\n",
       "<script>\n",
       "\n",
       "var loadScriptAsync = function(uri){\n",
       "  return new Promise((resolve, reject) => {\n",
       "    //this is to ignore the existence of requirejs amd\n",
       "    var savedexports, savedmodule;\n",
       "    if (typeof exports !== 'undefined') savedexports = exports;\n",
       "    else exports = {}\n",
       "    if (typeof module !== 'undefined') savedmodule = module;\n",
       "    else module = {}\n",
       "\n",
       "    var tag = document.createElement('script');\n",
       "    tag.src = uri;\n",
       "    tag.async = true;\n",
       "    tag.onload = () => {\n",
       "        exports = savedexports;\n",
       "        module = savedmodule;\n",
       "        resolve();\n",
       "    };\n",
       "  var firstScriptTag = document.getElementsByTagName('script')[0];\n",
       "  firstScriptTag.parentNode.insertBefore(tag, firstScriptTag);\n",
       "});\n",
       "};\n",
       "\n",
       "if(typeof $3Dmolpromise === 'undefined') {\n",
       "$3Dmolpromise = null;\n",
       "  $3Dmolpromise = loadScriptAsync('https://cdnjs.cloudflare.com/ajax/libs/3Dmol/2.0.3/3Dmol-min.js');\n",
       "}\n",
       "\n",
       "var viewer_16910026117647915 = null;\n",
       "var warn = document.getElementById(\"3dmolwarning_16910026117647915\");\n",
       "if(warn) {\n",
       "    warn.parentNode.removeChild(warn);\n",
       "}\n",
       "$3Dmolpromise.then(function() {\n",
       "viewer_16910026117647915 = $3Dmol.createViewer(document.getElementById(\"3dmolviewer_16910026117647915\"),{backgroundColor:\"white\"});\n",
       "viewer_16910026117647915.zoomTo();\n",
       "\tviewer_16910026117647915.addModel(\"\\n     RDKit          3D\\n\\n 18 18  0  0  0  0  0  0  0  0999 V2000\\n   -2.7875    1.9070   -0.4498 C   0  0  0  0  0  0  0  0  0  0  0  0\\n   -2.2430    0.9138   -0.0487 C   0  0  0  0  0  0  0  0  0  0  0  0\\n   -1.5823   -0.3069    0.4421 C   0  0  1  0  0  0  0  0  0  0  0  0\\n   -2.1530   -1.4436   -0.2043 O   0  0  0  0  0  0  0  0  0  0  0  0\\n   -0.0855   -0.2716    0.2143 C   0  0  0  0  0  0  0  0  0  0  0  0\\n    0.7608    0.2795    1.1918 C   0  0  0  0  0  0  0  0  0  0  0  0\\n    2.1411    0.3414    0.9882 C   0  0  0  0  0  0  0  0  0  0  0  0\\n    2.6942   -0.1400   -0.1965 C   0  0  0  0  0  0  0  0  0  0  0  0\\n    1.8688   -0.6809   -1.1796 C   0  0  0  0  0  0  0  0  0  0  0  0\\n    0.4886   -0.7430   -0.9776 C   0  0  0  0  0  0  0  0  0  0  0  0\\n   -3.2608    2.7901   -0.8129 H   0  0  0  0  0  0  0  0  0  0  0  0\\n   -1.7776   -0.4317    1.5137 H   0  0  0  0  0  0  0  0  0  0  0  0\\n   -3.1158   -1.3360   -0.1384 H   0  0  0  0  0  0  0  0  0  0  0  0\\n    0.3470    0.6672    2.1201 H   0  0  0  0  0  0  0  0  0  0  0  0\\n    2.7845    0.7676    1.7534 H   0  0  0  0  0  0  0  0  0  0  0  0\\n    3.7682   -0.0918   -0.3549 H   0  0  0  0  0  0  0  0  0  0  0  0\\n    2.2971   -1.0549   -2.1057 H   0  0  0  0  0  0  0  0  0  0  0  0\\n   -0.1447   -1.1662   -1.7552 H   0  0  0  0  0  0  0  0  0  0  0  0\\n  1  2  3  0\\n  2  3  1  0\\n  3  4  1  0\\n  3  5  1  0\\n  5  6  2  0\\n  6  7  1  0\\n  7  8  2  0\\n  8  9  1  0\\n  9 10  2  0\\n 10  5  1  0\\n  1 11  1  0\\n  3 12  1  1\\n  4 13  1  0\\n  6 14  1  0\\n  7 15  1  0\\n  8 16  1  0\\n  9 17  1  0\\n 10 18  1  0\\nM  END\\n\",\"mol\");\n",
       "\tviewer_16910026117647915.setStyle({\"stick\": {}});\n",
       "\tviewer_16910026117647915.zoomTo();\n",
       "viewer_16910026117647915.render();\n",
       "});\n",
       "</script>"
      ]
     },
     "metadata": {},
     "output_type": "display_data"
    }
   ],
   "source": [
    "show('C#C[C@@H](O)c1ccccc1')"
   ]
  },
  {
   "cell_type": "code",
   "execution_count": 13,
   "id": "af8307c8",
   "metadata": {},
   "outputs": [
    {
     "data": {
      "application/3dmoljs_load.v0": "<div id=\"3dmolviewer_16910026329166713\"  style=\"position: relative; width: 200px; height: 200px;\">\n        <p id=\"3dmolwarning_16910026329166713\" style=\"background-color:#ffcccc;color:black\">You appear to be running in JupyterLab (or JavaScript failed to load for some other reason).  You need to install the 3dmol extension: <br>\n        <tt>jupyter labextension install jupyterlab_3dmol</tt></p>\n        </div>\n<script>\n\nvar loadScriptAsync = function(uri){\n  return new Promise((resolve, reject) => {\n    //this is to ignore the existence of requirejs amd\n    var savedexports, savedmodule;\n    if (typeof exports !== 'undefined') savedexports = exports;\n    else exports = {}\n    if (typeof module !== 'undefined') savedmodule = module;\n    else module = {}\n\n    var tag = document.createElement('script');\n    tag.src = uri;\n    tag.async = true;\n    tag.onload = () => {\n        exports = savedexports;\n        module = savedmodule;\n        resolve();\n    };\n  var firstScriptTag = document.getElementsByTagName('script')[0];\n  firstScriptTag.parentNode.insertBefore(tag, firstScriptTag);\n});\n};\n\nif(typeof $3Dmolpromise === 'undefined') {\n$3Dmolpromise = null;\n  $3Dmolpromise = loadScriptAsync('https://cdnjs.cloudflare.com/ajax/libs/3Dmol/2.0.3/3Dmol-min.js');\n}\n\nvar viewer_16910026329166713 = null;\nvar warn = document.getElementById(\"3dmolwarning_16910026329166713\");\nif(warn) {\n    warn.parentNode.removeChild(warn);\n}\n$3Dmolpromise.then(function() {\nviewer_16910026329166713 = $3Dmol.createViewer(document.getElementById(\"3dmolviewer_16910026329166713\"),{backgroundColor:\"white\"});\nviewer_16910026329166713.zoomTo();\n\tviewer_16910026329166713.addModel(\"\\n     RDKit          3D\\n\\n 34 34  0  0  0  0  0  0  0  0999 V2000\\n   -2.2698   -3.2082   -0.5572 C   0  0  0  0  0  0  0  0  0  0  0  0\\n   -1.7227   -2.1338    0.0309 C   0  0  0  0  0  0  0  0  0  0  0  0\\n   -0.9102   -1.0732   -0.6850 C   0  0  1  0  0  0  0  0  0  0  0  0\\n   -1.5260    0.3237   -0.5913 C   0  0  0  0  0  0  0  0  0  0  0  0\\n   -1.7277    1.0718   -1.7646 C   0  0  0  0  0  0  0  0  0  0  0  0\\n   -2.2739    2.3559   -1.7114 C   0  0  0  0  0  0  0  0  0  0  0  0\\n   -2.6216    2.9159   -0.4849 C   0  0  0  0  0  0  0  0  0  0  0  0\\n   -2.4177    2.1957    0.6894 C   0  0  0  0  0  0  0  0  0  0  0  0\\n   -1.8711    0.9114    0.6377 C   0  0  0  0  0  0  0  0  0  0  0  0\\n    0.4901   -1.1108   -0.2266 N   0  0  0  0  0  0  0  0  0  0  0  0\\n    0.6365   -0.8903    1.1708 O   0  0  0  0  0  0  0  0  0  0  0  0\\n    1.1763   -2.0695    1.7667 C   0  0  0  0  0  0  0  0  0  0  0  0\\n    1.4437   -0.5469   -1.0590 C   0  0  0  0  0  0  0  0  0  0  0  0\\n    1.3503   -0.5191   -2.2867 O   0  0  0  0  0  0  0  0  0  0  0  0\\n    2.6940   -0.0299   -0.4445 C   0  0  0  0  0  0  0  0  0  0  0  0\\n    2.6886    1.0364    0.3701 C   0  0  0  0  0  0  0  0  0  0  0  0\\n    3.9198    1.6370    0.9612 C   0  0  0  0  0  0  0  0  0  0  0  0\\n   -2.8444   -3.9253    0.0210 H   0  0  0  0  0  0  0  0  0  0  0  0\\n   -2.1606   -3.3952   -1.6214 H   0  0  0  0  0  0  0  0  0  0  0  0\\n   -1.8696   -2.0007    1.0996 H   0  0  0  0  0  0  0  0  0  0  0  0\\n   -0.8919   -1.3480   -1.7490 H   0  0  0  0  0  0  0  0  0  0  0  0\\n   -1.4466    0.6604   -2.7330 H   0  0  0  0  0  0  0  0  0  0  0  0\\n   -2.4212    2.9197   -2.6289 H   0  0  0  0  0  0  0  0  0  0  0  0\\n   -3.0444    3.9161   -0.4440 H   0  0  0  0  0  0  0  0  0  0  0  0\\n   -2.6790    2.6351    1.6484 H   0  0  0  0  0  0  0  0  0  0  0  0\\n   -1.7061    0.3761    1.5697 H   0  0  0  0  0  0  0  0  0  0  0  0\\n    2.1622   -2.2997    1.3513 H   0  0  0  0  0  0  0  0  0  0  0  0\\n    1.2863   -1.8868    2.8390 H   0  0  0  0  0  0  0  0  0  0  0  0\\n    0.5055   -2.9219    1.6275 H   0  0  0  0  0  0  0  0  0  0  0  0\\n    3.6071   -0.5070   -0.7776 H   0  0  0  0  0  0  0  0  0  0  0  0\\n    1.7441    1.5146    0.6256 H   0  0  0  0  0  0  0  0  0  0  0  0\\n    4.8265    1.1046    0.6572 H   0  0  0  0  0  0  0  0  0  0  0  0\\n    4.0142    2.6805    0.6457 H   0  0  0  0  0  0  0  0  0  0  0  0\\n    3.8591    1.6115    2.0535 H   0  0  0  0  0  0  0  0  0  0  0  0\\n  1  2  2  3\\n  2  3  1  0\\n  3  4  1  0\\n  4  5  2  0\\n  5  6  1  0\\n  6  7  2  0\\n  7  8  1  0\\n  8  9  2  0\\n  3 10  1  0\\n 10 11  1  0\\n 11 12  1  0\\n 10 13  1  0\\n 13 14  2  0\\n 13 15  1  0\\n 15 16  2  0\\n 16 17  1  0\\n  9  4  1  0\\n  1 18  1  0\\n  1 19  1  0\\n  2 20  1  0\\n  3 21  1  6\\n  5 22  1  0\\n  6 23  1  0\\n  7 24  1  0\\n  8 25  1  0\\n  9 26  1  0\\n 12 27  1  0\\n 12 28  1  0\\n 12 29  1  0\\n 15 30  1  0\\n 16 31  1  0\\n 17 32  1  0\\n 17 33  1  0\\n 17 34  1  0\\nM  END\\n\",\"mol\");\n\tviewer_16910026329166713.setStyle({\"stick\": {}});\n\tviewer_16910026329166713.zoomTo();\nviewer_16910026329166713.render();\n});\n</script>",
      "text/html": [
       "<div id=\"3dmolviewer_16910026329166713\"  style=\"position: relative; width: 200px; height: 200px;\">\n",
       "        <p id=\"3dmolwarning_16910026329166713\" style=\"background-color:#ffcccc;color:black\">You appear to be running in JupyterLab (or JavaScript failed to load for some other reason).  You need to install the 3dmol extension: <br>\n",
       "        <tt>jupyter labextension install jupyterlab_3dmol</tt></p>\n",
       "        </div>\n",
       "<script>\n",
       "\n",
       "var loadScriptAsync = function(uri){\n",
       "  return new Promise((resolve, reject) => {\n",
       "    //this is to ignore the existence of requirejs amd\n",
       "    var savedexports, savedmodule;\n",
       "    if (typeof exports !== 'undefined') savedexports = exports;\n",
       "    else exports = {}\n",
       "    if (typeof module !== 'undefined') savedmodule = module;\n",
       "    else module = {}\n",
       "\n",
       "    var tag = document.createElement('script');\n",
       "    tag.src = uri;\n",
       "    tag.async = true;\n",
       "    tag.onload = () => {\n",
       "        exports = savedexports;\n",
       "        module = savedmodule;\n",
       "        resolve();\n",
       "    };\n",
       "  var firstScriptTag = document.getElementsByTagName('script')[0];\n",
       "  firstScriptTag.parentNode.insertBefore(tag, firstScriptTag);\n",
       "});\n",
       "};\n",
       "\n",
       "if(typeof $3Dmolpromise === 'undefined') {\n",
       "$3Dmolpromise = null;\n",
       "  $3Dmolpromise = loadScriptAsync('https://cdnjs.cloudflare.com/ajax/libs/3Dmol/2.0.3/3Dmol-min.js');\n",
       "}\n",
       "\n",
       "var viewer_16910026329166713 = null;\n",
       "var warn = document.getElementById(\"3dmolwarning_16910026329166713\");\n",
       "if(warn) {\n",
       "    warn.parentNode.removeChild(warn);\n",
       "}\n",
       "$3Dmolpromise.then(function() {\n",
       "viewer_16910026329166713 = $3Dmol.createViewer(document.getElementById(\"3dmolviewer_16910026329166713\"),{backgroundColor:\"white\"});\n",
       "viewer_16910026329166713.zoomTo();\n",
       "\tviewer_16910026329166713.addModel(\"\\n     RDKit          3D\\n\\n 34 34  0  0  0  0  0  0  0  0999 V2000\\n   -2.2698   -3.2082   -0.5572 C   0  0  0  0  0  0  0  0  0  0  0  0\\n   -1.7227   -2.1338    0.0309 C   0  0  0  0  0  0  0  0  0  0  0  0\\n   -0.9102   -1.0732   -0.6850 C   0  0  1  0  0  0  0  0  0  0  0  0\\n   -1.5260    0.3237   -0.5913 C   0  0  0  0  0  0  0  0  0  0  0  0\\n   -1.7277    1.0718   -1.7646 C   0  0  0  0  0  0  0  0  0  0  0  0\\n   -2.2739    2.3559   -1.7114 C   0  0  0  0  0  0  0  0  0  0  0  0\\n   -2.6216    2.9159   -0.4849 C   0  0  0  0  0  0  0  0  0  0  0  0\\n   -2.4177    2.1957    0.6894 C   0  0  0  0  0  0  0  0  0  0  0  0\\n   -1.8711    0.9114    0.6377 C   0  0  0  0  0  0  0  0  0  0  0  0\\n    0.4901   -1.1108   -0.2266 N   0  0  0  0  0  0  0  0  0  0  0  0\\n    0.6365   -0.8903    1.1708 O   0  0  0  0  0  0  0  0  0  0  0  0\\n    1.1763   -2.0695    1.7667 C   0  0  0  0  0  0  0  0  0  0  0  0\\n    1.4437   -0.5469   -1.0590 C   0  0  0  0  0  0  0  0  0  0  0  0\\n    1.3503   -0.5191   -2.2867 O   0  0  0  0  0  0  0  0  0  0  0  0\\n    2.6940   -0.0299   -0.4445 C   0  0  0  0  0  0  0  0  0  0  0  0\\n    2.6886    1.0364    0.3701 C   0  0  0  0  0  0  0  0  0  0  0  0\\n    3.9198    1.6370    0.9612 C   0  0  0  0  0  0  0  0  0  0  0  0\\n   -2.8444   -3.9253    0.0210 H   0  0  0  0  0  0  0  0  0  0  0  0\\n   -2.1606   -3.3952   -1.6214 H   0  0  0  0  0  0  0  0  0  0  0  0\\n   -1.8696   -2.0007    1.0996 H   0  0  0  0  0  0  0  0  0  0  0  0\\n   -0.8919   -1.3480   -1.7490 H   0  0  0  0  0  0  0  0  0  0  0  0\\n   -1.4466    0.6604   -2.7330 H   0  0  0  0  0  0  0  0  0  0  0  0\\n   -2.4212    2.9197   -2.6289 H   0  0  0  0  0  0  0  0  0  0  0  0\\n   -3.0444    3.9161   -0.4440 H   0  0  0  0  0  0  0  0  0  0  0  0\\n   -2.6790    2.6351    1.6484 H   0  0  0  0  0  0  0  0  0  0  0  0\\n   -1.7061    0.3761    1.5697 H   0  0  0  0  0  0  0  0  0  0  0  0\\n    2.1622   -2.2997    1.3513 H   0  0  0  0  0  0  0  0  0  0  0  0\\n    1.2863   -1.8868    2.8390 H   0  0  0  0  0  0  0  0  0  0  0  0\\n    0.5055   -2.9219    1.6275 H   0  0  0  0  0  0  0  0  0  0  0  0\\n    3.6071   -0.5070   -0.7776 H   0  0  0  0  0  0  0  0  0  0  0  0\\n    1.7441    1.5146    0.6256 H   0  0  0  0  0  0  0  0  0  0  0  0\\n    4.8265    1.1046    0.6572 H   0  0  0  0  0  0  0  0  0  0  0  0\\n    4.0142    2.6805    0.6457 H   0  0  0  0  0  0  0  0  0  0  0  0\\n    3.8591    1.6115    2.0535 H   0  0  0  0  0  0  0  0  0  0  0  0\\n  1  2  2  3\\n  2  3  1  0\\n  3  4  1  0\\n  4  5  2  0\\n  5  6  1  0\\n  6  7  2  0\\n  7  8  1  0\\n  8  9  2  0\\n  3 10  1  0\\n 10 11  1  0\\n 11 12  1  0\\n 10 13  1  0\\n 13 14  2  0\\n 13 15  1  0\\n 15 16  2  0\\n 16 17  1  0\\n  9  4  1  0\\n  1 18  1  0\\n  1 19  1  0\\n  2 20  1  0\\n  3 21  1  6\\n  5 22  1  0\\n  6 23  1  0\\n  7 24  1  0\\n  8 25  1  0\\n  9 26  1  0\\n 12 27  1  0\\n 12 28  1  0\\n 12 29  1  0\\n 15 30  1  0\\n 16 31  1  0\\n 17 32  1  0\\n 17 33  1  0\\n 17 34  1  0\\nM  END\\n\",\"mol\");\n",
       "\tviewer_16910026329166713.setStyle({\"stick\": {}});\n",
       "\tviewer_16910026329166713.zoomTo();\n",
       "viewer_16910026329166713.render();\n",
       "});\n",
       "</script>"
      ]
     },
     "metadata": {},
     "output_type": "display_data"
    }
   ],
   "source": [
    "show('C=C[C@@H](c1ccccc1)N(OC)C(=O)/C=C/C')"
   ]
  },
  {
   "cell_type": "code",
   "execution_count": 10,
   "id": "d6987651",
   "metadata": {},
   "outputs": [
    {
     "name": "stdout",
     "output_type": "stream",
     "text": [
      "C CHI_UNSPECIFIED\n",
      "C CHI_UNSPECIFIED\n",
      "C CHI_TETRAHEDRAL_CW\n",
      "C CHI_UNSPECIFIED\n",
      "C CHI_UNSPECIFIED\n",
      "C CHI_UNSPECIFIED\n",
      "C CHI_UNSPECIFIED\n",
      "C CHI_UNSPECIFIED\n",
      "C CHI_UNSPECIFIED\n",
      "N CHI_UNSPECIFIED\n",
      "O CHI_UNSPECIFIED\n",
      "C CHI_UNSPECIFIED\n",
      "C CHI_UNSPECIFIED\n",
      "O CHI_UNSPECIFIED\n",
      "C CHI_UNSPECIFIED\n",
      "C CHI_UNSPECIFIED\n",
      "C CHI_UNSPECIFIED\n"
     ]
    }
   ],
   "source": [
    "for atom in Chem.MolFromSmiles('C=C[C@@H](c1ccccc1)N(OC)C(=O)/C=C/C').GetAtoms():\n",
    "    print(atom.GetSymbol(), atom.GetChiralTag())"
   ]
  },
  {
   "cell_type": "code",
   "execution_count": 14,
   "id": "cc9048ef",
   "metadata": {},
   "outputs": [
    {
     "data": {
      "application/3dmoljs_load.v0": "<div id=\"3dmolviewer_16910026454730856\"  style=\"position: relative; width: 200px; height: 200px;\">\n        <p id=\"3dmolwarning_16910026454730856\" style=\"background-color:#ffcccc;color:black\">You appear to be running in JupyterLab (or JavaScript failed to load for some other reason).  You need to install the 3dmol extension: <br>\n        <tt>jupyter labextension install jupyterlab_3dmol</tt></p>\n        </div>\n<script>\n\nvar loadScriptAsync = function(uri){\n  return new Promise((resolve, reject) => {\n    //this is to ignore the existence of requirejs amd\n    var savedexports, savedmodule;\n    if (typeof exports !== 'undefined') savedexports = exports;\n    else exports = {}\n    if (typeof module !== 'undefined') savedmodule = module;\n    else module = {}\n\n    var tag = document.createElement('script');\n    tag.src = uri;\n    tag.async = true;\n    tag.onload = () => {\n        exports = savedexports;\n        module = savedmodule;\n        resolve();\n    };\n  var firstScriptTag = document.getElementsByTagName('script')[0];\n  firstScriptTag.parentNode.insertBefore(tag, firstScriptTag);\n});\n};\n\nif(typeof $3Dmolpromise === 'undefined') {\n$3Dmolpromise = null;\n  $3Dmolpromise = loadScriptAsync('https://cdnjs.cloudflare.com/ajax/libs/3Dmol/2.0.3/3Dmol-min.js');\n}\n\nvar viewer_16910026454730856 = null;\nvar warn = document.getElementById(\"3dmolwarning_16910026454730856\");\nif(warn) {\n    warn.parentNode.removeChild(warn);\n}\n$3Dmolpromise.then(function() {\nviewer_16910026454730856 = $3Dmol.createViewer(document.getElementById(\"3dmolviewer_16910026454730856\"),{backgroundColor:\"white\"});\nviewer_16910026454730856.zoomTo();\n\tviewer_16910026454730856.addModel(\"\\n     RDKit          3D\\n\\n 34 34  0  0  0  0  0  0  0  0999 V2000\\n   -1.2604    2.6790   -2.8686 H   0  0  0  0  0  0  0  0  0  0  0  0\\n   -0.6473    1.8426   -3.2173 C   0  0  0  0  0  0  0  0  0  0  0  0\\n   -1.2853    1.0646   -3.6472 H   0  0  0  0  0  0  0  0  0  0  0  0\\n    0.0271    2.2083   -3.9962 H   0  0  0  0  0  0  0  0  0  0  0  0\\n    0.1454    1.3198   -2.1543 O   0  0  0  0  0  0  0  0  0  0  0  0\\n   -0.7228    0.7609   -1.1610 N   0  0  0  0  0  0  0  0  0  0  0  0\\n   -0.9724    1.6844   -0.1451 C   0  0  0  0  0  0  0  0  0  0  0  0\\n   -0.6798    2.8786   -0.2033 O   0  0  0  0  0  0  0  0  0  0  0  0\\n   -1.6967    1.1572    1.0484 C   0  0  0  0  0  0  0  0  0  0  0  0\\n   -1.5894    1.7805    2.2321 C   0  0  0  0  0  0  0  0  0  0  0  0\\n   -2.2907    1.3416    3.4741 C   0  0  0  0  0  0  0  0  0  0  0  0\\n   -0.4224   -0.6680   -0.9048 C   0  0  1  0  0  0  0  0  0  0  0  0\\n   -0.4182   -1.4316   -2.2181 C   0  0  0  0  0  0  0  0  0  0  0  0\\n    0.5725   -2.1639   -2.7497 C   0  0  0  0  0  0  0  0  0  0  0  0\\n    0.7780   -0.9221    0.0068 C   0  0  0  0  0  0  0  0  0  0  0  0\\n    1.9521   -0.1545   -0.0516 C   0  0  0  0  0  0  0  0  0  0  0  0\\n    3.0291   -0.4272    0.7952 C   0  0  0  0  0  0  0  0  0  0  0  0\\n    2.9549   -1.4766    1.7073 C   0  0  0  0  0  0  0  0  0  0  0  0\\n    1.8050   -2.2582    1.7723 C   0  0  0  0  0  0  0  0  0  0  0  0\\n    0.7267   -1.9861    0.9277 C   0  0  0  0  0  0  0  0  0  0  0  0\\n   -2.3332    0.2921    0.9276 H   0  0  0  0  0  0  0  0  0  0  0  0\\n   -0.9562    2.6628    2.3209 H   0  0  0  0  0  0  0  0  0  0  0  0\\n   -1.5585    1.1122    4.2542 H   0  0  0  0  0  0  0  0  0  0  0  0\\n   -2.9420    2.1423    3.8375 H   0  0  0  0  0  0  0  0  0  0  0  0\\n   -2.9044    0.4502    3.3093 H   0  0  0  0  0  0  0  0  0  0  0  0\\n   -1.2977   -1.0508   -0.3654 H   0  0  0  0  0  0  0  0  0  0  0  0\\n   -1.3486   -1.3660   -2.7793 H   0  0  0  0  0  0  0  0  0  0  0  0\\n    0.4426   -2.6610   -3.7062 H   0  0  0  0  0  0  0  0  0  0  0  0\\n    1.5357   -2.2789   -2.2615 H   0  0  0  0  0  0  0  0  0  0  0  0\\n    2.0445    0.6686   -0.7568 H   0  0  0  0  0  0  0  0  0  0  0  0\\n    3.9267    0.1837    0.7392 H   0  0  0  0  0  0  0  0  0  0  0  0\\n    3.7949   -1.6857    2.3642 H   0  0  0  0  0  0  0  0  0  0  0  0\\n    1.7482   -3.0817    2.4792 H   0  0  0  0  0  0  0  0  0  0  0  0\\n   -0.1575   -2.6170    0.9906 H   0  0  0  0  0  0  0  0  0  0  0  0\\n  1  2  1  0\\n  2  3  1  0\\n  2  4  1  0\\n  2  5  1  0\\n  5  6  1  0\\n  6  7  1  0\\n  7  8  2  0\\n  7  9  1  0\\n  9 10  2  0\\n 10 11  1  0\\n  6 12  1  0\\n 12 13  1  0\\n 13 14  2  3\\n 12 15  1  0\\n 15 16  2  0\\n 16 17  1  0\\n 17 18  2  0\\n 18 19  1  0\\n 19 20  2  0\\n 20 15  1  0\\n  9 21  1  0\\n 10 22  1  0\\n 11 23  1  0\\n 11 24  1  0\\n 11 25  1  0\\n 12 26  1  1\\n 13 27  1  0\\n 14 28  1  0\\n 14 29  1  0\\n 16 30  1  0\\n 17 31  1  0\\n 18 32  1  0\\n 19 33  1  0\\n 20 34  1  0\\nM  ISO  3   1   2   3   2   4   2\\nM  END\\n\",\"mol\");\n\tviewer_16910026454730856.setStyle({\"stick\": {}});\n\tviewer_16910026454730856.zoomTo();\nviewer_16910026454730856.render();\n});\n</script>",
      "text/html": [
       "<div id=\"3dmolviewer_16910026454730856\"  style=\"position: relative; width: 200px; height: 200px;\">\n",
       "        <p id=\"3dmolwarning_16910026454730856\" style=\"background-color:#ffcccc;color:black\">You appear to be running in JupyterLab (or JavaScript failed to load for some other reason).  You need to install the 3dmol extension: <br>\n",
       "        <tt>jupyter labextension install jupyterlab_3dmol</tt></p>\n",
       "        </div>\n",
       "<script>\n",
       "\n",
       "var loadScriptAsync = function(uri){\n",
       "  return new Promise((resolve, reject) => {\n",
       "    //this is to ignore the existence of requirejs amd\n",
       "    var savedexports, savedmodule;\n",
       "    if (typeof exports !== 'undefined') savedexports = exports;\n",
       "    else exports = {}\n",
       "    if (typeof module !== 'undefined') savedmodule = module;\n",
       "    else module = {}\n",
       "\n",
       "    var tag = document.createElement('script');\n",
       "    tag.src = uri;\n",
       "    tag.async = true;\n",
       "    tag.onload = () => {\n",
       "        exports = savedexports;\n",
       "        module = savedmodule;\n",
       "        resolve();\n",
       "    };\n",
       "  var firstScriptTag = document.getElementsByTagName('script')[0];\n",
       "  firstScriptTag.parentNode.insertBefore(tag, firstScriptTag);\n",
       "});\n",
       "};\n",
       "\n",
       "if(typeof $3Dmolpromise === 'undefined') {\n",
       "$3Dmolpromise = null;\n",
       "  $3Dmolpromise = loadScriptAsync('https://cdnjs.cloudflare.com/ajax/libs/3Dmol/2.0.3/3Dmol-min.js');\n",
       "}\n",
       "\n",
       "var viewer_16910026454730856 = null;\n",
       "var warn = document.getElementById(\"3dmolwarning_16910026454730856\");\n",
       "if(warn) {\n",
       "    warn.parentNode.removeChild(warn);\n",
       "}\n",
       "$3Dmolpromise.then(function() {\n",
       "viewer_16910026454730856 = $3Dmol.createViewer(document.getElementById(\"3dmolviewer_16910026454730856\"),{backgroundColor:\"white\"});\n",
       "viewer_16910026454730856.zoomTo();\n",
       "\tviewer_16910026454730856.addModel(\"\\n     RDKit          3D\\n\\n 34 34  0  0  0  0  0  0  0  0999 V2000\\n   -1.2604    2.6790   -2.8686 H   0  0  0  0  0  0  0  0  0  0  0  0\\n   -0.6473    1.8426   -3.2173 C   0  0  0  0  0  0  0  0  0  0  0  0\\n   -1.2853    1.0646   -3.6472 H   0  0  0  0  0  0  0  0  0  0  0  0\\n    0.0271    2.2083   -3.9962 H   0  0  0  0  0  0  0  0  0  0  0  0\\n    0.1454    1.3198   -2.1543 O   0  0  0  0  0  0  0  0  0  0  0  0\\n   -0.7228    0.7609   -1.1610 N   0  0  0  0  0  0  0  0  0  0  0  0\\n   -0.9724    1.6844   -0.1451 C   0  0  0  0  0  0  0  0  0  0  0  0\\n   -0.6798    2.8786   -0.2033 O   0  0  0  0  0  0  0  0  0  0  0  0\\n   -1.6967    1.1572    1.0484 C   0  0  0  0  0  0  0  0  0  0  0  0\\n   -1.5894    1.7805    2.2321 C   0  0  0  0  0  0  0  0  0  0  0  0\\n   -2.2907    1.3416    3.4741 C   0  0  0  0  0  0  0  0  0  0  0  0\\n   -0.4224   -0.6680   -0.9048 C   0  0  1  0  0  0  0  0  0  0  0  0\\n   -0.4182   -1.4316   -2.2181 C   0  0  0  0  0  0  0  0  0  0  0  0\\n    0.5725   -2.1639   -2.7497 C   0  0  0  0  0  0  0  0  0  0  0  0\\n    0.7780   -0.9221    0.0068 C   0  0  0  0  0  0  0  0  0  0  0  0\\n    1.9521   -0.1545   -0.0516 C   0  0  0  0  0  0  0  0  0  0  0  0\\n    3.0291   -0.4272    0.7952 C   0  0  0  0  0  0  0  0  0  0  0  0\\n    2.9549   -1.4766    1.7073 C   0  0  0  0  0  0  0  0  0  0  0  0\\n    1.8050   -2.2582    1.7723 C   0  0  0  0  0  0  0  0  0  0  0  0\\n    0.7267   -1.9861    0.9277 C   0  0  0  0  0  0  0  0  0  0  0  0\\n   -2.3332    0.2921    0.9276 H   0  0  0  0  0  0  0  0  0  0  0  0\\n   -0.9562    2.6628    2.3209 H   0  0  0  0  0  0  0  0  0  0  0  0\\n   -1.5585    1.1122    4.2542 H   0  0  0  0  0  0  0  0  0  0  0  0\\n   -2.9420    2.1423    3.8375 H   0  0  0  0  0  0  0  0  0  0  0  0\\n   -2.9044    0.4502    3.3093 H   0  0  0  0  0  0  0  0  0  0  0  0\\n   -1.2977   -1.0508   -0.3654 H   0  0  0  0  0  0  0  0  0  0  0  0\\n   -1.3486   -1.3660   -2.7793 H   0  0  0  0  0  0  0  0  0  0  0  0\\n    0.4426   -2.6610   -3.7062 H   0  0  0  0  0  0  0  0  0  0  0  0\\n    1.5357   -2.2789   -2.2615 H   0  0  0  0  0  0  0  0  0  0  0  0\\n    2.0445    0.6686   -0.7568 H   0  0  0  0  0  0  0  0  0  0  0  0\\n    3.9267    0.1837    0.7392 H   0  0  0  0  0  0  0  0  0  0  0  0\\n    3.7949   -1.6857    2.3642 H   0  0  0  0  0  0  0  0  0  0  0  0\\n    1.7482   -3.0817    2.4792 H   0  0  0  0  0  0  0  0  0  0  0  0\\n   -0.1575   -2.6170    0.9906 H   0  0  0  0  0  0  0  0  0  0  0  0\\n  1  2  1  0\\n  2  3  1  0\\n  2  4  1  0\\n  2  5  1  0\\n  5  6  1  0\\n  6  7  1  0\\n  7  8  2  0\\n  7  9  1  0\\n  9 10  2  0\\n 10 11  1  0\\n  6 12  1  0\\n 12 13  1  0\\n 13 14  2  3\\n 12 15  1  0\\n 15 16  2  0\\n 16 17  1  0\\n 17 18  2  0\\n 18 19  1  0\\n 19 20  2  0\\n 20 15  1  0\\n  9 21  1  0\\n 10 22  1  0\\n 11 23  1  0\\n 11 24  1  0\\n 11 25  1  0\\n 12 26  1  1\\n 13 27  1  0\\n 14 28  1  0\\n 14 29  1  0\\n 16 30  1  0\\n 17 31  1  0\\n 18 32  1  0\\n 19 33  1  0\\n 20 34  1  0\\nM  ISO  3   1   2   3   2   4   2\\nM  END\\n\",\"mol\");\n",
       "\tviewer_16910026454730856.setStyle({\"stick\": {}});\n",
       "\tviewer_16910026454730856.zoomTo();\n",
       "viewer_16910026454730856.render();\n",
       "});\n",
       "</script>"
      ]
     },
     "metadata": {},
     "output_type": "display_data"
    }
   ],
   "source": [
    "show('[2H]C([2H])([2H])ON(C(=O)/C=C/C)[C@@H](C=C)c1ccccc1')"
   ]
  },
  {
   "cell_type": "code",
   "execution_count": 11,
   "id": "22d61d4f",
   "metadata": {},
   "outputs": [
    {
     "name": "stdout",
     "output_type": "stream",
     "text": [
      "H CHI_UNSPECIFIED\n",
      "C CHI_UNSPECIFIED\n",
      "H CHI_UNSPECIFIED\n",
      "H CHI_UNSPECIFIED\n",
      "O CHI_UNSPECIFIED\n",
      "N CHI_UNSPECIFIED\n",
      "C CHI_UNSPECIFIED\n",
      "O CHI_UNSPECIFIED\n",
      "C CHI_UNSPECIFIED\n",
      "C CHI_UNSPECIFIED\n",
      "C CHI_UNSPECIFIED\n",
      "C CHI_TETRAHEDRAL_CW\n",
      "C CHI_UNSPECIFIED\n",
      "C CHI_UNSPECIFIED\n",
      "C CHI_UNSPECIFIED\n",
      "C CHI_UNSPECIFIED\n",
      "C CHI_UNSPECIFIED\n",
      "C CHI_UNSPECIFIED\n",
      "C CHI_UNSPECIFIED\n",
      "C CHI_UNSPECIFIED\n"
     ]
    }
   ],
   "source": [
    "for atom in Chem.MolFromSmiles('[2H]C([2H])([2H])ON(C(=O)/C=C/C)[C@@H](C=C)c1ccccc1').GetAtoms():\n",
    "    print(atom.GetSymbol(), atom.GetChiralTag())"
   ]
  },
  {
   "cell_type": "code",
   "execution_count": 10,
   "id": "ebba95d1",
   "metadata": {},
   "outputs": [],
   "source": [
    "from rdkit import Chem\n",
    "from rdkit.Chem.EnumerateStereoisomers import EnumerateStereoisomers, StereoEnumerationOptions\n",
    "from rdkit.Chem.Draw import IPythonConsole\n",
    "from rdkit.Chem import Draw\n",
    "IPythonConsole.ipython_useSVG=False\n",
    "IPythonConsole.molSize = 300,300"
   ]
  },
  {
   "cell_type": "code",
   "execution_count": 11,
   "id": "9c754104",
   "metadata": {},
   "outputs": [
    {
     "name": "stdout",
     "output_type": "stream",
     "text": [
      "2 isomers are found!\n",
      "\n",
      "C#C[C@@H](O)c1ccccc1\n",
      "C#C[C@H](O)c1ccccc1\n"
     ]
    }
   ],
   "source": [
    "m = Chem.MolFromSmiles('C#CC(C1=CC=CC=C1)O')\n",
    "isomers = tuple(EnumerateStereoisomers(m))\n",
    "print('{} isomers are found!\\n'.format(len(isomers)))\n",
    "\n",
    "for smi in sorted(Chem.MolToSmiles(x, isomericSmiles=True) for x in isomers):\n",
    "    print(smi)"
   ]
  },
  {
   "cell_type": "markdown",
   "id": "d4afb6cf",
   "metadata": {},
   "source": [
    "(R)-1-Phenyl-2-propyn-1-ol"
   ]
  },
  {
   "cell_type": "code",
   "execution_count": 12,
   "id": "65fecac4",
   "metadata": {},
   "outputs": [
    {
     "data": {
      "image/png": "[encoded data removed]",
      "text/plain": [
       "<rdkit.Chem.rdchem.Mol at 0x7fe89aa92ee0>"
      ]
     },
     "metadata": {},
     "output_type": "display_data"
    }
   ],
   "source": [
    "mol = Chem.MolFromSmiles('C#C[C@@H](O)c1ccccc1')\n",
    "display(mol)"
   ]
  },
  {
   "cell_type": "markdown",
   "id": "65e9dd44",
   "metadata": {},
   "source": [
    "(S)-1-Phenyl-2-propyn-1-ol"
   ]
  },
  {
   "cell_type": "code",
   "execution_count": 13,
   "id": "16417841",
   "metadata": {},
   "outputs": [
    {
     "data": {
      "image/png": "[encoded data removed]",
      "text/plain": [
       "<rdkit.Chem.rdchem.Mol at 0x7fe89aa7dd00>"
      ]
     },
     "metadata": {},
     "output_type": "display_data"
    }
   ],
   "source": [
    "mol = Chem.MolFromSmiles('C#C[C@H](O)c1ccccc1')\n",
    "display(mol)"
   ]
  },
  {
   "cell_type": "code",
   "execution_count": 14,
   "id": "d051280d",
   "metadata": {},
   "outputs": [
    {
     "data": {
      "image/png": "[encoded data removed]",
      "text/plain": [
       "<rdkit.Chem.rdchem.Mol at 0x7fe89aa7dd00>"
      ]
     },
     "metadata": {},
     "output_type": "display_data"
    }
   ],
   "source": [
    "mol = Chem.MolFromSmiles('C#C[C@H](O)c1ccccc1')\n",
    "mol = Chem.AddHs(mol)\n",
    "AllChem.EmbedMolecule(mol)\n",
    "AllChem.MMFFOptimizeMolecule(mol, maxIters=300)\n",
    "\n",
    "display(mol)"
   ]
  },
  {
   "cell_type": "code",
   "execution_count": null,
   "id": "67730738",
   "metadata": {},
   "outputs": [],
   "source": []
  }
 ],
 "metadata": {
  "kernelspec": {
   "display_name": "molnet",
   "language": "python",
   "name": "molnet"
  },
  "language_info": {
   "codemirror_mode": {
    "name": "ipython",
    "version": 3
   },
   "file_extension": ".py",
   "mimetype": "text/x-python",
   "name": "python",
   "nbconvert_exporter": "python",
   "pygments_lexer": "ipython3",
   "version": "3.7.16"
  }
 },
 "nbformat": 4,
 "nbformat_minor": 5
}
