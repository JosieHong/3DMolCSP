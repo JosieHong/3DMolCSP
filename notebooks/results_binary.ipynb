{
 "cells": [
  {
   "cell_type": "code",
   "execution_count": 2,
   "id": "73090da3",
   "metadata": {},
   "outputs": [],
   "source": [
    "import pandas as pd\n",
    "import numpy as np\n",
    "\n",
    "from sklearn import metrics\n",
    "from sklearn import preprocessing\n",
    "import matplotlib.pyplot as plt\n",
    "import seaborn as sns"
   ]
  },
  {
   "cell_type": "code",
   "execution_count": 3,
   "id": "8deb19f7",
   "metadata": {},
   "outputs": [],
   "source": [
    "def group_f1_b(df): \n",
    "    label = np.array(df.Class_b.tolist(), dtype=int)\n",
    "    pred = np.array(df.Pred_b.tolist(), dtype=float)\n",
    "    pred = np.where(pred > 0.5, 1, 0)\n",
    "    score = metrics.f1_score(label, pred, average='micro')\n",
    "    return score\n",
    "\n",
    "def group_kappa_b(df): \n",
    "    label = np.array(df.Class_b.tolist(), dtype=int)\n",
    "    pred = np.array(df.Pred_b.tolist(), dtype=float)\n",
    "    pred = np.where(pred > 0.5, 1, 0)\n",
    "    score = metrics.cohen_kappa_score(label, pred)\n",
    "    return score\n",
    "\n",
    "def group_acc_b(df): \n",
    "    label = np.array(df.Class_b.tolist(), dtype=int)\n",
    "    pred = np.array(df.Pred_b.tolist(), dtype=float)\n",
    "    pred = np.where(pred > 0.5, 1, 0)\n",
    "    score = metrics.accuracy_score(label, pred)\n",
    "    return score\n",
    "\n",
    "def group_auc_b(df): \n",
    "    label = np.array(df.Class_b.tolist(), dtype=int)\n",
    "    pred = np.array(df.Pred_b.tolist(), dtype=float)\n",
    "    score = metrics.roc_auc_score(label, pred)\n",
    "    return score"
   ]
  },
  {
   "cell_type": "code",
   "execution_count": 4,
   "id": "0a9cf0c7",
   "metadata": {},
   "outputs": [],
   "source": [
    "from scipy.special import softmax\n",
    "\n",
    "def binary_cls(cls):\n",
    "    if cls == 0 or cls == 1:\n",
    "        return 0\n",
    "    elif cls == 2 or cls == 3:\n",
    "        return 1\n",
    "    else:\n",
    "        return None\n",
    "    \n",
    "def binary_pred(pred):\n",
    "    pred = np.array(pred.split(','), dtype=float)\n",
    "    pred_b = np.array([pred[0]+pred[1], pred[2]+pred[3]])\n",
    "    pred_b = softmax(pred_b)\n",
    "    return pred_b[1] # the probability to greater label"
   ]
  },
  {
   "cell_type": "markdown",
   "id": "2714d6a1",
   "metadata": {},
   "source": [
    "## 1. Independent training"
   ]
  },
  {
   "cell_type": "code",
   "execution_count": 4,
   "id": "59b726c0",
   "metadata": {},
   "outputs": [],
   "source": [
    "dfs = []\n",
    "for mb in range(18): \n",
    "    for i in range(5):\n",
    "        dfs.append(pd.read_csv('../results/molnet_chirality_cls_etkdg_csp{}-5fold_{}.csv'.format(str(mb), str(i)), \n",
    "                               sep='\\t', index_col=0))\n",
    "    df = pd.concat(dfs, ignore_index=True)"
   ]
  },
  {
   "cell_type": "markdown",
   "id": "5ee3ba69",
   "metadata": {},
   "source": [
    "Convert quadra classification into binary classification: "
   ]
  },
  {
   "cell_type": "code",
   "execution_count": 5,
   "id": "14b2cf31",
   "metadata": {},
   "outputs": [],
   "source": [
    "df['Class_b'] = df['Class'].apply(binary_cls)\n",
    "df['Pred_b'] = df['Pred'].apply(binary_pred)"
   ]
  },
  {
   "cell_type": "code",
   "execution_count": 6,
   "id": "c4f7b311",
   "metadata": {},
   "outputs": [],
   "source": [
    "auc = df.groupby('MB').apply(group_auc_b)\n",
    "acc = df.groupby('MB').apply(group_acc_b)\n",
    "kappa = df.groupby('MB').apply(group_kappa_b)\n",
    "f1 = df.groupby('MB').apply(group_f1_b)"
   ]
  },
  {
   "cell_type": "code",
   "execution_count": 7,
   "id": "2eaa4242",
   "metadata": {},
   "outputs": [
    {
     "name": "stdout",
     "output_type": "stream",
     "text": [
      "AUC: \n",
      "0.9057808857808858\n",
      "0.9033212329793456\n",
      "0.8952841427940758\n",
      "0.8891244590010527\n",
      "0.9085682606820935\n",
      "0.8904499178981937\n",
      "0.8124318440678137\n",
      "0.9491153856386517\n",
      "0.7722950509082925\n",
      "0.7927883862283661\n",
      "0.8420768086239215\n",
      "0.7496803696794311\n",
      "0.9239179025198657\n",
      "0.7925037490950462\n",
      "0.8691141570741012\n",
      "0.8216904625928041\n",
      "0.8747088973076201\n",
      "0.7923774039403078 \n",
      "\n",
      "ACC: \n",
      "0.8956896551724138\n",
      "0.8615384615384616\n",
      "0.8739864864864865\n",
      "0.8186813186813187\n",
      "0.8808988764044944\n",
      "0.8827868852459017\n",
      "0.8618343195266273\n",
      "0.9010309278350516\n",
      "0.8664465538588526\n",
      "0.8818359375\n",
      "0.8766233766233766\n",
      "0.8482758620689655\n",
      "0.9161676646706587\n",
      "0.847926267281106\n",
      "0.86\n",
      "0.93\n",
      "0.8660869565217392\n",
      "0.8237410071942446 \n",
      "\n",
      "KAPPA: \n",
      "0.7546582765250831\n",
      "0.7230127018944135\n",
      "0.7190295822089393\n",
      "0.6324771261987634\n",
      "0.7208244336654708\n",
      "0.694487251330905\n",
      "0.6606887108155124\n",
      "0.8018628551366821\n",
      "0.626491209751056\n",
      "0.6424498464805966\n",
      "0.6825561379230536\n",
      "0.5873568716821373\n",
      "0.7988176882104412\n",
      "0.5744582231001263\n",
      "0.6863880215277598\n",
      "0.6737019293020847\n",
      "0.6952900723234433\n",
      "0.5265259475737496 \n",
      "\n",
      "F1: \n",
      "0.8956896551724138\n",
      "0.8615384615384615\n",
      "0.8739864864864865\n",
      "0.8186813186813187\n",
      "0.8808988764044944\n",
      "0.8827868852459017\n",
      "0.8618343195266273\n",
      "0.9010309278350516\n",
      "0.8664465538588526\n",
      "0.8818359375\n",
      "0.8766233766233766\n",
      "0.8482758620689655\n",
      "0.9161676646706587\n",
      "0.847926267281106\n",
      "0.8599999999999999\n",
      "0.93\n",
      "0.8660869565217393\n",
      "0.8237410071942446 \n",
      "\n"
     ]
    }
   ],
   "source": [
    "print('AUC:', '\\n'+'\\n'.join(auc.astype(str).tolist()), '\\n')\n",
    "print('ACC:', '\\n'+'\\n'.join(acc.astype(str).tolist()), '\\n')\n",
    "print('KAPPA:', '\\n'+'\\n'.join(kappa.astype(str).tolist()), '\\n')\n",
    "print('F1:', '\\n'+'\\n'.join(f1.astype(str).tolist()), '\\n')"
   ]
  },
  {
   "cell_type": "code",
   "execution_count": null,
   "id": "33b39d2e",
   "metadata": {},
   "outputs": [],
   "source": []
  },
  {
   "cell_type": "markdown",
   "id": "64e20d18",
   "metadata": {},
   "source": [
    "## 2. Transfer learning"
   ]
  },
  {
   "cell_type": "code",
   "execution_count": 8,
   "id": "1ec5ba68",
   "metadata": {},
   "outputs": [],
   "source": [
    "dfs = []\n",
    "for mb in range(18): \n",
    "    for i in range(5):\n",
    "        dfs.append(pd.read_csv('../results/molnet_chirality_cls_etkdg_csp{}-5fold_tl_{}.csv'.format(str(mb), str(i)), \n",
    "                               sep='\\t', index_col=0))\n",
    "    df = pd.concat(dfs, ignore_index=True)"
   ]
  },
  {
   "cell_type": "code",
   "execution_count": 9,
   "id": "dc05e557",
   "metadata": {},
   "outputs": [],
   "source": [
    "df['Class_b'] = df['Class'].apply(binary_cls)\n",
    "df['Pred_b'] = df['Pred'].apply(binary_pred)"
   ]
  },
  {
   "cell_type": "code",
   "execution_count": 10,
   "id": "cf0352c7",
   "metadata": {},
   "outputs": [],
   "source": [
    "auc = df.groupby('MB').apply(group_auc_b)\n",
    "acc = df.groupby('MB').apply(group_acc_b)\n",
    "kappa = df.groupby('MB').apply(group_kappa_b)\n",
    "f1 = df.groupby('MB').apply(group_f1_b)"
   ]
  },
  {
   "cell_type": "code",
   "execution_count": 11,
   "id": "573f9a50",
   "metadata": {},
   "outputs": [
    {
     "name": "stdout",
     "output_type": "stream",
     "text": [
      "AUC: \n",
      "0.9210753570130602\n",
      "0.9056131448592486\n",
      "0.8902443140231847\n",
      "0.9222745675018635\n",
      "0.9052515278290473\n",
      "0.8986084018676626\n",
      "0.8570461679887467\n",
      "0.958475004655865\n",
      "0.8035248213538786\n",
      "0.8075753438708568\n",
      "0.8378784453018445\n",
      "0.7999471278990895\n",
      "0.9239899080240069\n",
      "0.8017578712901089\n",
      "0.911137516237768\n",
      "0.8398149568933673\n",
      "0.8735790494991003\n",
      "0.7831831038942306 \n",
      "\n",
      "ACC: \n",
      "0.9120689655172414\n",
      "0.8648351648351649\n",
      "0.8881756756756757\n",
      "0.8571428571428571\n",
      "0.897003745318352\n",
      "0.8860655737704918\n",
      "0.8826923076923077\n",
      "0.9206185567010309\n",
      "0.8775897647544366\n",
      "0.8916015625\n",
      "0.8844155844155844\n",
      "0.8651542649727768\n",
      "0.9119760479041916\n",
      "0.8682027649769585\n",
      "0.8856\n",
      "0.9408333333333333\n",
      "0.8639130434782609\n",
      "0.8273381294964028 \n",
      "\n",
      "KAPPA: \n",
      "0.7951814319989198\n",
      "0.7295527581124508\n",
      "0.7482346411207845\n",
      "0.7123012495318511\n",
      "0.7576247922851898\n",
      "0.7079972724830735\n",
      "0.718306395420327\n",
      "0.8408997715423818\n",
      "0.6617757317894766\n",
      "0.6739669193912581\n",
      "0.6954538047906142\n",
      "0.6443832468694796\n",
      "0.7910129347405986\n",
      "0.6356538177036246\n",
      "0.7482543286171803\n",
      "0.7394782225810002\n",
      "0.6914215270240844\n",
      "0.5367708932156932 \n",
      "\n",
      "F1: \n",
      "0.9120689655172414\n",
      "0.8648351648351649\n",
      "0.8881756756756757\n",
      "0.8571428571428571\n",
      "0.897003745318352\n",
      "0.8860655737704918\n",
      "0.8826923076923077\n",
      "0.9206185567010308\n",
      "0.8775897647544366\n",
      "0.8916015625\n",
      "0.8844155844155844\n",
      "0.8651542649727768\n",
      "0.9119760479041916\n",
      "0.8682027649769585\n",
      "0.8856\n",
      "0.9408333333333333\n",
      "0.8639130434782609\n",
      "0.8273381294964028 \n",
      "\n"
     ]
    }
   ],
   "source": [
    "print('AUC:', '\\n'+'\\n'.join(auc.astype(str).tolist()), '\\n')\n",
    "print('ACC:', '\\n'+'\\n'.join(acc.astype(str).tolist()), '\\n')\n",
    "print('KAPPA:', '\\n'+'\\n'.join(kappa.astype(str).tolist()), '\\n')\n",
    "print('F1:', '\\n'+'\\n'.join(f1.astype(str).tolist()), '\\n')"
   ]
  },
  {
   "cell_type": "markdown",
   "id": "910a539c",
   "metadata": {},
   "source": [
    "### average on k-folds"
   ]
  },
  {
   "cell_type": "code",
   "execution_count": 5,
   "id": "ec19d096",
   "metadata": {},
   "outputs": [],
   "source": [
    "dfs = []\n",
    "for mb in range(18): \n",
    "    for i in range(5):\n",
    "        df_tmp = pd.read_csv('../results/molnet_chirality_cls_etkdg_csp{}-5fold_tl_{}.csv'.format(str(mb), str(i)), \n",
    "                               sep='\\t', index_col=0)\n",
    "        df_tmp['k-fold'] = str(i)\n",
    "        dfs.append(df_tmp)\n",
    "    df = pd.concat(dfs, ignore_index=True)"
   ]
  },
  {
   "cell_type": "code",
   "execution_count": 7,
   "id": "9e3c6cf2",
   "metadata": {},
   "outputs": [],
   "source": [
    "df['Class_b'] = df['Class'].apply(binary_cls)\n",
    "df['Pred_b'] = df['Pred'].apply(binary_pred)"
   ]
  },
  {
   "cell_type": "code",
   "execution_count": 8,
   "id": "7cd76d2d",
   "metadata": {},
   "outputs": [
    {
     "data": {
      "text/html": [
       "<div>\n",
       "<style scoped>\n",
       "    .dataframe tbody tr th:only-of-type {\n",
       "        vertical-align: middle;\n",
       "    }\n",
       "\n",
       "    .dataframe tbody tr th {\n",
       "        vertical-align: top;\n",
       "    }\n",
       "\n",
       "    .dataframe thead th {\n",
       "        text-align: right;\n",
       "    }\n",
       "</style>\n",
       "<table border=\"1\" class=\"dataframe\">\n",
       "  <thead>\n",
       "    <tr style=\"text-align: right;\">\n",
       "      <th></th>\n",
       "      <th>SMILES</th>\n",
       "      <th>MB</th>\n",
       "      <th>Class</th>\n",
       "      <th>Pred</th>\n",
       "      <th>k-fold</th>\n",
       "      <th>Class_b</th>\n",
       "      <th>Pred_b</th>\n",
       "    </tr>\n",
       "  </thead>\n",
       "  <tbody>\n",
       "    <tr>\n",
       "      <th>0</th>\n",
       "      <td>C=CCc1ccccc1OC[C@@H](O)CNC(C)C</td>\n",
       "      <td>0</td>\n",
       "      <td>3</td>\n",
       "      <td>0.0020866082049906254,0.014219977892935276,0.0...</td>\n",
       "      <td>0</td>\n",
       "      <td>1</td>\n",
       "      <td>0.724598</td>\n",
       "    </tr>\n",
       "    <tr>\n",
       "      <th>1</th>\n",
       "      <td>COc1ccc([C@H]2CCCn3nc(-c4ccc(-n5cnc(C)c5)c(OC)...</td>\n",
       "      <td>0</td>\n",
       "      <td>2</td>\n",
       "      <td>0.0007065583486109972,0.0007496289908885956,0....</td>\n",
       "      <td>0</td>\n",
       "      <td>1</td>\n",
       "      <td>0.730486</td>\n",
       "    </tr>\n",
       "    <tr>\n",
       "      <th>2</th>\n",
       "      <td>COc1nc(-c2nc3n(n2)CCC[C@@H]3c2ccc(C(F)(F)F)cc2...</td>\n",
       "      <td>0</td>\n",
       "      <td>2</td>\n",
       "      <td>0.001747628441080451,5.960829639661824e-06,0.9...</td>\n",
       "      <td>0</td>\n",
       "      <td>1</td>\n",
       "      <td>0.730368</td>\n",
       "    </tr>\n",
       "    <tr>\n",
       "      <th>3</th>\n",
       "      <td>C=C[C@@H](CNCc1ccc(OC)cc1)n1ccc2c([N+](=O)[O-]...</td>\n",
       "      <td>0</td>\n",
       "      <td>3</td>\n",
       "      <td>3.287104846094735e-05,0.000531266734469682,0.0...</td>\n",
       "      <td>0</td>\n",
       "      <td>1</td>\n",
       "      <td>0.730837</td>\n",
       "    </tr>\n",
       "    <tr>\n",
       "      <th>4</th>\n",
       "      <td>Cc1ccsc1[C@@]1(C/C=C/OC(=O)C(C)(C)C)C(=O)N(C)c...</td>\n",
       "      <td>0</td>\n",
       "      <td>2</td>\n",
       "      <td>0.00012049739598296583,0.0037947266828268766,0...</td>\n",
       "      <td>0</td>\n",
       "      <td>1</td>\n",
       "      <td>0.729516</td>\n",
       "    </tr>\n",
       "    <tr>\n",
       "      <th>...</th>\n",
       "      <td>...</td>\n",
       "      <td>...</td>\n",
       "      <td>...</td>\n",
       "      <td>...</td>\n",
       "      <td>...</td>\n",
       "      <td>...</td>\n",
       "      <td>...</td>\n",
       "    </tr>\n",
       "    <tr>\n",
       "      <th>76695</th>\n",
       "      <td>CN(C)CC[C@@H](c1ccc(Cl)cc1)c1ccccn1</td>\n",
       "      <td>17</td>\n",
       "      <td>3</td>\n",
       "      <td>1.6406809777436138e-07,2.6435621691689448e-08,...</td>\n",
       "      <td>4</td>\n",
       "      <td>1</td>\n",
       "      <td>0.731059</td>\n",
       "    </tr>\n",
       "    <tr>\n",
       "      <th>76696</th>\n",
       "      <td>CN1C(=O)NC(=O)[C@@](C)(C2=CCCCC2)C1=O</td>\n",
       "      <td>17</td>\n",
       "      <td>2</td>\n",
       "      <td>5.4317742979037575e-06,5.377025331654295e-07,0...</td>\n",
       "      <td>4</td>\n",
       "      <td>1</td>\n",
       "      <td>0.731056</td>\n",
       "    </tr>\n",
       "    <tr>\n",
       "      <th>76697</th>\n",
       "      <td>CN(C)CC[C@@H](c1ccc(Cl)cc1)c1ccccn1</td>\n",
       "      <td>17</td>\n",
       "      <td>2</td>\n",
       "      <td>6.81766607613099e-08,5.547807990780029e-09,0.9...</td>\n",
       "      <td>4</td>\n",
       "      <td>1</td>\n",
       "      <td>0.731059</td>\n",
       "    </tr>\n",
       "    <tr>\n",
       "      <th>76698</th>\n",
       "      <td>O=C(c1ccccc1)[C@H](O)c1ccccc1</td>\n",
       "      <td>17</td>\n",
       "      <td>3</td>\n",
       "      <td>5.6745166148175485e-06,1.878180592029821e-05,0...</td>\n",
       "      <td>4</td>\n",
       "      <td>1</td>\n",
       "      <td>0.731049</td>\n",
       "    </tr>\n",
       "    <tr>\n",
       "      <th>76699</th>\n",
       "      <td>CC(C)NC[C@H](O)COc1cccc2[nH]ccc12</td>\n",
       "      <td>17</td>\n",
       "      <td>2</td>\n",
       "      <td>3.0683963814226445e-06,2.096848277233221e-07,0...</td>\n",
       "      <td>4</td>\n",
       "      <td>1</td>\n",
       "      <td>0.731057</td>\n",
       "    </tr>\n",
       "  </tbody>\n",
       "</table>\n",
       "<p>76700 rows × 7 columns</p>\n",
       "</div>"
      ],
      "text/plain": [
       "                                                  SMILES  MB  Class  \\\n",
       "0                         C=CCc1ccccc1OC[C@@H](O)CNC(C)C   0      3   \n",
       "1      COc1ccc([C@H]2CCCn3nc(-c4ccc(-n5cnc(C)c5)c(OC)...   0      2   \n",
       "2      COc1nc(-c2nc3n(n2)CCC[C@@H]3c2ccc(C(F)(F)F)cc2...   0      2   \n",
       "3      C=C[C@@H](CNCc1ccc(OC)cc1)n1ccc2c([N+](=O)[O-]...   0      3   \n",
       "4      Cc1ccsc1[C@@]1(C/C=C/OC(=O)C(C)(C)C)C(=O)N(C)c...   0      2   \n",
       "...                                                  ...  ..    ...   \n",
       "76695                CN(C)CC[C@@H](c1ccc(Cl)cc1)c1ccccn1  17      3   \n",
       "76696              CN1C(=O)NC(=O)[C@@](C)(C2=CCCCC2)C1=O  17      2   \n",
       "76697                CN(C)CC[C@@H](c1ccc(Cl)cc1)c1ccccn1  17      2   \n",
       "76698                      O=C(c1ccccc1)[C@H](O)c1ccccc1  17      3   \n",
       "76699                  CC(C)NC[C@H](O)COc1cccc2[nH]ccc12  17      2   \n",
       "\n",
       "                                                    Pred k-fold  Class_b  \\\n",
       "0      0.0020866082049906254,0.014219977892935276,0.0...      0        1   \n",
       "1      0.0007065583486109972,0.0007496289908885956,0....      0        1   \n",
       "2      0.001747628441080451,5.960829639661824e-06,0.9...      0        1   \n",
       "3      3.287104846094735e-05,0.000531266734469682,0.0...      0        1   \n",
       "4      0.00012049739598296583,0.0037947266828268766,0...      0        1   \n",
       "...                                                  ...    ...      ...   \n",
       "76695  1.6406809777436138e-07,2.6435621691689448e-08,...      4        1   \n",
       "76696  5.4317742979037575e-06,5.377025331654295e-07,0...      4        1   \n",
       "76697  6.81766607613099e-08,5.547807990780029e-09,0.9...      4        1   \n",
       "76698  5.6745166148175485e-06,1.878180592029821e-05,0...      4        1   \n",
       "76699  3.0683963814226445e-06,2.096848277233221e-07,0...      4        1   \n",
       "\n",
       "         Pred_b  \n",
       "0      0.724598  \n",
       "1      0.730486  \n",
       "2      0.730368  \n",
       "3      0.730837  \n",
       "4      0.729516  \n",
       "...         ...  \n",
       "76695  0.731059  \n",
       "76696  0.731056  \n",
       "76697  0.731059  \n",
       "76698  0.731049  \n",
       "76699  0.731057  \n",
       "\n",
       "[76700 rows x 7 columns]"
      ]
     },
     "execution_count": 8,
     "metadata": {},
     "output_type": "execute_result"
    }
   ],
   "source": [
    "df"
   ]
  },
  {
   "cell_type": "code",
   "execution_count": 36,
   "id": "a2784286",
   "metadata": {},
   "outputs": [],
   "source": [
    "df_auc = df.groupby(by=['MB', 'k-fold']).apply(group_auc_b).reset_index().rename(columns={0: 'AUC'})\n",
    "\n",
    "auc_mean = df_auc.groupby('MB').mean().values.tolist()\n",
    "auc_std = df_auc.groupby('MB').std().values.tolist()"
   ]
  },
  {
   "cell_type": "code",
   "execution_count": 40,
   "id": "b03458eb",
   "metadata": {},
   "outputs": [
    {
     "name": "stdout",
     "output_type": "stream",
     "text": [
      "0.9250601391390202\n",
      "0.9041683268770617\n",
      "0.8896905097510794\n",
      "0.9244999736547485\n",
      "0.9077816747072822\n",
      "0.9016841938547323\n",
      "0.8585752757460312\n",
      "0.9600295173500983\n",
      "0.8071180588652981\n",
      "0.8049177520094677\n",
      "0.8411523999787441\n",
      "0.8055916060120992\n",
      "0.9222247254724574\n",
      "0.7986084510713227\n",
      "0.9122796311244061\n",
      "0.8403872935505449\n",
      "0.8711263769660306\n",
      "0.7852354156074568\n"
     ]
    }
   ],
   "source": [
    "print('\\n'.join([str(i[0]) for i in auc_mean]))"
   ]
  },
  {
   "cell_type": "code",
   "execution_count": 41,
   "id": "27556f40",
   "metadata": {},
   "outputs": [
    {
     "name": "stdout",
     "output_type": "stream",
     "text": [
      "0.01681808073407305\n",
      "0.016136657388257692\n",
      "0.008214448373404312\n",
      "0.010425738955762674\n",
      "0.012695074642096599\n",
      "0.015861326904136934\n",
      "0.014480809115812215\n",
      "0.01145580442815428\n",
      "0.04044148320672553\n",
      "0.018247947271667255\n",
      "0.026956135427280547\n",
      "0.031847288801418544\n",
      "0.015725483007665363\n",
      "0.026007519187623673\n",
      "0.020202134844326477\n",
      "0.045438569925306045\n",
      "0.016272970737815425\n",
      "0.012074329937914997\n"
     ]
    }
   ],
   "source": [
    "print('\\n'.join([str(i[0]) for i in auc_std]))"
   ]
  },
  {
   "cell_type": "code",
   "execution_count": 45,
   "id": "40c4072d",
   "metadata": {},
   "outputs": [],
   "source": [
    "df_kappa = df.groupby(by=['MB', 'k-fold']).apply(group_kappa_b).reset_index().rename(columns={0: 'KAPPA'})\n",
    "\n",
    "kappa_mean = df_kappa.groupby('MB').mean().values.tolist()\n",
    "kappa_std = df_kappa.groupby('MB').std().values.tolist()"
   ]
  },
  {
   "cell_type": "code",
   "execution_count": 46,
   "id": "beac725e",
   "metadata": {},
   "outputs": [
    {
     "name": "stdout",
     "output_type": "stream",
     "text": [
      "0.7937109321710841\n",
      "0.7296646161692705\n",
      "0.7483877998404702\n",
      "0.7123817743682315\n",
      "0.7574001998090558\n",
      "0.706871045503451\n",
      "0.7180663015089545\n",
      "0.8405207328202995\n",
      "0.659810124305045\n",
      "0.6736078234214404\n",
      "0.6952907185420049\n",
      "0.6433896170433432\n",
      "0.7890413680732126\n",
      "0.6325636397451166\n",
      "0.747183805259875\n",
      "0.7379787496710118\n",
      "0.6903303313021979\n",
      "0.5357122656239633\n"
     ]
    }
   ],
   "source": [
    "print('\\n'.join([str(i[0]) for i in kappa_mean]))"
   ]
  },
  {
   "cell_type": "code",
   "execution_count": 47,
   "id": "806dff47",
   "metadata": {},
   "outputs": [
    {
     "name": "stdout",
     "output_type": "stream",
     "text": [
      "0.029838111798518422\n",
      "0.029876247211846754\n",
      "0.022644851426632005\n",
      "0.03849447606296199\n",
      "0.008980164226781504\n",
      "0.024893192521558114\n",
      "0.022501109227369993\n",
      "0.031874678875502466\n",
      "0.06430171437291059\n",
      "0.02225859412043273\n",
      "0.014680761462882028\n",
      "0.0470213040490641\n",
      "0.021747170092645447\n",
      "0.07031453816207404\n",
      "0.04039498485248106\n",
      "0.056090214128358684\n",
      "0.040428319244924564\n",
      "0.04393073087385678\n"
     ]
    }
   ],
   "source": [
    "print('\\n'.join([str(i[0]) for i in kappa_std]))"
   ]
  },
  {
   "cell_type": "code",
   "execution_count": 48,
   "id": "9202cd64",
   "metadata": {},
   "outputs": [],
   "source": [
    "df_f1 = df.groupby(by=['MB', 'k-fold']).apply(group_f1_b).reset_index().rename(columns={0: 'F1'})\n",
    "\n",
    "f1_mean = df_f1.groupby('MB').mean().values.tolist()\n",
    "f1_std = df_f1.groupby('MB').std().values.tolist()"
   ]
  },
  {
   "cell_type": "code",
   "execution_count": 49,
   "id": "c0c98fe5",
   "metadata": {},
   "outputs": [
    {
     "name": "stdout",
     "output_type": "stream",
     "text": [
      "0.9120689655172415\n",
      "0.8648351648351648\n",
      "0.8881756756756756\n",
      "0.8571428571428571\n",
      "0.897003745318352\n",
      "0.8860655737704919\n",
      "0.8826923076923077\n",
      "0.9206185567010309\n",
      "0.8775897647544367\n",
      "0.8916015625\n",
      "0.8844155844155844\n",
      "0.8651542649727768\n",
      "0.9119760479041916\n",
      "0.8682027649769586\n",
      "0.8855999999999999\n",
      "0.9408333333333333\n",
      "0.8639130434782608\n",
      "0.8273381294964028\n"
     ]
    }
   ],
   "source": [
    "print('\\n'.join([str(i[0]) for i in f1_mean]))"
   ]
  },
  {
   "cell_type": "code",
   "execution_count": 50,
   "id": "586db5aa",
   "metadata": {},
   "outputs": [
    {
     "name": "stdout",
     "output_type": "stream",
     "text": [
      "0.010380684981717462\n",
      "0.014845336358358573\n",
      "0.011908484278388266\n",
      "0.01942601047215788\n",
      "0.007006849038902544\n",
      "0.006734293739817642\n",
      "0.00883868002739033\n",
      "0.015824826219596647\n",
      "0.018001745824903503\n",
      "0.006291063831408753\n",
      "0.010779133851072516\n",
      "0.014369248822124267\n",
      "0.0040168885823349725\n",
      "0.019167404924502692\n",
      "0.018242806801586242\n",
      "0.011562030771259658\n",
      "0.01526390407090615\n",
      "0.017437697328835627\n"
     ]
    }
   ],
   "source": [
    "print('\\n'.join([str(i[0]) for i in f1_std]))"
   ]
  },
  {
   "cell_type": "code",
   "execution_count": null,
   "id": "e99b10da",
   "metadata": {},
   "outputs": [],
   "source": []
  },
  {
   "cell_type": "markdown",
   "id": "2cf5dbcd",
   "metadata": {},
   "source": [
    "## ~~3. Input enantiomers~~"
   ]
  },
  {
   "cell_type": "code",
   "execution_count": 14,
   "id": "1a42c9fc",
   "metadata": {},
   "outputs": [],
   "source": [
    "dfs = []\n",
    "for mb in range(8): \n",
    "    for i in range(5):\n",
    "        dfs.append(pd.read_csv('../results2/molnet_chirality_cls_etkdg_csp{}-5fold_{}.csv'.format(str(mb), str(i)), \n",
    "                               sep='\\t', index_col=0))\n",
    "    df = pd.concat(dfs, ignore_index=True)"
   ]
  },
  {
   "cell_type": "code",
   "execution_count": 15,
   "id": "20228649",
   "metadata": {},
   "outputs": [],
   "source": [
    "df['Class_b'] = df['Class'].apply(binary_cls)\n",
    "df['Pred_b'] = df['Pred'].apply(binary_pred)"
   ]
  },
  {
   "cell_type": "code",
   "execution_count": 16,
   "id": "ccb1e488",
   "metadata": {},
   "outputs": [],
   "source": [
    "auc = df.groupby('MB').apply(group_auc_b)\n",
    "acc = df.groupby('MB').apply(group_acc_b)\n",
    "kappa = df.groupby('MB').apply(group_kappa_b)\n",
    "f1 = df.groupby('MB').apply(group_f1_b)"
   ]
  },
  {
   "cell_type": "code",
   "execution_count": 17,
   "id": "57d86382",
   "metadata": {},
   "outputs": [
    {
     "name": "stdout",
     "output_type": "stream",
     "text": [
      "AUC: \n",
      "0.8522865365098017\n",
      "0.8487269458299501\n",
      "0.8562846850551635\n",
      "0.8721774449141592\n",
      "0.8462670277362209\n",
      "0.8469771156263091\n",
      "0.8085270198739234\n",
      "0.9240780056934579 \n",
      "\n",
      "ACC: \n",
      "0.853448275862069\n",
      "0.8318681318681319\n",
      "0.8621621621621621\n",
      "0.8010989010989011\n",
      "0.8550561797752809\n",
      "0.8475409836065574\n",
      "0.8448224852071006\n",
      "0.8871134020618556 \n",
      "\n",
      "KAPPA: \n",
      "0.6553604384542251\n",
      "0.6633069099104763\n",
      "0.6854698575280131\n",
      "0.5995594692236252\n",
      "0.6578240271915469\n",
      "0.6024694126385716\n",
      "0.6241043426856498\n",
      "0.7737723772909767 \n",
      "\n",
      "F1: \n",
      "0.853448275862069\n",
      "0.8318681318681319\n",
      "0.8621621621621621\n",
      "0.8010989010989011\n",
      "0.8550561797752809\n",
      "0.8475409836065574\n",
      "0.8448224852071006\n",
      "0.8871134020618556 \n",
      "\n"
     ]
    }
   ],
   "source": [
    "print('AUC:', '\\n'+'\\n'.join(auc.astype(str).tolist()), '\\n')\n",
    "print('ACC:', '\\n'+'\\n'.join(acc.astype(str).tolist()), '\\n')\n",
    "print('KAPPA:', '\\n'+'\\n'.join(kappa.astype(str).tolist()), '\\n')\n",
    "print('F1:', '\\n'+'\\n'.join(f1.astype(str).tolist()), '\\n')"
   ]
  },
  {
   "cell_type": "code",
   "execution_count": null,
   "id": "37779409",
   "metadata": {},
   "outputs": [],
   "source": []
  },
  {
   "cell_type": "code",
   "execution_count": null,
   "id": "c7c5d200",
   "metadata": {},
   "outputs": [],
   "source": []
  },
  {
   "cell_type": "code",
   "execution_count": null,
   "id": "207bb12e",
   "metadata": {},
   "outputs": [],
   "source": []
  },
  {
   "cell_type": "code",
   "execution_count": null,
   "id": "edf41d2b",
   "metadata": {},
   "outputs": [],
   "source": []
  }
 ],
 "metadata": {
  "kernelspec": {
   "display_name": "molnet",
   "language": "python",
   "name": "molnet"
  },
  "language_info": {
   "codemirror_mode": {
    "name": "ipython",
    "version": 3
   },
   "file_extension": ".py",
   "mimetype": "text/x-python",
   "name": "python",
   "nbconvert_exporter": "python",
   "pygments_lexer": "ipython3",
   "version": "3.7.13"
  }
 },
 "nbformat": 4,
 "nbformat_minor": 5
}
