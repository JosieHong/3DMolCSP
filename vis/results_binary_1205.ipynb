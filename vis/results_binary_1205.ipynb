{
 "cells": [
  {
   "cell_type": "code",
   "execution_count": null,
   "id": "73090da3",
   "metadata": {},
   "outputs": [],
   "source": [
    "import pandas as pd\n",
    "import numpy as np\n",
    "\n",
    "from sklearn import metrics\n",
    "from sklearn import preprocessing\n",
    "import matplotlib.pyplot as plt\n",
    "import seaborn as sns\n",
    "\n",
    "from rdkit import Chem\n",
    "# suppress rdkit warning\n",
    "from rdkit import RDLogger\n",
    "RDLogger.DisableLog('rdApp.*')"
   ]
  },
  {
   "cell_type": "code",
   "execution_count": null,
   "id": "8deb19f7",
   "metadata": {},
   "outputs": [],
   "source": [
    "def group_f1_b(df): \n",
    "    label = np.array(df.Class_b.tolist(), dtype=int)\n",
    "    pred = np.array(df.Pred_b.tolist(), dtype=float)\n",
    "    pred = np.where(pred > 0.5, 1, 0)\n",
    "    score = metrics.f1_score(label, pred, average='micro')\n",
    "    return score\n",
    "\n",
    "def group_kappa_b(df): \n",
    "    label = np.array(df.Class_b.tolist(), dtype=int)\n",
    "    pred = np.array(df.Pred_b.tolist(), dtype=float)\n",
    "    pred = np.where(pred > 0.5, 1, 0)\n",
    "    score = metrics.cohen_kappa_score(label, pred)\n",
    "    return score\n",
    "\n",
    "def group_acc_b(df): \n",
    "    label = np.array(df.Class_b.tolist(), dtype=int)\n",
    "    pred = np.array(df.Pred_b.tolist(), dtype=float)\n",
    "    pred = np.where(pred > 0.5, 1, 0)\n",
    "    score = metrics.accuracy_score(label, pred)\n",
    "    return score\n",
    "\n",
    "def group_auc_b(df): \n",
    "    label = np.array(df.Class_b.tolist(), dtype=int)\n",
    "    pred = np.array(df.Pred_b.tolist(), dtype=float)\n",
    "    score = metrics.roc_auc_score(label, pred)\n",
    "    return score"
   ]
  },
  {
   "cell_type": "code",
   "execution_count": null,
   "id": "0a9cf0c7",
   "metadata": {},
   "outputs": [],
   "source": [
    "from scipy.special import softmax\n",
    "\n",
    "def binary_cls(cls):\n",
    "    if cls == 0 or cls == 1:\n",
    "        return 0\n",
    "    elif cls == 2 or cls == 3:\n",
    "        return 1\n",
    "    else:\n",
    "        return None\n",
    "    \n",
    "def binary_pred(pred):\n",
    "    pred = np.array(pred.split(','), dtype=float)\n",
    "    pred_b = np.array([pred[0]+pred[1], pred[2]+pred[3]])\n",
    "    pred_b = softmax(pred_b)\n",
    "    return pred_b[1] # the probability to greater label"
   ]
  },
  {
   "cell_type": "markdown",
   "id": "64e20d18",
   "metadata": {},
   "source": [
    "## 3DMolCSP-TL"
   ]
  },
  {
   "cell_type": "code",
   "execution_count": null,
   "id": "1ec5ba68",
   "metadata": {},
   "outputs": [],
   "source": [
    "dfs = []\n",
    "for mb in range(18): \n",
    "    for i in range(5):\n",
    "        dfs.append(pd.read_csv('../results1205/molnet_chirality_cls_etkdg_csp{}-5fold_tl_{}.csv'.format(str(mb), str(i)), \n",
    "                               sep='\\t', index_col=0))\n",
    "df = pd.concat(dfs, ignore_index=True)"
   ]
  },
  {
   "cell_type": "code",
   "execution_count": null,
   "id": "2637d80b",
   "metadata": {},
   "outputs": [],
   "source": [
    "df"
   ]
  },
  {
   "cell_type": "code",
   "execution_count": null,
   "id": "34283cae",
   "metadata": {},
   "outputs": [],
   "source": [
    "df = df.rename(columns={'SMILES': 'SMILES_iso'})\n",
    "df['SMILES'] = df['SMILES_iso'].apply(lambda x: Chem.MolToSmiles(Chem.MolFromSmiles(x), isomericSmiles=False))\n",
    "\n",
    "df['MB'] = df['MB'].astype(int)\n",
    "df['Class_b'] = df['Class'].apply(binary_cls)\n",
    "df['Pred_b'] = df['Pred'].apply(binary_pred)\n",
    "df['Chir_tag'] = df['SMILES_iso'].apply(lambda x: ''.join(['0' if str(atom.GetChiralTag()) == 'CHI_UNSPECIFIED' else '1' for atom in Chem.MolFromSmiles(x).GetAtoms()]))"
   ]
  },
  {
   "cell_type": "code",
   "execution_count": null,
   "id": "17ac8e5d",
   "metadata": {},
   "outputs": [],
   "source": [
    "df"
   ]
  },
  {
   "cell_type": "code",
   "execution_count": null,
   "id": "da829640",
   "metadata": {},
   "outputs": [],
   "source": [
    "df_uniq = df.sort_values(['SMILES_iso', 'Chir_tag', 'MB', 'Class'], ascending=False).drop_duplicates(['SMILES_iso', 'Chir_tag', 'MB'], keep='first').sort_index()\n",
    "\n",
    "df_uniq = df_uniq.groupby(by=['SMILES', 'Chir_tag', 'MB']).filter(lambda x: len(x) == 2)"
   ]
  },
  {
   "cell_type": "code",
   "execution_count": null,
   "id": "eb6fb3a3",
   "metadata": {},
   "outputs": [],
   "source": [
    "df_pred = df_uniq.groupby(by=['SMILES', 'Chir_tag', 'MB'])['Pred_b'].mean().to_frame(name='Pred_b').reset_index()\n",
    "\n",
    "df_pred = df_pred.merge(df[['SMILES', 'MB', 'Chir_tag', 'Class_b']], on=['SMILES', 'MB', 'Chir_tag'], how='left').drop_duplicates(['SMILES', 'MB', 'Chir_tag'], keep='first').sort_index()"
   ]
  },
  {
   "cell_type": "code",
   "execution_count": null,
   "id": "c54e480f",
   "metadata": {},
   "outputs": [],
   "source": [
    "df_pred"
   ]
  },
  {
   "cell_type": "code",
   "execution_count": null,
   "id": "cf0352c7",
   "metadata": {},
   "outputs": [],
   "source": [
    "auc = df_pred.groupby('MB').apply(group_auc_b)\n",
    "acc = df_pred.groupby('MB').apply(group_acc_b)\n",
    "kappa = df_pred.groupby('MB').apply(group_kappa_b)\n",
    "f1 = df_pred.groupby('MB').apply(group_f1_b)"
   ]
  },
  {
   "cell_type": "code",
   "execution_count": null,
   "id": "573f9a50",
   "metadata": {},
   "outputs": [],
   "source": [
    "print('AUC:', '\\n'+'\\n'.join(auc.astype(str).tolist()), '\\n')\n",
    "print('ACC:', '\\n'+'\\n'.join(acc.astype(str).tolist()), '\\n')\n",
    "print('KAPPA:', '\\n'+'\\n'.join(kappa.astype(str).tolist()), '\\n')\n",
    "print('F1:', '\\n'+'\\n'.join(f1.astype(str).tolist()), '\\n')"
   ]
  },
  {
   "cell_type": "markdown",
   "id": "910a539c",
   "metadata": {},
   "source": [
    "### average on k-folds"
   ]
  },
  {
   "cell_type": "code",
   "execution_count": null,
   "id": "aef80a94",
   "metadata": {},
   "outputs": [],
   "source": [
    "dfs = []\n",
    "for mb in range(18): \n",
    "    for i in range(5):\n",
    "        df_tmp = pd.read_csv('../results0804/molnet_chirality_cls_etkdg_csp{}-5fold_tl_{}.csv'.format(str(mb), str(i)), \n",
    "                               sep='\\t', index_col=0)\n",
    "        df_tmp['k-fold'] = str(i)\n",
    "        dfs.append(df_tmp)\n",
    "df = pd.concat(dfs, ignore_index=True)"
   ]
  },
  {
   "cell_type": "code",
   "execution_count": null,
   "id": "9e3c6cf2",
   "metadata": {},
   "outputs": [],
   "source": [
    "df = df.rename(columns={'SMILES': 'SMILES_iso'})\n",
    "df['SMILES'] = df['SMILES_iso'].apply(lambda x: Chem.MolToSmiles(Chem.MolFromSmiles(x), isomericSmiles=False))\n",
    "\n",
    "df['MB'] = df['MB'].astype(int)\n",
    "df['Class_b'] = df['Class'].apply(binary_cls)\n",
    "df['Pred_b'] = df['Pred'].apply(binary_pred)\n",
    "df['Chir_tag'] = df['SMILES_iso'].apply(lambda x: ''.join(['0' if str(atom.GetChiralTag()) == 'CHI_UNSPECIFIED' else '1' for atom in Chem.MolFromSmiles(x).GetAtoms()]))"
   ]
  },
  {
   "cell_type": "code",
   "execution_count": null,
   "id": "5858300e",
   "metadata": {},
   "outputs": [],
   "source": [
    "df_uniq = df.sort_values(['SMILES_iso', 'Chir_tag', 'MB', 'Class'], ascending=False).drop_duplicates(['SMILES_iso', 'Chir_tag', 'MB'], keep='first').sort_index()\n",
    "\n",
    "df_uniq = df_uniq.groupby(by=['SMILES', 'Chir_tag', 'MB', 'k-fold']).filter(lambda x: len(x) == 2)"
   ]
  },
  {
   "cell_type": "code",
   "execution_count": null,
   "id": "104bc106",
   "metadata": {},
   "outputs": [],
   "source": [
    "df_pred = df_uniq.groupby(by=['SMILES', 'Chir_tag', 'MB', 'k-fold'])['Pred_b'].mean().to_frame(name='Pred_b').reset_index()\n",
    "\n",
    "df_pred = df_pred.merge(df[['SMILES', 'MB', 'Chir_tag', \n",
    "                            'Class_b', 'k-fold']], \n",
    "                        on=['SMILES', 'MB', 'Chir_tag', 'k-fold'], \n",
    "                        how='left').drop_duplicates(['SMILES', 'MB', 'Chir_tag', 'k-fold'], keep='first').sort_index()"
   ]
  },
  {
   "cell_type": "code",
   "execution_count": null,
   "id": "7cd76d2d",
   "metadata": {},
   "outputs": [],
   "source": [
    "df_pred"
   ]
  },
  {
   "cell_type": "code",
   "execution_count": null,
   "id": "a2784286",
   "metadata": {},
   "outputs": [],
   "source": [
    "df_auc = df_pred.groupby(by=['MB', 'k-fold']).apply(group_auc_b).reset_index().rename(columns={0: 'AUC'})\n",
    "\n",
    "auc_mean = df_auc.groupby('MB').mean().values.tolist()\n",
    "auc_std = df_auc.groupby('MB').std().values.tolist()"
   ]
  },
  {
   "cell_type": "code",
   "execution_count": null,
   "id": "fb95600d",
   "metadata": {},
   "outputs": [],
   "source": [
    "df_auc[df_auc['MB'] == 6]"
   ]
  },
  {
   "cell_type": "code",
   "execution_count": null,
   "id": "760c4008",
   "metadata": {},
   "outputs": [],
   "source": [
    "df_auc[df_auc['MB'] == 8]"
   ]
  },
  {
   "cell_type": "code",
   "execution_count": null,
   "id": "b429cb8b",
   "metadata": {},
   "outputs": [],
   "source": [
    "df_auc[df_auc['MB'] == 9]"
   ]
  },
  {
   "cell_type": "code",
   "execution_count": null,
   "id": "e24559b0",
   "metadata": {},
   "outputs": [],
   "source": [
    "df_auc[df_auc['MB'] == 11]"
   ]
  },
  {
   "cell_type": "code",
   "execution_count": null,
   "id": "acfaf4dc",
   "metadata": {},
   "outputs": [],
   "source": [
    "df_auc[df_auc['MB'] == 15]"
   ]
  },
  {
   "cell_type": "code",
   "execution_count": null,
   "id": "b03458eb",
   "metadata": {},
   "outputs": [],
   "source": [
    "print('\\n'.join([str(i[0]) for i in auc_mean]))"
   ]
  },
  {
   "cell_type": "code",
   "execution_count": null,
   "id": "27556f40",
   "metadata": {},
   "outputs": [],
   "source": [
    "print('\\n'.join([str(i[0]) for i in auc_std]))"
   ]
  },
  {
   "cell_type": "code",
   "execution_count": null,
   "id": "40c4072d",
   "metadata": {},
   "outputs": [],
   "source": [
    "df_kappa = df_pred.groupby(by=['MB', 'k-fold']).apply(group_kappa_b).reset_index().rename(columns={0: 'KAPPA'})\n",
    "\n",
    "kappa_mean = df_kappa.groupby('MB').mean().values.tolist()\n",
    "kappa_std = df_kappa.groupby('MB').std().values.tolist()"
   ]
  },
  {
   "cell_type": "code",
   "execution_count": null,
   "id": "beac725e",
   "metadata": {},
   "outputs": [],
   "source": [
    "print('\\n'.join([str(i[0]) for i in kappa_mean]))"
   ]
  },
  {
   "cell_type": "code",
   "execution_count": null,
   "id": "806dff47",
   "metadata": {},
   "outputs": [],
   "source": [
    "print('\\n'.join([str(i[0]) for i in kappa_std]))"
   ]
  },
  {
   "cell_type": "code",
   "execution_count": null,
   "id": "9202cd64",
   "metadata": {},
   "outputs": [],
   "source": [
    "df_f1 = df_pred.groupby(by=['MB', 'k-fold']).apply(group_f1_b).reset_index().rename(columns={0: 'F1'})\n",
    "\n",
    "f1_mean = df_f1.groupby('MB').mean().values.tolist()\n",
    "f1_std = df_f1.groupby('MB').std().values.tolist()"
   ]
  },
  {
   "cell_type": "code",
   "execution_count": null,
   "id": "c0c98fe5",
   "metadata": {},
   "outputs": [],
   "source": [
    "print('\\n'.join([str(i[0]) for i in f1_mean]))"
   ]
  },
  {
   "cell_type": "code",
   "execution_count": null,
   "id": "586db5aa",
   "metadata": {},
   "outputs": [],
   "source": [
    "print('\\n'.join([str(i[0]) for i in f1_std]))"
   ]
  },
  {
   "cell_type": "code",
   "execution_count": null,
   "id": "e99b10da",
   "metadata": {},
   "outputs": [],
   "source": []
  },
  {
   "cell_type": "code",
   "execution_count": null,
   "id": "edf41d2b",
   "metadata": {},
   "outputs": [],
   "source": []
  }
 ],
 "metadata": {
  "kernelspec": {
   "display_name": "molnet",
   "language": "python",
   "name": "molnet"
  },
  "language_info": {
   "codemirror_mode": {
    "name": "ipython",
    "version": 3
   },
   "file_extension": ".py",
   "mimetype": "text/x-python",
   "name": "python",
   "nbconvert_exporter": "python",
   "pygments_lexer": "ipython3",
   "version": "3.7.13"
  }
 },
 "nbformat": 4,
 "nbformat_minor": 5
}
